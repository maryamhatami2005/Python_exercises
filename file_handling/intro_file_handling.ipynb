{
 "cells": [
  {
   "cell_type": "markdown",
   "id": "5496c9c1",
   "metadata": {},
   "source": [
    "**Tasks:**\n",
    "\n",
    "1. **Read from a Text File**:\n",
    "   Given a text file named `example.txt` with some content, write a Python script to open the file in read mode and print its contents to the console.\n",
    "\n",
    "2. **Write to a Text File**:\n",
    "   Create a new text file named `output.txt` and write multiple lines of text to it using Python. Then, reopen the file in read mode and print its contents to verify that the writing was successful.\n",
    "\n",
    "3. **Append to a Text File**:\n",
    "   Reopen the `output.txt` file in append mode and add a new line of text. After appending, read and print the entire file to see the updated contents.\n",
    "\n",
    "4. **Using the `with` Statement**:\n",
    "   Modify the previous tasks to use the `with` statement to ensure that the file is properly closed after the operations are completed.\n",
    "\n",
    "5. **Bonus: Type Hinting and Docstrings**:\n",
    "   Write a function that takes a file name and a mode as parameters, opens the file with the given mode, and prints its contents. Include a docstring that explains the function's purpose, parameters, and behavior. Also, use type hints to indicate the types of the parameters."
   ]
  },
  {
   "cell_type": "code",
   "execution_count": 4,
   "id": "8504b540",
   "metadata": {},
   "outputs": [
    {
     "name": "stdout",
     "output_type": "stream",
     "text": [
      "Hello, World!\n",
      "This is a sample text file.\n"
     ]
    }
   ],
   "source": [
    "key = open(\"example.txt\")\n",
    "content = key.read()\n",
    "print(content)"
   ]
  },
  {
   "cell_type": "code",
   "execution_count": 6,
   "id": "e0bce7db",
   "metadata": {},
   "outputs": [
    {
     "name": "stdout",
     "output_type": "stream",
     "text": [
      "This is the first line.\n",
      "This is the second line.\n",
      "\n"
     ]
    }
   ],
   "source": [
    "string_lines = [\n",
    "    \"This is the first line.\\n\",\n",
    "    \"This is the second line.\\n\"\n",
    "]\n",
    "\n",
    "with open('output.txt', 'w') as obj:\n",
    "    obj.writelines(string_lines)\n",
    "\n",
    "with open(\"output.txt\", 'r') as obj:\n",
    "    content = obj.read()\n",
    "    print(content)"
   ]
  },
  {
   "cell_type": "code",
   "execution_count": null,
   "id": "d02deef2",
   "metadata": {},
   "outputs": [],
   "source": []
  }
 ],
 "metadata": {
  "kernelspec": {
   "display_name": "python2023",
   "language": "python",
   "name": "python3"
  },
  "language_info": {
   "codemirror_mode": {
    "name": "ipython",
    "version": 3
   },
   "file_extension": ".py",
   "mimetype": "text/x-python",
   "name": "python",
   "nbconvert_exporter": "python",
   "pygments_lexer": "ipython3",
   "version": "3.13.5"
  }
 },
 "nbformat": 4,
 "nbformat_minor": 5
}
