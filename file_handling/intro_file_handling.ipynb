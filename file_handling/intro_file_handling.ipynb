{
 "cells": [
  {
   "cell_type": "markdown",
   "id": "bbfe77a9",
   "metadata": {},
   "source": [
    "**Tasks:**\n",
    "\n",
    "1. **Read from a Text File**:\n",
    "   Given a text file named `example.txt` with some content, write a Python script to open the file in read mode and print its contents to the console."
   ]
  },
  {
   "cell_type": "code",
   "execution_count": 19,
   "id": "8504b540",
   "metadata": {},
   "outputs": [
    {
     "name": "stdout",
     "output_type": "stream",
     "text": [
      "Hello, World!\n",
      "This is a sample text file.\n"
     ]
    }
   ],
   "source": [
    "key = open(\"example.txt\")\n",
    "content = key.read()\n",
    "print(content)"
   ]
  },
  {
   "cell_type": "markdown",
   "id": "7ec8c43b",
   "metadata": {},
   "source": [
    "2. **Write to a Text File**:\n",
    "   Create a new text file named `output.txt` and write multiple lines of text to it using Python. Then, reopen the file in read mode and print its contents to verify that the writing was successful."
   ]
  },
  {
   "cell_type": "code",
   "execution_count": 6,
   "id": "e0bce7db",
   "metadata": {},
   "outputs": [
    {
     "name": "stdout",
     "output_type": "stream",
     "text": [
      "This is the first line.\n",
      "This is the second line.\n",
      "\n"
     ]
    }
   ],
   "source": [
    "string_lines = [\n",
    "    \"This is the first line.\\n\",\n",
    "    \"This is the second line.\\n\"\n",
    "]\n",
    "\n",
    "with open('output.txt', 'w') as obj:\n",
    "    obj.writelines(string_lines)\n",
    "\n",
    "with open(\"output.txt\", 'r') as obj:\n",
    "    content = obj.read()\n",
    "    print(content)"
   ]
  },
  {
   "cell_type": "markdown",
   "id": "77cdfc3b",
   "metadata": {},
   "source": [
    "3. **Append to a Text File**:\n",
    "   Reopen the `output.txt` file in append mode and add a new line of text. After appending, read and print the entire file to see the updated contents."
   ]
  },
  {
   "cell_type": "code",
   "execution_count": 7,
   "id": "d02deef2",
   "metadata": {},
   "outputs": [
    {
     "name": "stdout",
     "output_type": "stream",
     "text": [
      "This is the first line.\n",
      "This is the second line.\n",
      "This is a new line added in append mode.\n",
      "\n"
     ]
    }
   ],
   "source": [
    "with open('output.txt', 'a') as file:\n",
    "    file.write(\"This is a new line added in append mode.\\n\")\n",
    "\n",
    "with open(\"output.txt\") as file:\n",
    "    content = file.read()\n",
    "    print(content)"
   ]
  },
  {
   "cell_type": "markdown",
   "id": "feaece49",
   "metadata": {},
   "source": [
    "4. **Bonus: Type Hinting and Docstrings**:\n",
    "   Write a function that takes a file name and a mode as parameters, opens the file with the given mode, and prints its contents. Include a docstring that explains the function's purpose, parameters, and behavior. Also, use type hints to indicate the types of the parameters."
   ]
  },
  {
   "cell_type": "code",
   "execution_count": 20,
   "id": "a35db11d",
   "metadata": {},
   "outputs": [],
   "source": [
    "def file_handling(name: str, mode= str)-> None:\n",
    "    \"\"\"\n",
    "    This function takes a file name and mode then prints its contents.\n",
    "    :param name: The name of the file to open\n",
    "    :param mode: The mode in which to open the file ('r' for read, 'w' for write, etc.).\n",
    "    \"\"\"\n",
    "    with open(name, mode) as file:\n",
    "        contenct = file.read()\n",
    "        print(content)"
   ]
  },
  {
   "cell_type": "code",
   "execution_count": 21,
   "id": "de11a11e",
   "metadata": {},
   "outputs": [
    {
     "name": "stdout",
     "output_type": "stream",
     "text": [
      "Hello, World!\n",
      "This is a sample text file.\n"
     ]
    }
   ],
   "source": [
    "file_handling(\"example.txt\", 'r')"
   ]
  },
  {
   "cell_type": "markdown",
   "id": "51cc4f8d",
   "metadata": {},
   "source": [
    "5. **Count Specific Word Occurrences:**\n",
    "\n",
    "    Write a function that counts how many times a specific word appears in a text file. Make it case-insensitive."
   ]
  },
  {
   "cell_type": "code",
   "execution_count": null,
   "id": "61bdff7d",
   "metadata": {},
   "outputs": [],
   "source": [
    "with open(\"example_2nd.txt\", 'w') as file:\n",
    "    text = \"\"\"\n",
    "Python is an amazing programming language. Python is used in web development, data science, automation, and many other fields.\n",
    "\n",
    "Many developers love Python because of its readability and vast ecosystem. Python makes it easy to write clean and efficient code.\n",
    "\n",
    "Whether you're building web apps, analyzing data, or automating tasks, Python is often a top choice.\n",
    "\"\"\"\n",
    "    file.write(text)\n",
    "\n",
    "def text_search(file_path, word):\n",
    "    with open(file_path, \"r\") as file:\n",
    "        content = file.read()\n",
    "        counter = content.lower()\n",
    "        counter = counter.count(word)\n",
    "        print(f\"{word} appears {counter} time in this file.\")"
   ]
  },
  {
   "cell_type": "code",
   "execution_count": 13,
   "id": "f9aef7a5",
   "metadata": {},
   "outputs": [
    {
     "name": "stdout",
     "output_type": "stream",
     "text": [
      "python appears 5 time in this file.\n"
     ]
    }
   ],
   "source": [
    "text_search(\"example_2nd.txt\", \"python\")"
   ]
  },
  {
   "cell_type": "markdown",
   "id": "5750ee8c",
   "metadata": {},
   "source": [
    "6. **Count Words in a File:**\n",
    "\n",
    "    Read the contents of a text file and count how many words it contains. Print the total number of words."
   ]
  },
  {
   "cell_type": "code",
   "execution_count": null,
   "id": "cdc48841",
   "metadata": {},
   "outputs": [
    {
     "name": "stdout",
     "output_type": "stream",
     "text": [
      "There are 56 words in this file.\n"
     ]
    }
   ],
   "source": [
    "with open(\"example_2nd.txt\") as file:\n",
    "    content = file.read()\n",
    "    content = content.split()\n",
    "    count = len(content)\n",
    "    print(f\"There are {count} words in this file.\")"
   ]
  }
 ],
 "metadata": {
  "kernelspec": {
   "display_name": "python2023",
   "language": "python",
   "name": "python3"
  },
  "language_info": {
   "codemirror_mode": {
    "name": "ipython",
    "version": 3
   },
   "file_extension": ".py",
   "mimetype": "text/x-python",
   "name": "python",
   "nbconvert_exporter": "python",
   "pygments_lexer": "ipython3",
   "version": "3.13.5"
  }
 },
 "nbformat": 4,
 "nbformat_minor": 5
}
