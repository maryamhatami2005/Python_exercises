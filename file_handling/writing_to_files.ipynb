{
 "cells": [
  {
   "cell_type": "markdown",
   "id": "9291bb65",
   "metadata": {},
   "source": [
    "**Tasks:**\n",
    "\n",
    "1. **Create a New Note**:\n",
    "   Write a function `create_note()` that takes a filename and a note (string) as parameters. The function should open the specified file in write mode and save the note to the file. If the file already exists, it should be overwritten."
   ]
  },
  {
   "cell_type": "code",
   "execution_count": 37,
   "id": "5bd167ee",
   "metadata": {},
   "outputs": [],
   "source": [
    "def create_note(file_path, note):\n",
    "    with open(file_path, 'w') as file:\n",
    "        file.write(note + \"\\n\")\n",
    "    \n",
    "    with open(file_path) as file_reader:\n",
    "        content = file_reader.read()\n",
    "        print(content)"
   ]
  },
  {
   "cell_type": "code",
   "execution_count": 38,
   "id": "e4e332c6",
   "metadata": {},
   "outputs": [
    {
     "name": "stdout",
     "output_type": "stream",
     "text": [
      "This is a test.\n",
      "\n"
     ]
    }
   ],
   "source": [
    "create_note('example_file.txt', \"This is a test.\")"
   ]
  },
  {
   "cell_type": "markdown",
   "id": "ea643ddc",
   "metadata": {},
   "source": [
    "2. **Add to an Existing Note**:\n",
    "   Write a function `add_to_note()` that takes a filename and a note (string) as parameters. The function should open the specified file in append mode and add the note to the end of the file.\n"
   ]
  },
  {
   "cell_type": "code",
   "execution_count": 39,
   "id": "6448debb",
   "metadata": {},
   "outputs": [],
   "source": [
    "def add_to_note(file_path, note):\n",
    "    with open(file_path, 'a') as file:\n",
    "        file.write(note + \"\\n\")\n",
    "        \n",
    "    with open(file_path) as file_reader:\n",
    "        content = file_reader.read()\n",
    "        print(content)"
   ]
  },
  {
   "cell_type": "code",
   "execution_count": 40,
   "id": "e030f0ab",
   "metadata": {},
   "outputs": [
    {
     "name": "stdout",
     "output_type": "stream",
     "text": [
      "This is a test.\n",
      "This is written in append mode.\n",
      "\n"
     ]
    }
   ],
   "source": [
    "add_to_note('example_file.txt', \"This is written in append mode.\")"
   ]
  },
  {
   "cell_type": "markdown",
   "id": "946a7c45",
   "metadata": {},
   "source": [
    "3. **Save Multiple Notes**:\n",
    "   Write a function `save_notes()` that takes a filename and a list of notes. The function should use the `writelines()` method to write each note to the file. Ensure each note is on a new line."
   ]
  },
  {
   "cell_type": "code",
   "execution_count": 41,
   "id": "76306890",
   "metadata": {},
   "outputs": [],
   "source": [
    "def save_notes(file_path, notes):\n",
    "    with open(file_path, 'a') as file:\n",
    "        file.writelines(note + '\\n' for note in notes)\n",
    "\n",
    "    with open(file_path) as file_reader:\n",
    "        content = file_reader.read()\n",
    "        print(content)"
   ]
  },
  {
   "cell_type": "code",
   "execution_count": 42,
   "id": "82748694",
   "metadata": {},
   "outputs": [
    {
     "name": "stdout",
     "output_type": "stream",
     "text": [
      "This is a test.\n",
      "This is written in append mode.\n",
      "1st\n",
      "2nd\n",
      "3rd\n",
      "\n"
     ]
    }
   ],
   "source": [
    "notes = [\n",
    "    '1st',\n",
    "    '2nd',\n",
    "    '3rd'\n",
    "]\n",
    "save_notes('example_file.txt', notes)"
   ]
  },
  {
   "cell_type": "markdown",
   "id": "d22bedc1",
   "metadata": {},
   "source": [
    "4. **Generate a Summary Report**:\n",
    "   After saving notes, write a function `generate_report()` that reads the file containing the notes and generates a report. The report should count the number of notes and summarize the content by showing the first 15 characters of each note. Save this report to a new file."
   ]
  },
  {
   "cell_type": "code",
   "execution_count": 54,
   "id": "d89df1eb",
   "metadata": {},
   "outputs": [],
   "source": [
    "def generate_report(notes_filename, report_filename):\n",
    "    with open(notes_filename, 'r') as file:\n",
    "        notes = file.readlines()\n",
    "\n",
    "    with open(report_filename, 'w') as file:\n",
    "        file.write(f\"Number of notes: {len(notes)}\\n\")\n",
    "        file.write(\"Summary of Notes:\\n\")\n",
    "        for note in notes:\n",
    "            file.write(note[:15] + '...\\n')"
   ]
  },
  {
   "cell_type": "code",
   "execution_count": 56,
   "id": "46e5a069",
   "metadata": {},
   "outputs": [],
   "source": [
    "generate_report('notes_file.txt', 'report_note.txt')"
   ]
  }
 ],
 "metadata": {
  "kernelspec": {
   "display_name": "python2023",
   "language": "python",
   "name": "python3"
  },
  "language_info": {
   "codemirror_mode": {
    "name": "ipython",
    "version": 3
   },
   "file_extension": ".py",
   "mimetype": "text/x-python",
   "name": "python",
   "nbconvert_exporter": "python",
   "pygments_lexer": "ipython3",
   "version": "3.13.5"
  }
 },
 "nbformat": 4,
 "nbformat_minor": 5
}
