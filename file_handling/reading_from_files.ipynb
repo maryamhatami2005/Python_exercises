{
 "cells": [
  {
   "cell_type": "markdown",
   "id": "278396c6",
   "metadata": {},
   "source": [
    "**Tasks:**\n",
    "\n",
    "1. **Read Entire File Content**:\n",
    "   Write a Python script to open `sample.txt` in read mode and use the `read()` method to read the entire file content. Print the content and handle any exceptions that might occur."
   ]
  },
  {
   "cell_type": "code",
   "execution_count": 18,
   "id": "f6e052e6",
   "metadata": {},
   "outputs": [],
   "source": [
    "file_path = \"/home/mary/pytopia_python2023/python_exercises/file_handling/sample.txt\""
   ]
  },
  {
   "cell_type": "code",
   "execution_count": 19,
   "id": "1285f85a",
   "metadata": {},
   "outputs": [
    {
     "name": "stdout",
     "output_type": "stream",
     "text": [
      "Welcome to Python file reading\n",
      "This is the second line.\n",
      "Here is the third line.\n",
      "End of the file.\n"
     ]
    }
   ],
   "source": [
    "with open(file_path) as file:\n",
    "    content = file.read()\n",
    "    print(content)"
   ]
  },
  {
   "cell_type": "markdown",
   "id": "d80cde94",
   "metadata": {},
   "source": [
    "2. **Read File Line by Line**:\n",
    "   Modify your script to open `sample.txt` and use the `readline()` method in a loop to read each line one at a time. Print each line as it is read, and ensure all lines are read from the file."
   ]
  },
  {
   "cell_type": "code",
   "execution_count": 20,
   "id": "db1381ed",
   "metadata": {},
   "outputs": [
    {
     "name": "stdout",
     "output_type": "stream",
     "text": [
      "Welcome to Python file reading\n",
      "This is the second line.\n",
      "Here is the third line.\n",
      "End of the file."
     ]
    }
   ],
   "source": [
    "with open(file_path) as file:\n",
    "    line = file.readline()\n",
    "    while line:\n",
    "        print(line, end=\"\")\n",
    "        line = file.readline()"
   ]
  },
  {
   "cell_type": "markdown",
   "id": "b9977793",
   "metadata": {},
   "source": [
    "3. **Read All Lines into a List**:\n",
    "   Adjust your script to open `sample.txt` and use the `readlines()` method to read all lines into a list. Then, iterate over the list and print each line with its line number (starting from 1).\n"
   ]
  },
  {
   "cell_type": "code",
   "execution_count": 21,
   "id": "6603c176",
   "metadata": {},
   "outputs": [
    {
     "name": "stdout",
     "output_type": "stream",
     "text": [
      "0 Welcome to Python file reading\n",
      "\n",
      "1 This is the second line.\n",
      "\n",
      "2 Here is the third line.\n",
      "\n",
      "3 End of the file.\n"
     ]
    }
   ],
   "source": [
    "with open(file_path) as file:\n",
    "    list_content = file.readlines()\n",
    "    for ind,content in enumerate(list_content):\n",
    "        print(ind, content)"
   ]
  },
  {
   "cell_type": "markdown",
   "id": "aa9962f5",
   "metadata": {},
   "source": [
    "4. **Efficient Line-by-Line Iteration**:\n",
    "   Use a `for` loop to iterate over the file object and read `sample.txt` line by line efficiently. Print each line, preceded by the line number.\n"
   ]
  },
  {
   "cell_type": "code",
   "execution_count": 25,
   "id": "d0024673",
   "metadata": {},
   "outputs": [
    {
     "name": "stdout",
     "output_type": "stream",
     "text": [
      "1 Welcome to Python file reading\n",
      "2 This is the second line.\n",
      "3 Here is the third line.\n",
      "4 End of the file."
     ]
    }
   ],
   "source": [
    "with open(file_path) as file:\n",
    "    for ind, line in enumerate(file, start=1 ):\n",
    "        print(ind, line, end=\"\")"
   ]
  },
  {
   "cell_type": "markdown",
   "id": "e85093c6",
   "metadata": {},
   "source": [
    "5. **Bonus: Working with Different File Paths**:\n",
    "   Modify your script to prompt the user for a file path to read from. Ensure that your script handles the case when the file at the given path does not exist by printing a friendly error message."
   ]
  },
  {
   "cell_type": "code",
   "execution_count": 23,
   "id": "63bcc664",
   "metadata": {},
   "outputs": [
    {
     "name": "stdout",
     "output_type": "stream",
     "text": [
      " Readin from /home/mary/pytopia_python2023/python_exercises/file_handling/sample.txt\n",
      "1 Welcome to Python file reading\n",
      "2 This is the second line.\n",
      "3 Here is the third line.\n",
      "4 End of the file."
     ]
    }
   ],
   "source": [
    "file_path = input(\"Enter your file path: \")\n",
    "print(f\" Readin from {file_path}\")\n",
    "\n",
    "with open(file_path) as file:\n",
    "    for ind, line in enumerate(file, start=1):\n",
    "        print(ind, line, end=\"\")"
   ]
  }
 ],
 "metadata": {
  "kernelspec": {
   "display_name": "python2023",
   "language": "python",
   "name": "python3"
  },
  "language_info": {
   "codemirror_mode": {
    "name": "ipython",
    "version": 3
   },
   "file_extension": ".py",
   "mimetype": "text/x-python",
   "name": "python",
   "nbconvert_exporter": "python",
   "pygments_lexer": "ipython3",
   "version": "3.13.5"
  }
 },
 "nbformat": 4,
 "nbformat_minor": 5
}
