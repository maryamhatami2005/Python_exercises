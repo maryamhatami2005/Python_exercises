{
 "cells": [
  {
   "cell_type": "markdown",
   "id": "278396c6",
   "metadata": {},
   "source": [
    "**Tasks:**\n",
    "\n",
    "1. **Read Entire File Content**:\n",
    "   Write a Python script to open `sample.txt` in read mode and use the `read()` method to read the entire file content. Print the content and handle any exceptions that might occur.\n",
    "\n",
    "2. **Read File Line by Line**:\n",
    "   Modify your script to open `sample.txt` and use the `readline()` method in a loop to read each line one at a time. Print each line as it is read, and ensure all lines are read from the file.\n",
    "\n",
    "3. **Read All Lines into a List**:\n",
    "   Adjust your script to open `sample.txt` and use the `readlines()` method to read all lines into a list. Then, iterate over the list and print each line with its line number (starting from 1).\n",
    "\n",
    "4. **Efficient Line-by-Line Iteration**:\n",
    "   Use a `for` loop to iterate over the file object and read `sample.txt` line by line efficiently. Print each line, preceded by the line number.\n",
    "\n",
    "5. **Bonus: Working with Different File Paths**:\n",
    "   Modify your script to prompt the user for a file path to read from. Ensure that your script handles the case when the file at the given path does not exist by printing a friendly error message."
   ]
  }
 ],
 "metadata": {
  "language_info": {
   "name": "python"
  }
 },
 "nbformat": 4,
 "nbformat_minor": 5
}
