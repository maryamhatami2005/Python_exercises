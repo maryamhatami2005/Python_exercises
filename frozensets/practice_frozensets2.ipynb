{
 "cells": [
  {
   "cell_type": "markdown",
   "id": "724a59c6",
   "metadata": {},
   "source": [
    "**Sample Data:**"
   ]
  },
  {
   "cell_type": "code",
   "execution_count": null,
   "id": "1119c8dd",
   "metadata": {},
   "outputs": [],
   "source": []
  },
  {
   "cell_type": "markdown",
   "id": "c66fac6c",
   "metadata": {},
   "source": [
    "1. **Packing into Tuples**:\n",
    "   Create a tuple called `student_info` by packing the following individual variables: `name`, `age`, `grade`, and `subject`, which hold a student's name, age, grade (as a letter), and favorite subject, respectively."
   ]
  },
  {
   "cell_type": "code",
   "execution_count": 2,
   "id": "ec911827",
   "metadata": {},
   "outputs": [],
   "source": [
    "# Sample Data For Task 1\n",
    "name = \"Alice\"\n",
    "age = 17\n",
    "grade = \"A\"\n",
    "subject = \"Mathematics\""
   ]
  },
  {
   "cell_type": "markdown",
   "id": "1f02fa7d",
   "metadata": {},
   "source": [
    "2. **Unpacking from Tuples**:\n",
    "   Given a tuple `coordinates` with three elements representing x, y, and z coordinates, unpack these values into separate variables called `x`, `y`, and `z`. Print the variables.\n"
   ]
  },
  {
   "cell_type": "code",
   "execution_count": 3,
   "id": "4a0ba1bc",
   "metadata": {},
   "outputs": [],
   "source": [
    "# Sample Data For Task 2\n",
    "coordinates = (4, 5, 6)"
   ]
  },
  {
   "cell_type": "markdown",
   "id": "007c948d",
   "metadata": {},
   "source": [
    "3. **Unpacking from Lists**:\n",
    "   Suppose you have a list of scores `[72, 85, 90]`. Unpack the scores into variables `math_score`, `science_score`, and `english_score`, respectively. Then, print these variables."
   ]
  },
  {
   "cell_type": "markdown",
   "id": "6ca67366",
   "metadata": {},
   "source": [
    "4. **Unpacking Dictionaries**:\n",
    "   Given a dictionary `student`, with keys `name`, `age`, and `email`, unpack the values of this dictionary into variables `student_name`, `student_age`, and `student_email`. Print the variables."
   ]
  },
  {
   "cell_type": "code",
   "execution_count": 4,
   "id": "7b8f1b63",
   "metadata": {},
   "outputs": [],
   "source": [
    "# Sample Data For Task 4\n",
    "student = {\n",
    "    \"name\": \"Bob\",\n",
    "    \"age\": 20,\n",
    "    \"email\": \"bob@example.com\"\n",
    "}"
   ]
  },
  {
   "cell_type": "markdown",
   "id": "961ef136",
   "metadata": {},
   "source": [
    "5. **Extended Unpacking with Lists**:\n",
    "   You have a list of numbers `[1, 2, 3, 4, 5, 6, 7, 8]`. Use extended unpacking to get the first two numbers into variables `first_num` and `second_num`, and the rest of the numbers into a list called `remaining_numbers`."
   ]
  },
  {
   "cell_type": "markdown",
   "id": "70ab3f7b",
   "metadata": {},
   "source": [
    "6. **Bonus: Swapping Values**:\n",
    "   Without using a temporary variable, swap the values of two variables `a` and `b` using packing and unpacking.\n"
   ]
  }
 ],
 "metadata": {
  "kernelspec": {
   "display_name": "python2023",
   "language": "python",
   "name": "python3"
  },
  "language_info": {
   "codemirror_mode": {
    "name": "ipython",
    "version": 3
   },
   "file_extension": ".py",
   "mimetype": "text/x-python",
   "name": "python",
   "nbconvert_exporter": "python",
   "pygments_lexer": "ipython3",
   "version": "3.13.5"
  }
 },
 "nbformat": 4,
 "nbformat_minor": 5
}
