{
 "cells": [
  {
   "cell_type": "markdown",
   "id": "4d41448e",
   "metadata": {},
   "source": [
    "- **Exercise 1: Creating and Using `frozenset`**\n",
    "\n",
    "Create a `frozenset` named `permissions` that contains the strings 'read', 'write', and 'execute'. Then, check to see if the permission 'delete' is included in the `permissions` set.\n"
   ]
  },
  {
   "cell_type": "code",
   "execution_count": 1,
   "id": "13c6fb4b",
   "metadata": {},
   "outputs": [
    {
     "data": {
      "text/plain": [
       "False"
      ]
     },
     "execution_count": 1,
     "metadata": {},
     "output_type": "execute_result"
    }
   ],
   "source": [
    "permissions = frozenset(['read', 'write', 'execute'])\n",
    "'delete' in permissions"
   ]
  },
  {
   "cell_type": "markdown",
   "id": "a6566a85",
   "metadata": {},
   "source": [
    "- **Exercise 2: Set Operations with `frozenset`**\n",
    "\n",
    "Given `frozenset` A as `{1, 2, 3}` and `frozenset` B as `{2, 3, 4}`:\n",
    "- Find the union of A and B.\n",
    "- Determine the intersection.\n",
    "- Calculate the difference between A and B.\n"
   ]
  },
  {
   "cell_type": "code",
   "execution_count": 2,
   "id": "fcda3fe8",
   "metadata": {},
   "outputs": [],
   "source": [
    "frozen_set1 = frozenset([1,2,3])\n",
    "frozen_set2 = frozenset([2,3,4])"
   ]
  },
  {
   "cell_type": "code",
   "execution_count": 3,
   "id": "8539ceda",
   "metadata": {},
   "outputs": [
    {
     "data": {
      "text/plain": [
       "frozenset({1, 2, 3, 4})"
      ]
     },
     "execution_count": 3,
     "metadata": {},
     "output_type": "execute_result"
    }
   ],
   "source": [
    "frozen_set1 | frozen_set2"
   ]
  },
  {
   "cell_type": "code",
   "execution_count": 4,
   "id": "2e1163b5",
   "metadata": {},
   "outputs": [
    {
     "data": {
      "text/plain": [
       "frozenset({2, 3})"
      ]
     },
     "execution_count": 4,
     "metadata": {},
     "output_type": "execute_result"
    }
   ],
   "source": [
    "frozen_set1 & frozen_set2"
   ]
  },
  {
   "cell_type": "code",
   "execution_count": 5,
   "id": "5d61e0e9",
   "metadata": {},
   "outputs": [
    {
     "data": {
      "text/plain": [
       "frozenset({1})"
      ]
     },
     "execution_count": 5,
     "metadata": {},
     "output_type": "execute_result"
    }
   ],
   "source": [
    "frozen_set1 - frozen_set2"
   ]
  },
  {
   "cell_type": "markdown",
   "id": "b80dc758",
   "metadata": {},
   "source": [
    "- **Exercise 3: Using `frozenset` as a Dictionary Key**\n",
    "\n",
    "Create a dictionary `graph` where each key is a `frozenset` representing an edge in a graph, and the value is the weight of that edge. Here's an example edge: a `frozenset` of nodes (1, 2) with an edge weight of 10. Add at least two more edges with different weights.\n"
   ]
  },
  {
   "cell_type": "code",
   "execution_count": 6,
   "id": "f9adb951",
   "metadata": {},
   "outputs": [],
   "source": [
    "graph = {\n",
    "    frozenset([1,2]) : 10,\n",
    "    frozenset([3,4]) : 13,\n",
    "    frozenset([5,6]) : 17,\n",
    "}"
   ]
  },
  {
   "cell_type": "markdown",
   "id": "c5b2b39a",
   "metadata": {},
   "source": [
    "- **Exercise 4: Converting to `frozenset`**\n",
    "\n",
    "Take the list `['apple', 'banana', 'apple', 'cherry']` and convert it into a `frozenset` named `unique_fruits`. Verify that duplicates have been removed by converting the `frozenset` back to a list and checking its contents.\n"
   ]
  },
  {
   "cell_type": "code",
   "execution_count": 7,
   "id": "d395c6f9",
   "metadata": {},
   "outputs": [
    {
     "data": {
      "text/plain": [
       "frozenset({'apple', 'banana', 'cherry'})"
      ]
     },
     "execution_count": 7,
     "metadata": {},
     "output_type": "execute_result"
    }
   ],
   "source": [
    "unique_fruits = frozenset(['apple', 'banana', 'apple', 'cherry'])\n",
    "unique_fruits"
   ]
  },
  {
   "cell_type": "markdown",
   "id": "6a850ed5",
   "metadata": {},
   "source": [
    "- **Exercise 5: Checking Subset Relationship**\n",
    "\n",
    "\n",
    "Create two frozensets, A = {1, 2} and B = {1, 2, 3, 4}. Check if A is a subset of B and if B is a superset of A."
   ]
  },
  {
   "cell_type": "code",
   "execution_count": 1,
   "id": "956b4e46",
   "metadata": {},
   "outputs": [],
   "source": [
    "nums1 = frozenset([1, 2])\n",
    "nums2 = frozenset([1, 2, 3, 4])"
   ]
  },
  {
   "cell_type": "code",
   "execution_count": 2,
   "id": "889884ba",
   "metadata": {},
   "outputs": [
    {
     "data": {
      "text/plain": [
       "True"
      ]
     },
     "execution_count": 2,
     "metadata": {},
     "output_type": "execute_result"
    }
   ],
   "source": [
    "nums1.issubset(nums2)"
   ]
  },
  {
   "cell_type": "code",
   "execution_count": 3,
   "id": "2c1eb4ef",
   "metadata": {},
   "outputs": [
    {
     "data": {
      "text/plain": [
       "True"
      ]
     },
     "execution_count": 3,
     "metadata": {},
     "output_type": "execute_result"
    }
   ],
   "source": [
    "nums2.issuperset(nums1)"
   ]
  }
 ],
 "metadata": {
  "kernelspec": {
   "display_name": "python2023",
   "language": "python",
   "name": "python3"
  },
  "language_info": {
   "codemirror_mode": {
    "name": "ipython",
    "version": 3
   },
   "file_extension": ".py",
   "mimetype": "text/x-python",
   "name": "python",
   "nbconvert_exporter": "python",
   "pygments_lexer": "ipython3",
   "version": "3.13.5"
  }
 },
 "nbformat": 4,
 "nbformat_minor": 5
}
