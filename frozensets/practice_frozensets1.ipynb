{
 "cells": [
  {
   "cell_type": "markdown",
   "id": "4d41448e",
   "metadata": {},
   "source": [
    "- **Exercise 1: Creating and Using `frozenset`**\n",
    "\n",
    "Create a `frozenset` named `permissions` that contains the strings 'read', 'write', and 'execute'. Then, check to see if the permission 'delete' is included in the `permissions` set.\n"
   ]
  },
  {
   "cell_type": "markdown",
   "id": "a6566a85",
   "metadata": {},
   "source": [
    "- **Exercise 2: Set Operations with `frozenset`**\n",
    "\n",
    "Given `frozenset` A as `{1, 2, 3}` and `frozenset` B as `{2, 3, 4}`:\n",
    "- Find the union of A and B.\n",
    "- Determine the intersection.\n",
    "- Calculate the difference between A and B.\n"
   ]
  },
  {
   "cell_type": "markdown",
   "id": "b80dc758",
   "metadata": {},
   "source": [
    "- **Exercise 3: Using `frozenset` as a Dictionary Key**\n",
    "\n",
    "Create a dictionary `graph` where each key is a `frozenset` representing an edge in a graph, and the value is the weight of that edge. Here's an example edge: a `frozenset` of nodes (1, 2) with an edge weight of 10. Add at least two more edges with different weights.\n"
   ]
  },
  {
   "cell_type": "markdown",
   "id": "c5b2b39a",
   "metadata": {},
   "source": [
    "- **Exercise 4: Converting to `frozenset`**\n",
    "\n",
    "Take the list `['apple', 'banana', 'apple', 'cherry']` and convert it into a `frozenset` named `unique_fruits`. Verify that duplicates have been removed by converting the `frozenset` back to a list and checking its contents.\n"
   ]
  }
 ],
 "metadata": {
  "language_info": {
   "name": "python"
  }
 },
 "nbformat": 4,
 "nbformat_minor": 5
}
