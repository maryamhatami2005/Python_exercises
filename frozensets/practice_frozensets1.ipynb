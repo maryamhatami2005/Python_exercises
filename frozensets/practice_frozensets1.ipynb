{
 "cells": [
  {
   "cell_type": "markdown",
   "id": "4d41448e",
   "metadata": {},
   "source": [
    "- **Exercise 1: Creating and Using `frozenset`**\n",
    "\n",
    "Create a `frozenset` named `permissions` that contains the strings 'read', 'write', and 'execute'. Then, check to see if the permission 'delete' is included in the `permissions` set.\n"
   ]
  }
 ],
 "metadata": {
  "language_info": {
   "name": "python"
  }
 },
 "nbformat": 4,
 "nbformat_minor": 5
}
