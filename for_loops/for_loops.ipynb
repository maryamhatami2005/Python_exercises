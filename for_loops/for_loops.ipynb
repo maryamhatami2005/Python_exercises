{
 "cells": [
  {
   "cell_type": "markdown",
   "id": "08a86516",
   "metadata": {},
   "source": [
    "**Tasks:**\n",
    "\n",
    "1. **Calculate the Average Temperature of the Week**:\n",
    "   Write a `for` loop that calculates the average temperature for the week and prints it out.\n",
    "\n",
    "2. **Find the Maximum and Minimum Temperatures**:\n",
    "   Use a `for` loop to determine the highest and lowest temperatures recorded during the week. Print both values.\n",
    "\n",
    "3. **Count Warm Days**:\n",
    "   Define a \"warm day\" as having an average temperature of 22 degrees Celsius or higher. Write a `for` loop that counts the number of warm days in the list and prints the count.\n",
    "\n",
    "4. **Create a New List of Temperature Fluctuations**:\n",
    "   Write a `for` loop to create a new list that contains the temperature fluctuations from one day to the next (the difference between each consecutive pair of temperatures). Print the new list.\n",
    "\n",
    "5. **Bonus: Find the Day with the Largest Fluctuation**:\n",
    "   Using the list of temperature fluctuations you created in task 4, write a `for` loop to find out which day had the largest temperature fluctuation. Note that you don't need to consider the first day since there's no previous day to compare it with. Print the day (as an index) and the fluctuation."
   ]
  },
  {
   "cell_type": "code",
   "execution_count": 13,
   "id": "d73f4781",
   "metadata": {},
   "outputs": [],
   "source": [
    "# Weekly temperature data in degrees Celsius\n",
    "temperatures = [19, 21, 22, 24, 23, 19, 20]"
   ]
  },
  {
   "cell_type": "code",
   "execution_count": null,
   "id": "36d1864b",
   "metadata": {},
   "outputs": [
    {
     "name": "stdout",
     "output_type": "stream",
     "text": [
      "The average temperature is  21.14 °C\n"
     ]
    }
   ],
   "source": [
    "# Task 1\n",
    "\n",
    "sum = 0\n",
    "for temperature in temperatures :\n",
    "    sum += temperature\n",
    "\n",
    "ave_temp = sum / len(temperatures)\n",
    "print(f\"The average temperature is {ave_temp : .2f} C°\") # a floating-point number rounded to two decimal places"
   ]
  },
  {
   "cell_type": "code",
   "execution_count": 81,
   "id": "9b900f92",
   "metadata": {},
   "outputs": [
    {
     "name": "stdout",
     "output_type": "stream",
     "text": [
      "The maximum temperatue of the week is 24 °C\n",
      "The minimum temperature of the week is 19 °C\n"
     ]
    }
   ],
   "source": [
    "# Task 2\n",
    "\n",
    "temperatures = [19, 21, 22, 24, 23, 19, 20] \n",
    "max = temperatures[0]\n",
    "min = temperatures[0]\n",
    "for temp in temperatures :\n",
    "    if temp < min :\n",
    "        min = temp\n",
    "    elif temp > max :\n",
    "        max = temp\n",
    "\n",
    "print(f\"The maximum temperatue of the week is {max} °C\")\n",
    "print(f\"The minimum temperature of the week is {min} °C\")"
   ]
  },
  {
   "cell_type": "code",
   "execution_count": null,
   "id": "24c02f5f",
   "metadata": {},
   "outputs": [
    {
     "name": "stdout",
     "output_type": "stream",
     "text": [
      "This week has 3 warm days\n"
     ]
    }
   ],
   "source": [
    "# Task 3\n",
    "\n",
    "temperatures = [19, 21, 22, 24, 23, 19, 20] \n",
    "count = 0\n",
    "for temp in temperatures :\n",
    "    if temp >= 22 :\n",
    "        count += 1\n",
    "print(f\"This week has {count} warm days\")"
   ]
  },
  {
   "cell_type": "code",
   "execution_count": 78,
   "id": "4417a139",
   "metadata": {},
   "outputs": [
    {
     "name": "stdout",
     "output_type": "stream",
     "text": [
      "[2, 1, 2, 1, 4, 1]\n"
     ]
    }
   ],
   "source": [
    "# Task 4\n",
    "\n",
    "temperatures = [19, 21, 22, 24, 23, 19, 20] \n",
    "\n",
    "fluctuations = []\n",
    "i = 0\n",
    "\n",
    "for i in range(len(temperatures) - 1) :\n",
    "    fluc = abs(temperatures[i + 1] - temperatures[i])\n",
    "    fluctuations.append(fluc)\n",
    "   \n",
    "\n",
    "print(fluctuations)\n"
   ]
  },
  {
   "cell_type": "code",
   "execution_count": 80,
   "id": "aee17ed4",
   "metadata": {},
   "outputs": [
    {
     "name": "stdout",
     "output_type": "stream",
     "text": [
      "The largest fluctuation was 4°C and occurred from day 4 to day 5.\n"
     ]
    }
   ],
   "source": [
    "# Task 5\n",
    "\n",
    "max_fluctuation = 0\n",
    "day_max_fluctuation = 0\n",
    "for i in range(1, len(fluctuations)):\n",
    "    if fluctuations[i] > max_fluctuation:\n",
    "        max_fluctuation = fluctuations[i]\n",
    "        day_max_fluctuation = i + 1 \n",
    "\n",
    "print(f\"The largest fluctuation was {max_fluctuation}°C and occurred from day {day_max_fluctuation - 1} to day {day_max_fluctuation}.\")"
   ]
  }
 ],
 "metadata": {
  "kernelspec": {
   "display_name": "python2023",
   "language": "python",
   "name": "python3"
  },
  "language_info": {
   "codemirror_mode": {
    "name": "ipython",
    "version": 3
   },
   "file_extension": ".py",
   "mimetype": "text/x-python",
   "name": "python",
   "nbconvert_exporter": "python",
   "pygments_lexer": "ipython3",
   "version": "3.13.5"
  }
 },
 "nbformat": 4,
 "nbformat_minor": 5
}
