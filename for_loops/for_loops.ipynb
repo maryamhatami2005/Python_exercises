{
 "cells": [
  {
   "cell_type": "markdown",
   "id": "08a86516",
   "metadata": {},
   "source": [
    "**Tasks:**\n",
    "\n",
    "1. **Calculate the Average Temperature of the Week**:\n",
    "   Write a `for` loop that calculates the average temperature for the week and prints it out.\n",
    "\n",
    "2. **Find the Maximum and Minimum Temperatures**:\n",
    "   Use a `for` loop to determine the highest and lowest temperatures recorded during the week. Print both values.\n",
    "\n",
    "3. **Count Warm Days**:\n",
    "   Define a \"warm day\" as having an average temperature of 22 degrees Celsius or higher. Write a `for` loop that counts the number of warm days in the list and prints the count.\n",
    "\n",
    "4. **Create a New List of Temperature Fluctuations**:\n",
    "   Write a `for` loop to create a new list that contains the temperature fluctuations from one day to the next (the difference between each consecutive pair of temperatures). Print the new list.\n",
    "\n",
    "5. **Bonus: Find the Day with the Largest Fluctuation**:\n",
    "   Using the list of temperature fluctuations you created in task 4, write a `for` loop to find out which day had the largest temperature fluctuation. Note that you don't need to "
   ]
  },
  {
   "cell_type": "code",
   "execution_count": 1,
   "id": "d73f4781",
   "metadata": {},
   "outputs": [],
   "source": [
    "# Weekly temperature data in degrees Celsius\n",
    "temperatures = [19, 21, 22, 24, 23, 19, 20]"
   ]
  }
 ],
 "metadata": {
  "kernelspec": {
   "display_name": "python2023",
   "language": "python",
   "name": "python3"
  },
  "language_info": {
   "codemirror_mode": {
    "name": "ipython",
    "version": 3
   },
   "file_extension": ".py",
   "mimetype": "text/x-python",
   "name": "python",
   "nbconvert_exporter": "python",
   "pygments_lexer": "ipython3",
   "version": "3.13.5"
  }
 },
 "nbformat": 4,
 "nbformat_minor": 5
}
