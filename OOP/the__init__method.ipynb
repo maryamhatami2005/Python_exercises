{
 "cells": [
  {
   "cell_type": "markdown",
   "id": "64f34f12",
   "metadata": {},
   "source": [
    "**Tasks:**\n",
    "\n",
    "1. **Define the Classroom Class**:\n",
    "   Create a class named `Classroom` with an `__init__` method. Within the `__init__` method, define the following attributes:\n",
    "   - `teacher`: A string representing the name of the teacher.\n",
    "   - `students`: A list of strings representing the names of the students.\n",
    "   - `subject`: A string representing the subject being taught.\n",
    "   - `room_number`: An integer representing the classroom number.\n",
    "\n",
    "   Ensure that each of these attributes is passed as a parameter to the `__init__` method (besides `self`).\n",
    "\n",
    "2. **Instantiate the Classroom**:\n",
    "   Create an instance of the `Classroom` class, passing in appropriate arguments for the teacher, students, subject, and room number. Assign this instance to a variable named `my_class`.\n",
    "\n",
    "3. **Print Object Attributes**:\n",
    "   Write a method within the `Classroom` class that prints out all the attributes in a user-friendly format. Call this method `display_info` and invoke it on the `my_class` instance to display the details of your classroom.\n",
    "\n",
    "4. **Bonus: Dynamic Student List**:\n",
    "   Modify the `__init__` method to accept any number of student names using *args, and initialize the `students` attribute with these names. Test this feature by creating another instance of `Classroom` with a variable number of students."
   ]
  },
  {
   "cell_type": "code",
   "execution_count": 27,
   "id": "6629c1b6",
   "metadata": {},
   "outputs": [],
   "source": [
    "class Classroom:\n",
    "    def __init__(self, teacher, students, subject, room_number):\n",
    "        self.teacher = teacher\n",
    "        self.students = students\n",
    "        self.subject = subject\n",
    "        self.room_number = room_number\n",
    "    \n",
    "    def display_info(self):\n",
    "        print(f\"Teacher: {self.teacher}\")\n",
    "        print(f\"Students: {self.students}\")\n",
    "        print(f\"Subject: {self.subject}\")\n",
    "        print(f\"Room Number: {self.room_number}\")"
   ]
  },
  {
   "cell_type": "code",
   "execution_count": 28,
   "id": "efcf2c57",
   "metadata": {},
   "outputs": [],
   "source": [
    "teacher = \"Mr. Smith\"\n",
    "students = ['Alice', 'Bob', 'Charlie', 'Diana']\n",
    "subject = \"Mathematics\"\n",
    "room_number = 101\n",
    "\n",
    "my_class = Classroom(teacher, students, subject, room_number)"
   ]
  },
  {
   "cell_type": "code",
   "execution_count": 29,
   "id": "7d33414a",
   "metadata": {},
   "outputs": [
    {
     "name": "stdout",
     "output_type": "stream",
     "text": [
      "Teacher: Mr. Smith\n",
      "Students: ['Alice', 'Bob', 'Charlie', 'Diana']\n",
      "Subject: Mathematics\n",
      "Room Number: 101\n"
     ]
    }
   ],
   "source": [
    "my_class.display_info()"
   ]
  },
  {
   "cell_type": "code",
   "execution_count": 38,
   "id": "24f1b5a3",
   "metadata": {},
   "outputs": [],
   "source": [
    "class Classroom:\n",
    "    def __init__(self, teacher, subject, room_number, *student):\n",
    "        self.teacher = teacher\n",
    "        self.students = list(student)\n",
    "        self.subject = subject\n",
    "        self.room_number = room_number\n",
    "    \n",
    "    def display_info(self):\n",
    "        print(f\"Teacher: {self.teacher}\")\n",
    "        print(f\"Students: {self.students}\")\n",
    "        print(f\"Subject: {self.subject}\")\n",
    "        print(f\"Room Number: {self.room_number}\")"
   ]
  },
  {
   "cell_type": "code",
   "execution_count": 39,
   "id": "1c215e91",
   "metadata": {},
   "outputs": [],
   "source": [
    "my_class = Classroom(\"Mr, Smith\",\"Mathematics\", 101, \"alice\", \"bob\")"
   ]
  },
  {
   "cell_type": "code",
   "execution_count": 40,
   "id": "52c9be76",
   "metadata": {},
   "outputs": [
    {
     "name": "stdout",
     "output_type": "stream",
     "text": [
      "Teacher: Mr, Smith\n",
      "Students: ['alice', 'bob']\n",
      "Subject: Mathematics\n",
      "Room Number: 101\n"
     ]
    }
   ],
   "source": [
    "my_class.display_info()"
   ]
  }
 ],
 "metadata": {
  "kernelspec": {
   "display_name": "python2023",
   "language": "python",
   "name": "python3"
  },
  "language_info": {
   "codemirror_mode": {
    "name": "ipython",
    "version": 3
   },
   "file_extension": ".py",
   "mimetype": "text/x-python",
   "name": "python",
   "nbconvert_exporter": "python",
   "pygments_lexer": "ipython3",
   "version": "3.13.5"
  }
 },
 "nbformat": 4,
 "nbformat_minor": 5
}
