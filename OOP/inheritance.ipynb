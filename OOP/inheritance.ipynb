{
 "cells": [
  {
   "cell_type": "markdown",
   "id": "68d88e4f",
   "metadata": {},
   "source": [
    "**Tasks:**\n",
    "\n",
    "1. **Define the Base Class**:\n",
    "   Create a base class called `Employee` with the following:\n",
    "   - Instance attributes: `name` and `email`.\n",
    "   - An `__init__` method that initializes the `name` and `email` attributes.\n",
    "   - A method called `get_info()` that prints the employee's name and email in a neat format.\n",
    "\n",
    "2. **Define a Subclass for Managers**:\n",
    "   Create a subclass called `Manager` that inherits from `Employee`. Add the following to the `Manager` class:\n",
    "   - An additional attribute called `department`.\n",
    "   - An overridden `__init__` method that initializes the `name`, `email`, and `department` using the `super()` function to initialize `name` and `email`.\n",
    "   - An overridden `get_info()` method that prints the manager's information, including the department.\n",
    "\n",
    "3. **Instantiate and Test Classes**:\n",
    "   Create instances of both `Employee` and `Manager`, and call their `get_info()` methods to ensure they display the information correctly."
   ]
  },
  {
   "cell_type": "code",
   "execution_count": 4,
   "id": "b804d4a2",
   "metadata": {},
   "outputs": [],
   "source": [
    "class Employee:\n",
    "    def __init__(self, name, email):\n",
    "        self.name = name\n",
    "        self.email = email\n",
    "    def get_info(self):\n",
    "        print(f\"Employee's name: {self.name}\")\n",
    "        print(f\"Employee's email adress: {self.email}\")"
   ]
  },
  {
   "cell_type": "code",
   "execution_count": 7,
   "id": "19f35f47",
   "metadata": {},
   "outputs": [],
   "source": [
    "employee_1 = Employee('Mike', 'mike@gmail.com')"
   ]
  },
  {
   "cell_type": "code",
   "execution_count": 8,
   "id": "95f5bd03",
   "metadata": {},
   "outputs": [
    {
     "name": "stdout",
     "output_type": "stream",
     "text": [
      "Employee's name: Mike\n",
      "Employee's email adress: mike@gmail.com\n"
     ]
    }
   ],
   "source": [
    "employee_1.get_info()"
   ]
  },
  {
   "cell_type": "code",
   "execution_count": null,
   "id": "893549d0",
   "metadata": {},
   "outputs": [],
   "source": []
  }
 ],
 "metadata": {
  "kernelspec": {
   "display_name": "python2023",
   "language": "python",
   "name": "python3"
  },
  "language_info": {
   "codemirror_mode": {
    "name": "ipython",
    "version": 3
   },
   "file_extension": ".py",
   "mimetype": "text/x-python",
   "name": "python",
   "nbconvert_exporter": "python",
   "pygments_lexer": "ipython3",
   "version": "3.13.5"
  }
 },
 "nbformat": 4,
 "nbformat_minor": 5
}
