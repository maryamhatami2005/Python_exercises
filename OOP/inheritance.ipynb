{
 "cells": [
  {
   "cell_type": "markdown",
   "id": "68d88e4f",
   "metadata": {},
   "source": [
    "**Tasks:**\n",
    "\n",
    "1. **Define the Base Class**:\n",
    "   Create a base class called `Employee` with the following:\n",
    "   - Instance attributes: `name` and `email`.\n",
    "   - An `__init__` method that initializes the `name` and `email` attributes.\n",
    "   - A method called `get_info()` that prints the employee's name and email in a neat format.\n",
    "\n",
    "2. **Define a Subclass for Managers**:\n",
    "   Create a subclass called `Manager` that inherits from `Employee`. Add the following to the `Manager` class:\n",
    "   - An additional attribute called `department`.\n",
    "   - An overridden `__init__` method that initializes the `name`, `email`, and `department` using the `super()` function to initialize `name` and `email`.\n",
    "   - An overridden `get_info()` method that prints the manager's information, including the department.\n",
    "\n",
    "3. **Instantiate and Test Classes**:\n",
    "   Create instances of both `Employee` and `Manager`, and call their `get_info()` methods to ensure they display the information correctly."
   ]
  }
 ],
 "metadata": {
  "language_info": {
   "name": "python"
  }
 },
 "nbformat": 4,
 "nbformat_minor": 5
}
