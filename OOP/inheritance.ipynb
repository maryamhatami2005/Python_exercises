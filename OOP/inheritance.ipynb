{
 "cells": [
  {
   "cell_type": "markdown",
   "id": "68d88e4f",
   "metadata": {},
   "source": [
    "**Tasks:**\n",
    "\n",
    "1. **Define the Base Class**:\n",
    "   Create a base class called `Employee` with the following:\n",
    "   - Instance attributes: `name` and `email`.\n",
    "   - An `__init__` method that initializes the `name` and `email` attributes.\n",
    "   - A method called `get_info()` that prints the employee's name and email in a neat format."
   ]
  },
  {
   "cell_type": "code",
   "execution_count": 25,
   "id": "b804d4a2",
   "metadata": {},
   "outputs": [],
   "source": [
    "class Employee:\n",
    "    def __init__(self, name, email):\n",
    "        self.name = name\n",
    "        self.email = email\n",
    "    def get_info(self):\n",
    "        print(f\"Employee Name: {self.name}\")\n",
    "        print(f\"Employee Email: {self.email}\")"
   ]
  },
  {
   "cell_type": "markdown",
   "id": "4f0475cb",
   "metadata": {},
   "source": [
    "2. **Define a Subclass for Managers**:\n",
    "   Create a subclass called `Manager` that inherits from `Employee`. Add the following to the `Manager` class:\n",
    "   - An additional attribute called `department`.\n",
    "   - An overridden `__init__` method that initializes the `name`, `email`, and `department` using the `super()` function to initialize `name` and `email`.\n",
    "   - An overridden `get_info()` method that prints the manager's information, including the department."
   ]
  },
  {
   "cell_type": "code",
   "execution_count": 26,
   "id": "893549d0",
   "metadata": {},
   "outputs": [],
   "source": [
    "class Manager(Employee):\n",
    "    def __init__(self, name, email, department):\n",
    "        super().__init__(name, email)\n",
    "        self.department = department\n",
    "    \n",
    "    def get_info(self):\n",
    "        super().get_info()\n",
    "        print(f\"Department: {self.department}\")"
   ]
  },
  {
   "cell_type": "markdown",
   "id": "805d553c",
   "metadata": {},
   "source": [
    "3. **Instantiate and Test Classes**:\n",
    "   Create instances of both `Employee` and `Manager`, and call their `get_info()` methods to ensure they display the information correctly."
   ]
  },
  {
   "cell_type": "code",
   "execution_count": 27,
   "id": "3d6db621",
   "metadata": {},
   "outputs": [
    {
     "name": "stdout",
     "output_type": "stream",
     "text": [
      "Employee Name: Mike\n",
      "Employee Email: mike@example.com\n"
     ]
    }
   ],
   "source": [
    "employee = Employee('Mike', 'mike@example.com')\n",
    "employee.get_info()"
   ]
  },
  {
   "cell_type": "code",
   "execution_count": 28,
   "id": "0bd57c8e",
   "metadata": {},
   "outputs": [
    {
     "name": "stdout",
     "output_type": "stream",
     "text": [
      "Employee Name: Bob Johnson\n",
      "Employee Email: bob@example.com\n",
      "Department: Engineering\n"
     ]
    }
   ],
   "source": [
    "manager = Manager(\"Bob Johnson\", \"bob@example.com\", \"Engineering\")\n",
    "manager.get_info()"
   ]
  }
 ],
 "metadata": {
  "kernelspec": {
   "display_name": "python2023",
   "language": "python",
   "name": "python3"
  },
  "language_info": {
   "codemirror_mode": {
    "name": "ipython",
    "version": 3
   },
   "file_extension": ".py",
   "mimetype": "text/x-python",
   "name": "python",
   "nbconvert_exporter": "python",
   "pygments_lexer": "ipython3",
   "version": "3.13.5"
  }
 },
 "nbformat": 4,
 "nbformat_minor": 5
}
