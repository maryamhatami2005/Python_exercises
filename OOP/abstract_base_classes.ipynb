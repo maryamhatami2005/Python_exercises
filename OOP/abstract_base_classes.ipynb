{
 "cells": [
  {
   "cell_type": "markdown",
   "id": "d58219d8",
   "metadata": {},
   "source": [
    "**Abstract base classes for payment methond**\n",
    "\n",
    "Design a payment system that can process payments using multiple payment methods (e.g., Credit Card, PayPal, Cryptocurrency), using abstract base classes to define a common interface."
   ]
  },
  {
   "cell_type": "markdown",
   "id": "4c8471d7",
   "metadata": {},
   "source": [
    "**Tasks**\n",
    "\n",
    "1. Create an Abstract Base Class (PaymentMethod)\n",
    "\n",
    "- This class should define two abstract methods:\n",
    "    - authenticate()\n",
    "    - pay(amount)\n",
    "\n",
    "2. Create Subclasses for Each Payment Type\n",
    "\n",
    "Create at least three classes that inherit from PaymentMethod:\n",
    "\n",
    "Example Payment Types:\n",
    "\n",
    "CreditCardPayment\n",
    "\n",
    "PayPalPayment\n",
    "\n",
    "CryptoPayment\n",
    "\n",
    "Each subclass should:\n",
    "\n",
    "Implement authenticate() (simulate logic for validation).\n",
    "\n",
    "Implement pay(amount) (print a message indicating payment success or failure).\n",
    "\n",
    "Make sure each one has appropriate attributes (e.g., card number for credit card, email for PayPal, wallet address for crypto).\n",
    "\n",
    "3. Add Simple Logic in Each Method\n",
    "\n",
    "authenticate() should simulate validating credentials.\n",
    "\n",
    "pay() should check if authentication was successful before proceeding.\n",
    "\n",
    "Example ideas:\n",
    "\n",
    "For credit cards, check if the card number is 16 digits.\n",
    "\n",
    "For PayPal, check if the email contains “@”.\n",
    "\n",
    "For crypto, just make sure the address and private key aren't empty.\n",
    "\n",
    "4. Create a process_payment() Function\n",
    "\n",
    "This function should accept a PaymentMethod instance and an amount.\n",
    "\n",
    "It should call authenticate() and then pay(amount).\n",
    "\n",
    "This shows the benefit of polymorphism — the function doesn't care which payment method it’s using.\n",
    "\n",
    "5. Test Your System\n",
    "\n",
    "Create instances of each payment type with valid and invalid data.\n",
    "\n",
    "Call process_payment() with different objects and amounts.\n",
    "\n",
    "Verify that authentication is enforced before payment goes through."
   ]
  },
  {
   "cell_type": "markdown",
   "id": "16557e4f",
   "metadata": {
    "vscode": {
     "languageId": "plaintext"
    }
   },
   "source": [
    "1. Create an Abstract Base Class (PaymentMethod)\n",
    "\n",
    "- This class should define two abstract methods:\n",
    "    - authenticate()\n",
    "    - pay(amount)"
   ]
  },
  {
   "cell_type": "code",
   "execution_count": 2,
   "id": "01440fa2",
   "metadata": {},
   "outputs": [],
   "source": [
    "from abc import ABC, abstractmethod"
   ]
  },
  {
   "cell_type": "code",
   "execution_count": 13,
   "id": "967c00af",
   "metadata": {},
   "outputs": [],
   "source": [
    "class PaymentMethod(ABC):\n",
    "    @abstractmethod\n",
    "    def authenticate(self):\n",
    "        pass\n",
    "\n",
    "    @abstractmethod\n",
    "    def pay(self, amount):\n",
    "        pass"
   ]
  },
  {
   "cell_type": "markdown",
   "id": "7e0d1682",
   "metadata": {},
   "source": [
    "2. Create Subclasses for Each Payment Type\n",
    "\n",
    "- Create at least three classes that inherit from PaymentMethod:\n",
    "\n",
    "    - CreditCardPayment\n",
    "    - PayPalPayment\n",
    "    - CryptoPayment\n",
    "\n",
    "Each subclass should:\n",
    "\n",
    "    - Implement authenticate() (simulate logic for validation).\n",
    "    - Implement pay(amount) (print a message indicating payment success or failure).\n",
    "\n",
    "Make sure each one has appropriate attributes (e.g., card number for credit card, email for PayPal, wallet address for crypto)."
   ]
  },
  {
   "cell_type": "code",
   "execution_count": null,
   "id": "a4355fbc",
   "metadata": {},
   "outputs": [],
   "source": [
    "class CreditCard(PaymentMethod):\n",
    "    def __init__(self,card_number, cvv):\n",
    "        self.card_number = card_number\n",
    "        self.cvv = cvv\n",
    "        self.authentication = False\n",
    "\n",
    "    def authenticate(self):\n",
    "        print(\"Authenticating the card...\")\n",
    "        if len(self.card_number) == 16 and len(self.cvv) == 3:\n",
    "            self.authentication = True\n",
    "            print(\"Credit card authenticated.\")\n",
    "        else:\n",
    "            print(\"Invalid credit card details.\")\n",
    "\n",
    "    def pay(self, amount):\n",
    "        if  self.authentication != True:\n",
    "            print(\"Payment failed: Card not authenticated.\")\n",
    "            return\n",
    "        print(f\"Paid ${amount} with credit card ending in ****{self.card_number[-4:]}\")"
   ]
  },
  {
   "cell_type": "code",
   "execution_count": null,
   "id": "b7165f89",
   "metadata": {},
   "outputs": [],
   "source": [
    "class PaypalPayment(PaymentMethod):\n",
    "    def __init__(self, email, password ):\n",
    "        self.email = email\n",
    "        self.password = password\n",
    "        self.authentication = False\n",
    "\n",
    "    def authenticate(self):\n",
    "        print(\"Authenticating the card...\")\n",
    "        if \"@\" in self.email:\n",
    "            self.authentication = True\n",
    "            print(\"PayPal authenticated.\")\n",
    "        else:\n",
    "            print(\"Invalid PayPal details.\")\n",
    "            \n",
    "    def pay(self, amount):\n",
    "        if self.authenticate != True:\n",
    "            print(\"Payment failed: PayPal not authenticated.\")\n",
    "            return\n",
    "        print(f\"Paid ${amount} via PayPal ({self.email})\")"
   ]
  },
  {
   "cell_type": "code",
   "execution_count": 25,
   "id": "4215f08f",
   "metadata": {},
   "outputs": [],
   "source": [
    "class CryptoPayment(PaymentMethod):\n",
    "    def __init__(self, wallet_address, private_key):\n",
    "        self.wallet_address = wallet_address\n",
    "        self.__private_key = private_key\n",
    "        self.authentication = True\n",
    "\n",
    "    def authenticate(self):\n",
    "        print(\"Authenticating the card...\")\n",
    "        if self.wallet_address and  self.__private_key:\n",
    "            self.suthentication = True\n",
    "            print(\"Crypto wallet authenticated.\")\n",
    "        else:\n",
    "            print(\"Authentication failed.\")\n",
    "    \n",
    "    def pay(self, amount):\n",
    "        if self.authentication != True:\n",
    "            print(\"Payment failed: Wallet not authenticated.\")\n",
    "            return\n",
    "        print(f\"Paid ${amount} in crypto from {self.wallet_address[:6]}...\")"
   ]
  },
  {
   "cell_type": "code",
   "execution_count": null,
   "id": "08515999",
   "metadata": {},
   "outputs": [],
   "source": []
  }
 ],
 "metadata": {
  "kernelspec": {
   "display_name": "python2023",
   "language": "python",
   "name": "python3"
  },
  "language_info": {
   "codemirror_mode": {
    "name": "ipython",
    "version": 3
   },
   "file_extension": ".py",
   "mimetype": "text/x-python",
   "name": "python",
   "nbconvert_exporter": "python",
   "pygments_lexer": "ipython3",
   "version": "3.13.5"
  }
 },
 "nbformat": 4,
 "nbformat_minor": 5
}
