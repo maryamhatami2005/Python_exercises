{
 "cells": [
  {
   "cell_type": "code",
   "execution_count": 1,
   "id": "4c61ff0b",
   "metadata": {},
   "outputs": [],
   "source": [
    "from abc import ABC, abstractmethod"
   ]
  },
  {
   "cell_type": "code",
   "execution_count": 3,
   "id": "0fd9f6b2",
   "metadata": {},
   "outputs": [],
   "source": [
    "class Shape(ABC):\n",
    "    @abstractmethod\n",
    "    def area(self):\n",
    "        pass\n",
    "\n",
    "    @abstractmethod\n",
    "    def permiter(self):\n",
    "        pass\n",
    "    @abstractmethod\n",
    "    def description(self):\n",
    "        pass"
   ]
  },
  {
   "cell_type": "code",
   "execution_count": 5,
   "metadata": {},
   "outputs": [],
   "source": [
    "class Rectangle(Shape):\n",
    "    def __init__(self, length, width):\n",
    "        self.length = length\n",
    "        self.width = width\n",
    "\n",
    "    def area(self):\n",
    "        return self.length * self.width\n",
    "    \n",
    "    def perimiter(self):\n",
    "        return 2 * (self.length + self.width)\n",
    "    \n",
    "    def description(self):\n",
    "        print(f\"Rectangle with width {self.width} and height {self.height}\")"
   ]
  },
  {
   "cell_type": "code",
   "execution_count": null,
   "id": "38500e0e",
   "metadata": {},
   "outputs": [],
   "source": [
    "class Square(Shape):\n",
    "    def __init__(self, length):\n",
    "        self.length = length\n",
    "    \n",
    "    def area(self):\n",
    "        return self.length ** 2\n",
    "    \n",
    "    def permiter(self):\n",
    "        return 4 * self.length\n",
    "    \n",
    "    def description(self):\n",
    "        print(f\"Square with length of one side {self.length}\")"
   ]
  },
  {
   "cell_type": "code",
   "execution_count": 7,
   "id": "f53c86cc",
   "metadata": {},
   "outputs": [],
   "source": [
    "class Circle(Shape):\n",
    "    def __init__(self, radius):\n",
    "        self.radius = radius\n",
    "\n",
    "    def area(self):\n",
    "        return 3.14 * (self.radius ** 2)\n",
    "    \n",
    "    def permiter(self):\n",
    "        return 3.14 * (2 * self.radius)\n",
    "    \n",
    "    def description(self):\n",
    "        print(f\"Circle with radius {self.radius}\")"
   ]
  },
  {
   "cell_type": "markdown",
   "id": "297a97ff",
   "metadata": {},
   "source": [
    "<hr style=\"width:100%; margin:auto; height:3px; background-color:#007acc; border:none;\">"
   ]
  },
  {
   "cell_type": "markdown",
   "id": "d58219d8",
   "metadata": {},
   "source": [
    "**Abstract base classes for payment methond**\n",
    "\n",
    "Design a payment system that can process payments using multiple payment methods (e.g., Credit Card, PayPal, Cryptocurrency), using abstract base classes to define a common interface."
   ]
  },
  {
   "cell_type": "markdown",
   "id": "4c8471d7",
   "metadata": {},
   "source": [
    "**Tasks**\n",
    "\n",
    "**1. Create an Abstract Base Class (PaymentMethod)**\n",
    "\n",
    "- This class should define two abstract methods:\n",
    "    - authenticate()\n",
    "    - pay(amount)\n",
    "\n",
    "**2. Create Subclasses for Each Payment Type**\n",
    "\n",
    "- Create at least three classes that inherit from PaymentMethod:\n",
    "    - CreditCardPayment\n",
    "    - PayPalPayment\n",
    "    - CryptoPayment\n",
    "\n",
    "- Each subclass should:\n",
    "    - Implement authenticate() (simulate logic for validation).\n",
    "    - Implement pay(amount) (print a message indicating payment success or failure).\n",
    "\n",
    "Make sure each one has appropriate attributes (e.g., card number for credit card, email for PayPal, wallet address for crypto).\n",
    "\n",
    "**3. Add Simple Logic in Each Method**\n",
    "\n",
    "- authenticate() should simulate validating credentials.\n",
    "- pay() should check if authentication was successful before proceeding.\n",
    "\n",
    "- Example ideas:\n",
    "    - For credit cards, check if the card number is 16 digits.\n",
    "    - For PayPal, check if the email contains “@”.\n",
    "    - For crypto, just make sure the address and private key aren't empty.\n",
    "\n",
    "**4. Create a process_payment() Function**\n",
    "\n",
    "- This function should accept a PaymentMethod instance and an amount.\n",
    "- It should call authenticate() and then pay(amount).\n",
    "\n",
    "This shows the benefit of polymorphism — the function doesn't care which payment method it’s using.\n",
    "\n",
    "**5. Test Your System**\n",
    "- Create instances of each payment type with valid and invalid data.\n",
    "- Call process_payment() with different objects and amounts.\n",
    "\n",
    "Verify that authentication is enforced before payment goes through."
   ]
  },
  {
   "cell_type": "code",
   "execution_count": 2,
   "id": "01440fa2",
   "metadata": {},
   "outputs": [],
   "source": [
    "from abc import ABC, abstractmethod"
   ]
  },
  {
   "cell_type": "code",
   "execution_count": 13,
   "id": "967c00af",
   "metadata": {},
   "outputs": [],
   "source": [
    "class PaymentMethod(ABC):\n",
    "    @abstractmethod\n",
    "    def authenticate(self):\n",
    "        pass\n",
    "\n",
    "    @abstractmethod\n",
    "    def pay(self, amount):\n",
    "        pass"
   ]
  },
  {
   "cell_type": "code",
   "execution_count": null,
   "id": "a4355fbc",
   "metadata": {},
   "outputs": [],
   "source": [
    "class CreditCard(PaymentMethod):\n",
    "    def __init__(self,card_number, cvv):\n",
    "        self.card_number = card_number\n",
    "        self.cvv = cvv\n",
    "        self.authentication = False\n",
    "\n",
    "    def authenticate(self):\n",
    "        print(\"Authenticating the card...\")\n",
    "        if len(self.card_number) == 16 and len(self.cvv) == 3:\n",
    "            self.authentication = True\n",
    "            print(\"Credit card authenticated.\")\n",
    "        else:\n",
    "            print(\"Invalid credit card details.\")\n",
    "\n",
    "    def pay(self, amount):\n",
    "        if  self.authentication != True:\n",
    "            print(\"Payment failed: Card not authenticated.\")\n",
    "            return\n",
    "        print(f\"Paid ${amount} with credit card ending in ****{self.card_number[-4:]}\")"
   ]
  },
  {
   "cell_type": "code",
   "execution_count": 43,
   "id": "b7165f89",
   "metadata": {},
   "outputs": [],
   "source": [
    "class PayPal(PaymentMethod):\n",
    "    def __init__(self, email, password ):\n",
    "        self.email = email\n",
    "        self.password = password\n",
    "        self.authentication = False\n",
    "\n",
    "    def authenticate(self):\n",
    "        print(\"Authenticating the card...\")\n",
    "        if \"@\" in self.email:\n",
    "            self.authentication = True\n",
    "            print(\"PayPal authenticated.\")\n",
    "        else:\n",
    "            print(\"Invalid PayPal details.\")\n",
    "            \n",
    "    def pay(self, amount):\n",
    "        if self.authentication != True:\n",
    "            print(\"Payment failed: PayPal not authenticated.\")\n",
    "            return\n",
    "        print(f\"Paid ${amount} via PayPal ({self.email})\")"
   ]
  },
  {
   "cell_type": "code",
   "execution_count": 44,
   "id": "4215f08f",
   "metadata": {},
   "outputs": [],
   "source": [
    "class Crypto(PaymentMethod):\n",
    "    def __init__(self, wallet_address, private_key):\n",
    "        self.wallet_address = wallet_address\n",
    "        self.__private_key = private_key\n",
    "        self.authentication = True\n",
    "\n",
    "    def authenticate(self):\n",
    "        print(\"Authenticating the card...\")\n",
    "        if self.wallet_address and  self.__private_key:\n",
    "            self.authentication = True\n",
    "            print(\"Crypto wallet authenticated.\")\n",
    "        else:\n",
    "            print(\"Authentication failed.\")\n",
    "    \n",
    "    def pay(self, amount):\n",
    "        if self.authentication != True:\n",
    "            print(\"Payment failed: Wallet not authenticated.\")\n",
    "            return\n",
    "        print(f\"Paid ${amount} in crypto from {self.wallet_address[:6]}...\")"
   ]
  },
  {
   "cell_type": "code",
   "execution_count": 45,
   "id": "08515999",
   "metadata": {},
   "outputs": [],
   "source": [
    "def process_payment(payment_method, amount):\n",
    "    payment_method.authenticate()\n",
    "    payment_method.pay(amount)\n",
    "    "
   ]
  },
  {
   "cell_type": "code",
   "execution_count": 46,
   "id": "be2c9204",
   "metadata": {},
   "outputs": [
    {
     "name": "stdout",
     "output_type": "stream",
     "text": [
      "Authenticating the card...\n",
      "Credit card authenticated.\n",
      "Paid $100.0 with credit card ending in ****5678\n"
     ]
    }
   ],
   "source": [
    "credit_card = CreditCard(\"1234567812345678\", \"123\", \"12/25\")\n",
    "paypal = PayPal(\"user@example.com\", \"securepassword\")\n",
    "crypto = Crypto(\"0xABC123\", \"myPrivateKey\")\n",
    "\n",
    "process_payment(credit_card, 100.0)\n"
   ]
  },
  {
   "cell_type": "code",
   "execution_count": 47,
   "id": "084bd878",
   "metadata": {},
   "outputs": [
    {
     "name": "stdout",
     "output_type": "stream",
     "text": [
      "Authenticating the card...\n",
      "PayPal authenticated.\n",
      "Paid $55.5 via PayPal (user@example.com)\n"
     ]
    }
   ],
   "source": [
    "process_payment(paypal, 55.5)"
   ]
  },
  {
   "cell_type": "code",
   "execution_count": 48,
   "id": "3f974d3d",
   "metadata": {},
   "outputs": [
    {
     "name": "stdout",
     "output_type": "stream",
     "text": [
      "Authenticating the card...\n",
      "Crypto wallet authenticated.\n",
      "Paid $200.0 in crypto from 0xABC1...\n"
     ]
    }
   ],
   "source": [
    "process_payment(crypto, 200.0)"
   ]
  }
 ],
 "metadata": {
  "kernelspec": {
   "display_name": "python2023",
   "language": "python",
   "name": "python3"
  },
  "language_info": {
   "codemirror_mode": {
    "name": "ipython",
    "version": 3
   },
   "file_extension": ".py",
   "mimetype": "text/x-python",
   "name": "python",
   "nbconvert_exporter": "python",
   "pygments_lexer": "ipython3",
   "version": "3.13.5"
  }
 },
 "nbformat": 4,
 "nbformat_minor": 5
}
