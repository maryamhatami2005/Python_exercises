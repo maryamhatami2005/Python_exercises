{
 "cells": [
  {
   "cell_type": "markdown",
   "id": "060fc904",
   "metadata": {},
   "source": [
    "**Scenario:**\n",
    "Imagine you are working on a software tool that handles various document types such as PDFs, Word documents, and Spreadsheets. Each document can be displayed on the screen, but the method of display may vary depending on the document type.\n",
    "\n",
    "**Tasks:**\n",
    "\n",
    "1. **Implement a Superclass and Subclasses**:\n",
    "   - Create a superclass called `Document` with a method `display()`. This method should simply print \"Displaying a document.\" as a placeholder.\n",
    "   - Create three subclasses of `Document`: `PDF`, `Word`, and `Spreadsheet`. Each subclass should override the `display()` method with a print statement specific to the document type (e.g., \"Displaying PDF document.\").\n"
   ]
  },
  {
   "cell_type": "code",
   "execution_count": 6,
   "id": "82e2db1f",
   "metadata": {},
   "outputs": [],
   "source": [
    "class Document:\n",
    "    def display(self):\n",
    "        print(\"Displaying a document.\")\n",
    "\n",
    "class PDF(Document):\n",
    "    def display(self):\n",
    "        print(\"Displaying PDF document.\")\n",
    "\n",
    "class Word(Document):\n",
    "    def display(self):\n",
    "        print(\"Displaying word document.\")\n",
    "\n",
    "class Spreadsheet(Document):\n",
    "    def display(self):\n",
    "        print(\"Displaying spreadsheet document.\")"
   ]
  },
  {
   "cell_type": "markdown",
   "id": "63bfaa51",
   "metadata": {},
   "source": [
    "2. **Demonstrate Polymorphism**:\n",
    "   - Create a function called `display_document` that takes a `Document` object as a parameter and calls its `display()` method.\n",
    "   - Instantiate objects of `PDF`, `Word`, and `Spreadsheet` classes and store them in a list.\n",
    "   - Loop through the list and pass each document object to the `display_document` function to demonstrate polymorphism."
   ]
  },
  {
   "cell_type": "code",
   "execution_count": 7,
   "id": "348e7e54",
   "metadata": {},
   "outputs": [
    {
     "name": "stdout",
     "output_type": "stream",
     "text": [
      "Displaying PDF document.\n",
      "Displaying word document.\n",
      "Displaying spreadsheet document.\n"
     ]
    }
   ],
   "source": [
    "def display_document(doc):\n",
    "    doc.display()\n",
    "\n",
    "documents = [PDF(), Word(), Spreadsheet()]\n",
    "for document in documents:\n",
    "    document.display()"
   ]
  },
  {
   "cell_type": "markdown",
   "id": "23d00d4d",
   "metadata": {},
   "source": [
    "3. **Explore Dynamic Typing**:\n",
    "   - Write a function called `change_document_type` that takes a `Document` object and a new class type (e.g., `PDF`, `Word`, or `Spreadsheet`) and returns a new instance of the specified class type.\n",
    "   - Create an instance of one document type and then use `change_document_type` to create a new instance of a different type. Use `display()` to show that the document has changed type."
   ]
  },
  {
   "cell_type": "code",
   "execution_count": 8,
   "id": "48683183",
   "metadata": {},
   "outputs": [
    {
     "name": "stdout",
     "output_type": "stream",
     "text": [
      "Displaying word document.\n"
     ]
    }
   ],
   "source": [
    "def change_document_type(doc, new_type):\n",
    "    return new_type()\n",
    "\n",
    "current_doc = Word()\n",
    "current_doc.display()"
   ]
  },
  {
   "cell_type": "code",
   "execution_count": 9,
   "id": "01bf9e45",
   "metadata": {},
   "outputs": [
    {
     "name": "stdout",
     "output_type": "stream",
     "text": [
      "Displaying PDF document.\n"
     ]
    }
   ],
   "source": [
    "current_doc = change_document_type(current_doc, PDF)\n",
    "current_doc.display()"
   ]
  },
  {
   "cell_type": "markdown",
   "id": "b342091b",
   "metadata": {},
   "source": [
    "<hr style=\"width:100%; margin:auto; height:3px; background-color:#007acc; border:none;\">"
   ]
  },
  {
   "cell_type": "markdown",
   "id": "01b9fbad",
   "metadata": {},
   "source": [
    "**Tasks:**\n",
    "1. Class Hierarchy:\n",
    "Create a superclass called SmartDevice:\n",
    "Create three subclasses that override activate():\n",
    "\n",
    "- LightBulb: prints \"Turning on the smart light bulb.\"\n",
    "- Thermostat: prints \"Adjusting the thermostat to the desired temperature.\"\n",
    "- SecurityCamera: prints \"Starting the security camera recording.\""
   ]
  },
  {
   "cell_type": "code",
   "execution_count": 10,
   "id": "dccad632",
   "metadata": {},
   "outputs": [],
   "source": [
    "class SmartDevice:\n",
    "    def activate(self):\n",
    "        print(\"Activating a smart device.\")"
   ]
  },
  {
   "cell_type": "code",
   "execution_count": 11,
   "id": "30b6469e",
   "metadata": {},
   "outputs": [],
   "source": [
    "class LightBulb(SmartDevice):\n",
    "    def activate(self):\n",
    "        print(\"Turning on the smart light bulb.\")\n",
    "\n",
    "class Thermostat(SmartDevice):\n",
    "    def activate(self):\n",
    "        print(\"Adjusting the thermostat to the desired tempreature.\")\n",
    "\n",
    "class SecurityCamera(SmartDevice):\n",
    "    def activate(self):\n",
    "        print(\"Starting the security camera recording.\")"
   ]
  },
  {
   "cell_type": "markdown",
   "id": "ce94cc58",
   "metadata": {},
   "source": [
    "2. Demonstrate Polymorphism\n",
    "- Create a function activate_device(device) that calls device.activate().\n",
    "- Instantiate one of each device and store them in a list called devices.\n",
    "- Loop over devices and call activate_device() to show polymorphic behavior."
   ]
  },
  {
   "cell_type": "code",
   "execution_count": 12,
   "id": "85c65599",
   "metadata": {},
   "outputs": [
    {
     "name": "stdout",
     "output_type": "stream",
     "text": [
      "Turning on the smart light bulb.\n",
      "Adjusting the thermostat to the desired tempreature.\n",
      "Starting the security camera recording.\n"
     ]
    }
   ],
   "source": [
    "def activate_device(device):\n",
    "    device.activate()\n",
    "\n",
    "devices = [LightBulb(), Thermostat(), SecurityCamera()]\n",
    "for device in devices:\n",
    "    activate_device(device)"
   ]
  },
  {
   "cell_type": "markdown",
   "id": "d536059f",
   "metadata": {},
   "source": [
    "3. Explore Dynamic Typing\n",
    "\n",
    "\n",
    "- Write a function switch_device_type(device, new_type):\n",
    "    - Takes an existing SmartDevice object and returns a new instance of the specified subclass.\n",
    "    - Create a LightBulb, switch it to a SecurityCamera, and call activate()."
   ]
  },
  {
   "cell_type": "code",
   "execution_count": 15,
   "id": "02264c79",
   "metadata": {},
   "outputs": [
    {
     "name": "stdout",
     "output_type": "stream",
     "text": [
      "Starting the security camera recording.\n"
     ]
    }
   ],
   "source": [
    "def switch_device_type(device, new_type):\n",
    "    return new_type()\n",
    "light = LightBulb()\n",
    "light = switch_device_type(light, SecurityCamera)\n",
    "light.activate()"
   ]
  }
 ],
 "metadata": {
  "kernelspec": {
   "display_name": "python2023",
   "language": "python",
   "name": "python3"
  },
  "language_info": {
   "codemirror_mode": {
    "name": "ipython",
    "version": 3
   },
   "file_extension": ".py",
   "mimetype": "text/x-python",
   "name": "python",
   "nbconvert_exporter": "python",
   "pygments_lexer": "ipython3",
   "version": "3.13.5"
  }
 },
 "nbformat": 4,
 "nbformat_minor": 5
}
