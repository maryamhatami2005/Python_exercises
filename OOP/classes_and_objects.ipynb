{
 "cells": [
  {
   "cell_type": "markdown",
   "id": "4015b8e4",
   "metadata": {},
   "source": [
    "**Tasks:**\n",
    "\n",
    "1. **Define a Simple `Book` Class**:\n",
    "   - Create a `Book` class with instance attributes for `title`, `author`, and `pages`.\n",
    "   - Define an instance method `description` that prints a description of the book including its title, author, and number of pages.\n",
    "\n",
    "2. **Instantiate an Object from the `Book` Class**:\n",
    "   - Create an instance of the `Book` class with the title \"Python Programming\", author \"John Doe\", and page count of 350.\n",
    "   - Call the `description` method on this instance to print the book's details.\n",
    "\n",
    "3. **Use of `self`**:\n",
    "   - Explain, through comments in your code, why the `self` keyword is necessary in the `description` method of the `Book` class.\n",
    "\n",
    "4. **Incorporate the `__init__` Method**:\n",
    "   - Modify the `Book` class to include the `__init__` method for initializing new instances with the title, author, and pages attributes.\n",
    "\n",
    "5. **Class vs. Instance Attributes**:\n",
    "   - Add a class attribute `book_count` to keep track of the total number of book instances created.\n",
    "   - Increment the `book_count` inside the `__init__` method every time a new `Book` instance is created.\n",
    "\n",
    "6. **Instantiating Multiple Objects**:\n",
    "   - Create two additional `Book` instances with different titles, authors, and page counts.\n",
    "   - Print out the `book_count` to show the total number of books created.\n",
    "\n",
    "7. **Practical Example: Enhancing the `Book` Class**:\n",
    "   - Add a method `is_long` to the `Book` class that returns `True` if the book has more than 500 pages and `False` otherwise.\n",
    "   - Create a new `Book` instance with more than 500 pages and use the `is_long` method to check if the book is considered long."
   ]
  }
 ],
 "metadata": {
  "language_info": {
   "name": "python"
  }
 },
 "nbformat": 4,
 "nbformat_minor": 5
}
