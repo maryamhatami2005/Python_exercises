{
 "cells": [
  {
   "cell_type": "markdown",
   "id": "4015b8e4",
   "metadata": {},
   "source": [
    "**Tasks:**\n",
    "\n",
    "1. **Define a Simple `Book` Class**:\n",
    "   - Create a `Book` class with instance attributes for `title`, `author`, and `pages`.\n",
    "   - Define an instance method `description` that prints a description of the book including its title, author, and number of pages.\n",
    "\n",
    " 4. **Incorporate the `__init__` Method**:\n",
    "   - Modify the `Book` class to include the `__init__` method for initializing new instances with the title, author, and pages attributes.\n"
   ]
  },
  {
   "cell_type": "code",
   "execution_count": 5,
   "id": "3833d72c",
   "metadata": {},
   "outputs": [],
   "source": [
    "class Book:\n",
    "    def __init__(self, title, author, pages):\n",
    "        self.title = title\n",
    "        self.author = author\n",
    "        self.pages = pages\n",
    "    \n",
    "    def description(self):\n",
    "        print(f\"\"\"Book title: {self.title}\n",
    "Book author: {self.author}\n",
    "Number of pages: {self.pages}\n",
    "\"\"\")"
   ]
  },
  {
   "cell_type": "markdown",
   "id": "cdabdc86",
   "metadata": {},
   "source": [
    "3. **Instantiate an Object from the `Book` Class**:\n",
    "   - Create an instance of the `Book` class with the title \"Python Programming\", author \"John Doe\", and page count of 350.\n",
    "   - Call the `description` method on this instance to print the book's details.\n"
   ]
  },
  {
   "cell_type": "code",
   "execution_count": 6,
   "id": "33aaab1f",
   "metadata": {},
   "outputs": [],
   "source": [
    "obj_1 = Book(\"Python Programming\", \"John Doe\", 350)"
   ]
  },
  {
   "cell_type": "code",
   "execution_count": 7,
   "id": "cc7c5d71",
   "metadata": {},
   "outputs": [
    {
     "name": "stdout",
     "output_type": "stream",
     "text": [
      "Book title: Python Programming\n",
      "Book author: John Doe\n",
      "Number of pages: 350\n",
      "\n"
     ]
    }
   ],
   "source": [
    "obj_1.description()"
   ]
  },
  {
   "cell_type": "markdown",
   "id": "00170ab2",
   "metadata": {},
   "source": [
    "4. **Use of `self`**:\n",
    "   - Explain, through comments in your code, why the `self` keyword is necessary in the `description` method of the `Book` class."
   ]
  },
  {
   "cell_type": "code",
   "execution_count": 29,
   "id": "42b11ff6",
   "metadata": {},
   "outputs": [],
   "source": [
    "# The `self` keyword is used to refer to the instance upon which the method is\n",
    "# being called. It allows access to the instance's attributes and methods.\n",
    "# Without `self`, the method would not have access to the instance's `title`,\n",
    "# `author`, and `pages` attributes."
   ]
  },
  {
   "cell_type": "markdown",
   "id": "334056ef",
   "metadata": {},
   "source": [
    "5. **Class vs. Instance Attributes**:\n",
    "   - Add a class attribute `book_count` to keep track of the total number of book instances created.\n",
    "   - Increment the `book_count` inside the `__init__` method every time a new `Book` instance is created."
   ]
  },
  {
   "cell_type": "code",
   "execution_count": 17,
   "id": "cc53ef3f",
   "metadata": {},
   "outputs": [],
   "source": [
    "class Book:\n",
    "    #class attribute\n",
    "    counter= 0\n",
    "    def __init__(self, title, author, pages):\n",
    "        self.title = title\n",
    "        self.author = author\n",
    "        self.pages = pages\n",
    "        Book.counter += 1\n",
    "    \n",
    "    def description(self):\n",
    "        print(f\"\"\"Book title: {self.title}\n",
    "Book author: {self.author}\n",
    "Number of pages: {self.pages}\n",
    "\"\"\")"
   ]
  },
  {
   "cell_type": "markdown",
   "id": "48e5d951",
   "metadata": {},
   "source": [
    "6. **Instantiating Multiple Objects**:\n",
    "   - Create two additional `Book` instances with different titles, authors, and page counts.\n",
    "   - Print out the `book_count` to show the total number of books created."
   ]
  },
  {
   "cell_type": "code",
   "execution_count": 19,
   "id": "33e75337",
   "metadata": {},
   "outputs": [],
   "source": [
    "obj_2 = Book(\"Harry Potter\", \"J.K. Rowling\", 5482)\n",
    "obj_3 = Book(\"The Other Einstein\", \"Marie Benedict\", 443)"
   ]
  },
  {
   "cell_type": "code",
   "execution_count": 21,
   "id": "f3721a54",
   "metadata": {},
   "outputs": [
    {
     "data": {
      "text/plain": [
       "3"
      ]
     },
     "execution_count": 21,
     "metadata": {},
     "output_type": "execute_result"
    }
   ],
   "source": [
    "Book.counter"
   ]
  },
  {
   "cell_type": "markdown",
   "id": "e53f6dc2",
   "metadata": {},
   "source": [
    "7. **Practical Example: Enhancing the `Book` Class**:\n",
    "   - Add a method `is_long` to the `Book` class that returns `True` if the book has more than 500 pages and `False` otherwise.\n",
    "   - Create a new `Book` instance with more than 500 pages and use the `is_long` method to check if the book is considered long."
   ]
  },
  {
   "cell_type": "code",
   "execution_count": 25,
   "id": "fa652ef2",
   "metadata": {},
   "outputs": [],
   "source": [
    "class Book:\n",
    "    #class attribute\n",
    "    counter= 0\n",
    "    def __init__(self, title, author, pages):\n",
    "        self.title = title\n",
    "        self.author = author\n",
    "        self.pages = pages\n",
    "        Book.counter += 1\n",
    "    \n",
    "    def description(self):\n",
    "        print(f\"\"\"Book title: {self.title}\n",
    "Book author: {self.author}\n",
    "Number of pages: {self.pages}\n",
    "\"\"\")\n",
    "    def is_long(self):\n",
    "        if self.pages > 500:\n",
    "            return True\n",
    "        else:\n",
    "            return False"
   ]
  },
  {
   "cell_type": "code",
   "execution_count": 26,
   "id": "0a8d6e68",
   "metadata": {},
   "outputs": [],
   "source": [
    "obj_4 = Book(\"The Man Who Laughs\", \"Victor Hugo\", 1000)"
   ]
  },
  {
   "cell_type": "code",
   "execution_count": 28,
   "id": "fa186ce4",
   "metadata": {},
   "outputs": [
    {
     "data": {
      "text/plain": [
       "True"
      ]
     },
     "execution_count": 28,
     "metadata": {},
     "output_type": "execute_result"
    }
   ],
   "source": [
    "obj_4.is_long()"
   ]
  }
 ],
 "metadata": {
  "kernelspec": {
   "display_name": "python2023",
   "language": "python",
   "name": "python3"
  },
  "language_info": {
   "codemirror_mode": {
    "name": "ipython",
    "version": 3
   },
   "file_extension": ".py",
   "mimetype": "text/x-python",
   "name": "python",
   "nbconvert_exporter": "python",
   "pygments_lexer": "ipython3",
   "version": "3.13.5"
  }
 },
 "nbformat": 4,
 "nbformat_minor": 5
}
