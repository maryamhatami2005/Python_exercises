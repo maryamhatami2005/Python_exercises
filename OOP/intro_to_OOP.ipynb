{
 "cells": [
  {
   "cell_type": "code",
   "execution_count": 7,
   "id": "8c2663ab",
   "metadata": {},
   "outputs": [],
   "source": [
    "class Dog:\n",
    "    def __init__(self, name, age):\n",
    "        self.name = name\n",
    "        self.age = age\n",
    "\n",
    "    def bark(self):\n",
    "        print(f\"{self.name} is barking...\")\n",
    "\n",
    "    def eat(self):\n",
    "        print(f\"{self.name} is eating...\")\n",
    "\n",
    "    def walk(self):\n",
    "        print(f\"{self.name} is walking...\")"
   ]
  },
  {
   "cell_type": "code",
   "execution_count": 2,
   "id": "7a727675",
   "metadata": {},
   "outputs": [],
   "source": [
    "d1 = Dog(\"Max\", 3)"
   ]
  },
  {
   "cell_type": "code",
   "execution_count": 8,
   "id": "9288d59d",
   "metadata": {},
   "outputs": [
    {
     "data": {
      "text/plain": [
       "('Max', 3)"
      ]
     },
     "execution_count": 8,
     "metadata": {},
     "output_type": "execute_result"
    }
   ],
   "source": [
    "d1.name, d1.age"
   ]
  },
  {
   "cell_type": "code",
   "execution_count": 6,
   "id": "4206fd9a",
   "metadata": {},
   "outputs": [
    {
     "name": "stdout",
     "output_type": "stream",
     "text": [
      "Max is barking...\n"
     ]
    }
   ],
   "source": [
    "d1.bark()"
   ]
  },
  {
   "cell_type": "code",
   "execution_count": 15,
   "id": "80d8d3bd",
   "metadata": {},
   "outputs": [],
   "source": [
    "class Account:\n",
    "    def __init__(self, owner, balance=0):\n",
    "        self.owner = owner\n",
    "        self.__balance = balance\n",
    "\n",
    "    def deposit(self, amount):\n",
    "        self.__balance += amount\n",
    "        print(f\"Added {amount} to the balance\")\n",
    "\n",
    "    def show_balance(self):\n",
    "        print(f\"Balance: {self.__balance}\")\n",
    "    \n",
    "    def withdraw(self, amount):\n",
    "        if amount > self.__balance:\n",
    "            print(\"Not enough funds.\")\n",
    "        else:\n",
    "            self.__balance -= amount\n",
    "            print(f\"Withdraw {amount} from the balance.\")"
   ]
  },
  {
   "cell_type": "code",
   "execution_count": 21,
   "id": "3939b9e1",
   "metadata": {},
   "outputs": [],
   "source": [
    "mary_acc = Account(\"Mary\", 1000)"
   ]
  },
  {
   "cell_type": "code",
   "execution_count": 22,
   "id": "03b239fe",
   "metadata": {},
   "outputs": [
    {
     "name": "stdout",
     "output_type": "stream",
     "text": [
      "Balance: 1000\n"
     ]
    }
   ],
   "source": [
    "mary_acc.show_balance()"
   ]
  },
  {
   "cell_type": "code",
   "execution_count": 23,
   "id": "5c909721",
   "metadata": {},
   "outputs": [
    {
     "name": "stdout",
     "output_type": "stream",
     "text": [
      "Withdraw 500 from the balance.\n"
     ]
    }
   ],
   "source": [
    "mary_acc.withdraw(500)"
   ]
  },
  {
   "cell_type": "code",
   "execution_count": 24,
   "id": "5f66c002",
   "metadata": {},
   "outputs": [
    {
     "name": "stdout",
     "output_type": "stream",
     "text": [
      "Balance: 500\n"
     ]
    }
   ],
   "source": [
    "mary_acc.show_balance()"
   ]
  },
  {
   "cell_type": "code",
   "execution_count": 25,
   "id": "6de239c1",
   "metadata": {},
   "outputs": [],
   "source": [
    "class Animal:\n",
    "    def speak(self):\n",
    "        pass"
   ]
  },
  {
   "cell_type": "code",
   "execution_count": 26,
   "id": "3fa1d4a8",
   "metadata": {},
   "outputs": [],
   "source": [
    "class Dog(Animal):\n",
    "    def walk(self):\n",
    "        print(\"Dof is walking...\")"
   ]
  },
  {
   "cell_type": "code",
   "execution_count": 28,
   "id": "10f8e164",
   "metadata": {},
   "outputs": [],
   "source": [
    "class Bird:\n",
    "    def fly(self):\n",
    "        print(\"Bird is flying...\")"
   ]
  },
  {
   "cell_type": "code",
   "execution_count": null,
   "id": "16f5afd6",
   "metadata": {},
   "outputs": [],
   "source": [
    "class Parrot(Bird):\n",
    "    def fly(self):\n",
    "        print(\"Parrot is flying...\")"
   ]
  },
  {
   "cell_type": "code",
   "execution_count": 30,
   "id": "f701ec65",
   "metadata": {},
   "outputs": [],
   "source": [
    "class Penguin(Bird):\n",
    "    def fly(self):\n",
    "        print(\"Penguin in flying...\")"
   ]
  },
  {
   "cell_type": "code",
   "execution_count": 35,
   "id": "cab322b3",
   "metadata": {},
   "outputs": [],
   "source": [
    "def test_flying(bird):\n",
    "    bird.fly()"
   ]
  },
  {
   "cell_type": "code",
   "execution_count": 36,
   "id": "59004c06",
   "metadata": {},
   "outputs": [
    {
     "name": "stdout",
     "output_type": "stream",
     "text": [
      "Bird is flying...\n"
     ]
    }
   ],
   "source": [
    "test_flying(Parrot())"
   ]
  },
  {
   "cell_type": "code",
   "execution_count": 37,
   "id": "5ed50141",
   "metadata": {},
   "outputs": [
    {
     "name": "stdout",
     "output_type": "stream",
     "text": [
      "Penguin in flying...\n"
     ]
    }
   ],
   "source": [
    "test_flying(Penguin())"
   ]
  },
  {
   "cell_type": "code",
   "execution_count": 43,
   "id": "3180e7e4",
   "metadata": {},
   "outputs": [],
   "source": [
    "class Car:\n",
    "    def __init__(self, model, year):\n",
    "        self.model = model\n",
    "        self.year = year\n",
    "    \n",
    "    def start(self):\n",
    "        print(\"Car is starting...\")\n",
    "    \n",
    "    def stop(self):\n",
    "        print(\"Car is stopping...\")\n",
    "\n",
    "    def honk(self):\n",
    "        print(\"Car is honking...\")"
   ]
  },
  {
   "cell_type": "code",
   "execution_count": 44,
   "id": "2b818f04",
   "metadata": {},
   "outputs": [],
   "source": [
    "my_car = Car('BMW',2020)"
   ]
  },
  {
   "cell_type": "code",
   "execution_count": 46,
   "id": "bab4d803",
   "metadata": {},
   "outputs": [
    {
     "name": "stdout",
     "output_type": "stream",
     "text": [
      "Car is starting...\n"
     ]
    }
   ],
   "source": [
    "my_car.start()"
   ]
  },
  {
   "cell_type": "code",
   "execution_count": null,
   "id": "99cb84f0",
   "metadata": {},
   "outputs": [],
   "source": []
  }
 ],
 "metadata": {
  "kernelspec": {
   "display_name": "python2023",
   "language": "python",
   "name": "python3"
  },
  "language_info": {
   "codemirror_mode": {
    "name": "ipython",
    "version": 3
   },
   "file_extension": ".py",
   "mimetype": "text/x-python",
   "name": "python",
   "nbconvert_exporter": "python",
   "pygments_lexer": "ipython3",
   "version": "3.13.5"
  }
 },
 "nbformat": 4,
 "nbformat_minor": 5
}
