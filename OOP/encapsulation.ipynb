{
 "cells": [
  {
   "cell_type": "markdown",
   "id": "fc2ea188",
   "metadata": {},
   "source": [
    "**Encapsulation Practice: BankAccount**\n",
    "\n",
    "- Private Attributes:\n",
    "\n",
    "    __balance – the current amount in the account\n",
    "\n",
    "    __account_number – full account number (e.g., 1234567890)\n",
    "\n",
    "- Protected Attribute:\n",
    "\n",
    "    _account_holder – name of the account holder\n",
    "\n",
    "- Public Method Requirements:\n",
    "   - deposit(amount):\n",
    "        Add amount to __balance if it is positive.\n",
    "    - withdraw(amount):\n",
    "        Deduct amount from __balance if there's enough balance.\n",
    "    - check_balance()\n",
    "        Print the current balance.\n",
    "    - get_account_info():\n",
    "        Print account holder and account number \n"
   ]
  },
  {
   "cell_type": "code",
   "execution_count": 6,
   "id": "9430046a",
   "metadata": {},
   "outputs": [],
   "source": [
    "class BankAccount:\n",
    "    def __init__(self, account_holder, account_number, initial_balance = 0):\n",
    "        self._account_holder = account_holder\n",
    "        self.__account_number = account_number\n",
    "        self.__account_balance = initial_balance\n",
    "\n",
    "    def __update_deposit_balance(self, amount):\n",
    "        self.__account_balance += amount\n",
    "        return self.__account_balance\n",
    "    \n",
    "    def deposit(self, amount):\n",
    "        if amount > 0:\n",
    "            new_balance = self.__update_deposit_balance(amount)\n",
    "            print(f\"Deposit successful. New balance: ${new_balance}\")\n",
    "            \n",
    "        else:\n",
    "            print(\"The entered amount for deposit it's not correct.\")\n",
    "    \n",
    "    def __update_withdraw_balance(self, amount):\n",
    "        self.__account_balance -= amount\n",
    "        return self.__account_balance\n",
    "    \n",
    "    def withdraw(self, amount):\n",
    "        if self.__account_balance > amount:\n",
    "            new_balance = self.__update_withdraw_balance(amount)\n",
    "            print(f\"Deposit successful. New balance: ${new_balance}\")\n",
    "        else:\n",
    "            print(f\"The entered amount is more than the account balance.\")\n",
    "\n",
    "    def check_balance(self):\n",
    "        print(f\"Account balance:{self.__account_balance}\")\n",
    "    \n",
    "    def get_account_info(self):\n",
    "        print(f\"The account holder: {self._account_holder}\")\n",
    "        print(f\"The account number: {self.__account_number}\")\n"
   ]
  },
  {
   "cell_type": "code",
   "execution_count": 7,
   "id": "3715a9a6",
   "metadata": {},
   "outputs": [
    {
     "name": "stdout",
     "output_type": "stream",
     "text": [
      "Deposit successful. New balance: $100\n"
     ]
    }
   ],
   "source": [
    "mary = BankAccount(\"Mary\", 2372)\n",
    "mary.deposit(100)"
   ]
  },
  {
   "cell_type": "code",
   "execution_count": 8,
   "id": "080ed382",
   "metadata": {},
   "outputs": [
    {
     "name": "stdout",
     "output_type": "stream",
     "text": [
      "The entered amount is more than the account balance.\n"
     ]
    }
   ],
   "source": [
    "mary.withdraw(240)"
   ]
  },
  {
   "cell_type": "code",
   "execution_count": 9,
   "id": "cda18d51",
   "metadata": {},
   "outputs": [
    {
     "name": "stdout",
     "output_type": "stream",
     "text": [
      "The account holder: Mary\n",
      "The account number: 2372\n"
     ]
    }
   ],
   "source": [
    "mary.get_account_info()"
   ]
  },
  {
   "cell_type": "code",
   "execution_count": null,
   "id": "b6ccf291",
   "metadata": {},
   "outputs": [],
   "source": []
  }
 ],
 "metadata": {
  "kernelspec": {
   "display_name": "python2023",
   "language": "python",
   "name": "python3"
  },
  "language_info": {
   "codemirror_mode": {
    "name": "ipython",
    "version": 3
   },
   "file_extension": ".py",
   "mimetype": "text/x-python",
   "name": "python",
   "nbconvert_exporter": "python",
   "pygments_lexer": "ipython3",
   "version": "3.13.5"
  }
 },
 "nbformat": 4,
 "nbformat_minor": 5
}
