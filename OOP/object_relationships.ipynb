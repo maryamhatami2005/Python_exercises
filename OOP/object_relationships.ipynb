{
 "cells": [
  {
   "cell_type": "markdown",
   "id": "a7617939",
   "metadata": {},
   "source": [
    "**Scenario:**\n",
    "You are tasked with developing a small system for a zoo that simulates the relationships between different entities in the zoo. Here are the elements you'll need to work with:\n",
    "\n",
    "- **Zookeepers** who care for the animals.\n",
    "- **Animals** of different species.\n",
    "- **Habitats** where animals live.\n",
    "- **Tools** that zookeepers use to care for animals.\n",
    "\n",
    "**Tasks:**"
   ]
  },
  {
   "cell_type": "markdown",
   "id": "3b39f45f",
   "metadata": {},
   "source": [
    "1. **Association: Zookeeper and Tools**\n",
    "   - Model the relationship between a Zookeeper and their Tools (e.g., broom, food bucket). \n",
    "   - Demonstrate how a zookeeper can use different tools, but tools can be used by different zookeepers as well.\n"
   ]
  },
  {
   "cell_type": "code",
   "execution_count": 4,
   "id": "91f60281",
   "metadata": {},
   "outputs": [],
   "source": [
    "class Tools:\n",
    "    def __init__(self, name):\n",
    "        self.name = name\n",
    "\n",
    "    def use(self):\n",
    "        print(f\"Using the tool: {self.name}\")\n",
    "\n",
    "class Zookeepers:\n",
    "    def __init__(self, name):\n",
    "        self.name = name\n",
    "    \n",
    "    def use(self, tool):\n",
    "        print(f\"{self.name} is now\")\n",
    "        tool.use()\n"
   ]
  },
  {
   "cell_type": "code",
   "execution_count": 11,
   "id": "b825901b",
   "metadata": {},
   "outputs": [
    {
     "name": "stdout",
     "output_type": "stream",
     "text": [
      "Jack is now\n",
      "Using the tool: Broom\n",
      "Alice is now\n",
      "Using the tool: Broom\n",
      "Jack is now\n",
      "Using the tool: Bucket\n",
      "Alice is now\n",
      "Using the tool: Bucket\n"
     ]
    }
   ],
   "source": [
    "jack = Zookeepers(\"Jack\")\n",
    "alice = Zookeepers(\"Alice\")\n",
    "\n",
    "bucket = Tools(\"Bucket\")\n",
    "broom = Tools(\"Broom\")\n",
    "jack.use(broom)\n",
    "alice.use(broom)\n",
    "jack.use(bucket)\n",
    "alice.use(bucket)"
   ]
  },
  {
   "cell_type": "markdown",
   "id": "8d3cef4f",
   "metadata": {},
   "source": [
    "2. **Aggregation: Habitat and Animals**\n",
    "   - Implement the \"Whole-Part\" relationship between a Habitat and the Animals that live in it.\n",
    "   - Show how animals can be moved between habitats without being tightly coupled to a specific habitat."
   ]
  },
  {
   "cell_type": "code",
   "execution_count": 39,
   "id": "e89add72",
   "metadata": {},
   "outputs": [],
   "source": [
    "class Animals:\n",
    "    def __init__(self, animal):\n",
    "        self.animal = animal\n",
    "\n",
    "    def __str__(self):\n",
    "            return f\"Animal: {self.animal}\"\n",
    "\n",
    "    def __repr__(self):\n",
    "        return self.__str__() \n",
    "\n",
    "class Habitat:\n",
    "    def __init__(self):\n",
    "        self.animals = []\n",
    "    \n",
    "    def add_animal(self, animal):\n",
    "        self.animals.append(animal)\n",
    "    \n",
    "    def remove_animal(self, animal):\n",
    "        self.animals.remove(animal)\n",
    "    \n",
    "    def display(self):\n",
    "        for animal in self.animals:\n",
    "            print(f\"{animal}\")\n"
   ]
  },
  {
   "cell_type": "code",
   "execution_count": 43,
   "id": "e289c748",
   "metadata": {},
   "outputs": [
    {
     "name": "stdout",
     "output_type": "stream",
     "text": [
      "Animal: Lion\n"
     ]
    }
   ],
   "source": [
    "lion = Animals(\"Lion\")\n",
    "lion_habitat = Habitat()\n",
    "\n",
    "lion_habitat.add_animal(lion)\n",
    "lion_habitat.display()\n",
    "\n",
    "lion_habitat.remove_animal(lion)\n",
    "lion_habitat.display()"
   ]
  },
  {
   "cell_type": "markdown",
   "id": "c5e9e33f",
   "metadata": {},
   "source": [
    "3. **Composition: Zoo and Habitats**\n",
    "   - Design the strong \"Whole-Part\" relationship between the Zoo and its Habitats.\n",
    "   - Ensure that when a Zoo is shut down, all associated Habitat objects are also removed."
   ]
  },
  {
   "cell_type": "code",
   "execution_count": 44,
   "id": "7b1e5809",
   "metadata": {},
   "outputs": [],
   "source": [
    "class Habitat:\n",
    "    def __init__(self, name):\n",
    "        self.animals = []\n",
    "    \n",
    "    def add_animal(self, animal):\n",
    "        self.animals.append(animal)\n",
    "    \n",
    "    def remove_animal(self, animal):\n",
    "        self.animals.remove(animal)\n",
    "\n",
    "\n",
    "class Zoo:\n",
    "    def __init__(self):\n",
    "        self.habitats = []\n",
    "\n",
    "    def add_habitat(self, habitat):\n",
    "        self.habitats.append(habitat)\n",
    "\n",
    "    def __del__(self):\n",
    "        print(\"Closing the zoo and removing all habitats.\")\n",
    "        del self.habitats"
   ]
  },
  {
   "cell_type": "markdown",
   "id": "7b0dbf3c",
   "metadata": {},
   "source": [
    "4. **Inheritance: Species and Animals**\n",
    "   - Use inheritance to model the relationship between different species (e.g., Lion, Penguin) and the base class Animal.\n",
    "   - Implement common behaviors in the Animal class and specific behaviors in the derived species classes."
   ]
  },
  {
   "cell_type": "code",
   "execution_count": 47,
   "id": "ca562091",
   "metadata": {},
   "outputs": [
    {
     "name": "stdout",
     "output_type": "stream",
     "text": [
      "The clownfish is swimming\n"
     ]
    }
   ],
   "source": [
    "class Animals:\n",
    "    def __init__(self, animal):\n",
    "        self.animal = animal\n",
    "\n",
    "class Parrot(Animals):\n",
    "    def fly(self):\n",
    "        print(f\"The parrot is flying\")\n",
    "    def talk(self):\n",
    "        print(\"The parrot is talking\")\n",
    "\n",
    "    \n",
    "class ClownFish(Animals):\n",
    "    def swim(self):\n",
    "        print(f\"The clownfish is swimming\")\n",
    "    \n",
    "nemo = ClownFish(\"Nemo\")\n",
    "nemo.swim()\n"
   ]
  },
  {
   "cell_type": "markdown",
   "id": "d2addea8",
   "metadata": {},
   "source": [
    "5. **Practical Application: Decision Making**\n",
    "   - Given a new feature \"Veterinary Care Records,\" decide whether it should be implemented using association, aggregation, composition, or inheritance with respect to the Animals or Zookeeper class.\n",
    "   - Justify your decision.\n",
    "\n"
   ]
  },
  {
   "cell_type": "code",
   "execution_count": 1,
   "id": "63d9b3a9",
   "metadata": {},
   "outputs": [],
   "source": [
    "class CareRecods:\n",
    "    def __init__(self, animal, description):\n",
    "        self.animal = animal\n",
    "        self.description = description"
   ]
  }
 ],
 "metadata": {
  "kernelspec": {
   "display_name": "python2023",
   "language": "python",
   "name": "python3"
  },
  "language_info": {
   "codemirror_mode": {
    "name": "ipython",
    "version": 3
   },
   "file_extension": ".py",
   "mimetype": "text/x-python",
   "name": "python",
   "nbconvert_exporter": "python",
   "pygments_lexer": "ipython3",
   "version": "3.13.5"
  }
 },
 "nbformat": 4,
 "nbformat_minor": 5
}
