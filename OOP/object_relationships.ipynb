{
 "cells": [
  {
   "cell_type": "markdown",
   "id": "a7617939",
   "metadata": {},
   "source": [
    "**Scenario:**\n",
    "You are tasked with developing a small system for a zoo that simulates the relationships between different entities in the zoo. Here are the elements you'll need to work with:\n",
    "\n",
    "- **Zookeepers** who care for the animals.\n",
    "- **Animals** of different species.\n",
    "- **Habitats** where animals live.\n",
    "- **Tools** that zookeepers use to care for animals.\n",
    "\n",
    "**Tasks:**"
   ]
  },
  {
   "cell_type": "markdown",
   "id": "3b39f45f",
   "metadata": {},
   "source": [
    "1. **Association: Zookeeper and Tools**\n",
    "   - Model the relationship between a Zookeeper and their Tools (e.g., broom, food bucket). \n",
    "   - Demonstrate how a zookeeper can use different tools, but tools can be used by different zookeepers as well.\n"
   ]
  },
  {
   "cell_type": "code",
   "execution_count": 4,
   "id": "91f60281",
   "metadata": {},
   "outputs": [],
   "source": [
    "class Tools:\n",
    "    def __init__(self, name):\n",
    "        self.name = name\n",
    "\n",
    "    def use(self):\n",
    "        print(f\"Using the tool: {self.name}\")\n",
    "\n",
    "class Zookeepers:\n",
    "    def __init__(self, name):\n",
    "        self.name = name\n",
    "    \n",
    "    def use(self, tool):\n",
    "        print(f\"{self.name} is now\")\n",
    "        tool.use()\n"
   ]
  },
  {
   "cell_type": "code",
   "execution_count": 11,
   "id": "b825901b",
   "metadata": {},
   "outputs": [
    {
     "name": "stdout",
     "output_type": "stream",
     "text": [
      "Jack is now\n",
      "Using the tool: Broom\n",
      "Alice is now\n",
      "Using the tool: Broom\n",
      "Jack is now\n",
      "Using the tool: Bucket\n",
      "Alice is now\n",
      "Using the tool: Bucket\n"
     ]
    }
   ],
   "source": [
    "jack = Zookeepers(\"Jack\")\n",
    "alice = Zookeepers(\"Alice\")\n",
    "\n",
    "bucket = Tools(\"Bucket\")\n",
    "broom = Tools(\"Broom\")\n",
    "jack.use(broom)\n",
    "alice.use(broom)\n",
    "jack.use(bucket)\n",
    "alice.use(bucket)"
   ]
  },
  {
   "cell_type": "markdown",
   "id": "8d3cef4f",
   "metadata": {},
   "source": [
    "2. **Aggregation: Habitat and Animals**\n",
    "   - Implement the \"Whole-Part\" relationship between a Habitat and the Animals that live in it.\n",
    "   - Show how animals can be moved between habitats without being tightly coupled to a specific habitat."
   ]
  },
  {
   "cell_type": "code",
   "execution_count": 39,
   "id": "e89add72",
   "metadata": {},
   "outputs": [],
   "source": [
    "class Animals:\n",
    "    def __init__(self, animal):\n",
    "        self.animal = animal\n",
    "\n",
    "    def __str__(self):\n",
    "            return f\"Animal: {self.animal}\"\n",
    "\n",
    "    def __repr__(self):\n",
    "        return self.__str__() \n",
    "\n",
    "class Habitat:\n",
    "    def __init__(self):\n",
    "        self.animals = []\n",
    "    \n",
    "    def add_animal(self, animal):\n",
    "        self.animals.append(animal)\n",
    "    \n",
    "    def remove_animal(self, animal):\n",
    "        self.animals.remove(animal)\n",
    "    \n",
    "    def display(self):\n",
    "        for animal in self.animals:\n",
    "            print(f\"{animal}\")\n"
   ]
  },
  {
   "cell_type": "code",
   "execution_count": 43,
   "id": "e289c748",
   "metadata": {},
   "outputs": [
    {
     "name": "stdout",
     "output_type": "stream",
     "text": [
      "Animal: Lion\n"
     ]
    }
   ],
   "source": [
    "lion = Animals(\"Lion\")\n",
    "lion_habitat = Habitat()\n",
    "\n",
    "lion_habitat.add_animal(lion)\n",
    "lion_habitat.display()\n",
    "\n",
    "lion_habitat.remove_animal(lion)\n",
    "lion_habitat.display()"
   ]
  },
  {
   "cell_type": "markdown",
   "id": "c5e9e33f",
   "metadata": {},
   "source": [
    "3. **Composition: Zoo and Habitats**\n",
    "   - Design the strong \"Whole-Part\" relationship between the Zoo and its Habitats.\n",
    "   - Ensure that when a Zoo is shut down, all associated Habitat objects are also removed."
   ]
  },
  {
   "cell_type": "code",
   "execution_count": 44,
   "id": "7b1e5809",
   "metadata": {},
   "outputs": [],
   "source": [
    "class Habitat:\n",
    "    def __init__(self, name):\n",
    "        self.animals = []\n",
    "    \n",
    "    def add_animal(self, animal):\n",
    "        self.animals.append(animal)\n",
    "    \n",
    "    def remove_animal(self, animal):\n",
    "        self.animals.remove(animal)\n",
    "\n",
    "\n",
    "class Zoo:\n",
    "    def __init__(self):\n",
    "        self.habitats = []\n",
    "\n",
    "    def add_habitat(self, habitat):\n",
    "        self.habitats.append(habitat)\n",
    "\n",
    "    def __del__(self):\n",
    "        print(\"Closing the zoo and removing all habitats.\")\n",
    "        del self.habitats"
   ]
  },
  {
   "cell_type": "markdown",
   "id": "7b0dbf3c",
   "metadata": {},
   "source": [
    "4. **Inheritance: Species and Animals**\n",
    "   - Use inheritance to model the relationship between different species (e.g., Lion, Penguin) and the base class Animal.\n",
    "   - Implement common behaviors in the Animal class and specific behaviors in the derived species classes."
   ]
  },
  {
   "cell_type": "code",
   "execution_count": 47,
   "id": "ca562091",
   "metadata": {},
   "outputs": [
    {
     "name": "stdout",
     "output_type": "stream",
     "text": [
      "The clownfish is swimming\n"
     ]
    }
   ],
   "source": [
    "class Animals:\n",
    "    def __init__(self, animal):\n",
    "        self.animal = animal\n",
    "\n",
    "class Parrot(Animals):\n",
    "    def fly(self):\n",
    "        print(f\"The parrot is flying\")\n",
    "    def talk(self):\n",
    "        print(\"The parrot is talking\")\n",
    "\n",
    "    \n",
    "class ClownFish(Animals):\n",
    "    def swim(self):\n",
    "        print(f\"The clownfish is swimming\")\n",
    "    \n",
    "nemo = ClownFish(\"Nemo\")\n",
    "nemo.swim()\n"
   ]
  },
  {
   "cell_type": "markdown",
   "id": "d2addea8",
   "metadata": {},
   "source": [
    "5. **Practical Application: Decision Making**\n",
    "   - Given a new feature \"Veterinary Care Records,\" decide whether it should be implemented using association, aggregation, composition, or inheritance with respect to the Animals or Zookeeper class.\n",
    "   - Justify your decision.\n",
    "\n"
   ]
  },
  {
   "cell_type": "code",
   "execution_count": 1,
   "id": "63d9b3a9",
   "metadata": {},
   "outputs": [],
   "source": [
    "class CareRecods:\n",
    "    def __init__(self, animal, description):\n",
    "        self.animal = animal\n",
    "        self.description = description"
   ]
  },
  {
   "cell_type": "markdown",
   "id": "fdd5b125",
   "metadata": {},
   "source": [
    "<hr style=\"width:100%; margin:auto; height:3px; background-color:#007acc; border:none;\">"
   ]
  },
  {
   "cell_type": "markdown",
   "id": "7f400cbc",
   "metadata": {},
   "source": [
    "**Practice: Hospital Management System:**\n",
    "\n",
    "**Scenario:**\n",
    "\n",
    "You are designing a system to simulate the relationships between different entities in a hospital. This system should include the following elements:\n",
    "\n",
    "- **Doctors** who treat patients.\n",
    "- **Patients** who receive care.\n",
    "- **Departments** where patients and doctors are assigned.\n",
    "- **Medical Equipment** that doctors use.\n",
    "- **Medical** Records that store patient health data.\n",
    "\n",
    "**Tasks:**"
   ]
  },
  {
   "cell_type": "markdown",
   "id": "c3830eab",
   "metadata": {},
   "source": [
    "**1. Association: Doctor and Equipment**\n",
    "\n",
    "- Model the relationship between a Doctor and the Equipment they use (e.g., stethoscope, defibrillator).\n",
    "\n",
    "- Show how one doctor can use multiple pieces of equipment, and how equipment can be used by multiple doctors."
   ]
  },
  {
   "cell_type": "code",
   "execution_count": 58,
   "id": "2c0b13a2",
   "metadata": {},
   "outputs": [],
   "source": [
    "class Equipment:\n",
    "    def __init__(self, name):\n",
    "        self.name = name\n",
    "    \n",
    "    def use(self):\n",
    "        print(f\"Using {self.name}\")\n",
    "    \n",
    "\n",
    "class Doctor:\n",
    "    def __init__(self, name, age, speciality):\n",
    "        self.name = name\n",
    "        self.age = age\n",
    "        self.speciality = speciality\n",
    "    \n",
    "    def using_equipment(self, equipment):\n",
    "        print(f\"{self.name} ({self.speciality}) right now is \")\n",
    "        equipment.use()\n"
   ]
  },
  {
   "cell_type": "code",
   "execution_count": 59,
   "id": "ff9c9a39",
   "metadata": {},
   "outputs": [
    {
     "name": "stdout",
     "output_type": "stream",
     "text": [
      "Dr.Alice Smith (Cardiology) right now is \n",
      "Using Stethoscope\n",
      "Dr.Alice Smith (Cardiology) right now is \n",
      "Using Defibrillator\n"
     ]
    }
   ],
   "source": [
    "alice = Doctor(\"Dr.Alice Smith\", 45, \"Cardiology\")\n",
    "\n",
    "stethoscope = Equipment(\"Stethoscope\")\n",
    "defibrillator = Equipment(\"Defibrillator\")\n",
    "\n",
    "alice.using_equipment(stethoscope)\n",
    "alice.using_equipment(defibrillator)"
   ]
  },
  {
   "cell_type": "code",
   "execution_count": 60,
   "id": "bbc84ffd",
   "metadata": {},
   "outputs": [
    {
     "name": "stdout",
     "output_type": "stream",
     "text": [
      "Dr.Brian Lee (Neurology) right now is \n",
      "Using Stethoscope\n"
     ]
    }
   ],
   "source": [
    "brian = Doctor(\"Dr.Brian Lee\",38, \"Neurology\")\n",
    "\n",
    "brian.using_equipment(stethoscope)"
   ]
  },
  {
   "cell_type": "markdown",
   "id": "df4b63be",
   "metadata": {},
   "source": [
    "**2. Aggregation: Department and Patients**\n",
    "\n",
    "- Create a “whole-part” relationship where Departments contain Patients.\n",
    "\n",
    "- Patients should be able to move between departments, without being tightly coupled to any single one."
   ]
  },
  {
   "cell_type": "code",
   "execution_count": 100,
   "id": "384645f2",
   "metadata": {},
   "outputs": [],
   "source": [
    "class Department:\n",
    "    def __init__(self, name):\n",
    "        self.name = name\n",
    "        self.patients = []\n",
    "    \n",
    "    def add_patient(self, patient):\n",
    "        self.patients.append(patient)\n",
    "    \n",
    "    def remove_patient(self, patient):\n",
    "        self.patients.remove(patient)\n",
    "    \n",
    "    def patients_list(self):\n",
    "        if len(self.patients) == 0:\n",
    "            print(f\"The {self.name} department is empty.\")\n",
    "        else:\n",
    "            print(f\"The current patients in {self.name} department are: \") \n",
    "            for patient in self.patients: \n",
    "                print(patient)\n",
    "\n",
    "class Patients:\n",
    "    def __init__(self, name, age, *symptoms):\n",
    "        self.name = name\n",
    "        self.age = age\n",
    "        self.symptoms = list(symptoms)\n",
    "\n",
    "    def display_info(self):\n",
    "        print(f\"Name: {self.name}\")\n",
    "        print(f\"Age: {self.age}\")\n",
    "        print(\"The symptoms are:\")\n",
    "        for symptom in self.symptoms:\n",
    "            print(symptom)\n",
    "\n",
    "    def __str__(self):\n",
    "        return f\"{self.name} (Age: {self.age})\"\n",
    "\n",
    "    def __repr__(self):\n",
    "        return self.__str__()\n"
   ]
  },
  {
   "cell_type": "code",
   "execution_count": 101,
   "id": "30609b87",
   "metadata": {},
   "outputs": [
    {
     "name": "stdout",
     "output_type": "stream",
     "text": [
      "The current patients in Cardiology department are: \n",
      "Anna White (Age: 28)\n",
      "Bob Green (Age: 42)\n"
     ]
    }
   ],
   "source": [
    "anna = Patients(\"Anna White\", 28, \"Headaches\", \"Nausea\")\n",
    "bob = Patients(\"Bob Green\", 42, \"Chest pain\", \"short breath\")\n",
    "cardiology = Department(\"Cardiology\")\n",
    "\n",
    "cardiology.add_patient(anna)\n",
    "cardiology.add_patient(bob)\n",
    "\n",
    "cardiology.patients_list()\n"
   ]
  },
  {
   "cell_type": "code",
   "execution_count": 102,
   "id": "245dd3a2",
   "metadata": {},
   "outputs": [
    {
     "name": "stdout",
     "output_type": "stream",
     "text": [
      "The current patients in Cardiology department are: \n",
      "Bob Green (Age: 42)\n"
     ]
    }
   ],
   "source": [
    "cardiology.remove_patient(anna)\n",
    "cardiology.patients_list()"
   ]
  },
  {
   "cell_type": "markdown",
   "id": "ba9dc1b9",
   "metadata": {},
   "source": [
    "**3. Composition: Hospital and Departments**\n",
    "\n",
    "- Design the relationship where the Hospital owns Departments.\n",
    "\n",
    "- When a Hospital is shut down, all associated Departments should be removed as well."
   ]
  },
  {
   "cell_type": "code",
   "execution_count": 112,
   "id": "e7cddba3",
   "metadata": {},
   "outputs": [
    {
     "name": "stdout",
     "output_type": "stream",
     "text": [
      "The Cardiology department added to the hospital\n",
      "The Pediatrics department added to the hospital\n",
      "Closing the hospital and all departments.\n"
     ]
    }
   ],
   "source": [
    "class Hospital:\n",
    "    def __init__(self):\n",
    "        self.departments = []\n",
    "\n",
    "    def add_department(self, department):\n",
    "        self.departments.append(department)\n",
    "        print(f\"The {department.name} department added to the hospital\")\n",
    "    \n",
    "    def close(self):\n",
    "        print(\"Closing the hospital and all departments.\")\n",
    "        del self.departments\n",
    "\n",
    "hospital = Hospital()\n",
    "\n",
    "cardiology = Department(\"Cardiology\")\n",
    "pediatrics = Department(\"Pediatrics\")\n",
    "hospital.add_department(cardiology)\n",
    "hospital.add_department(pediatrics)\n",
    "\n",
    "hospital.close()"
   ]
  },
  {
   "cell_type": "markdown",
   "id": "42799702",
   "metadata": {},
   "source": [
    "**4. Inheritance: Person → Doctor and Patient**\n",
    "\n",
    "- Use inheritance to model that both Doctor and Patient are types of Persons.\n",
    "\n",
    "- Implement shared attributes (like name, age) in the base class, and specific behaviors in the subclasses."
   ]
  },
  {
   "cell_type": "code",
   "execution_count": null,
   "id": "63199c4f",
   "metadata": {},
   "outputs": [],
   "source": [
    "class Person:\n",
    "    def __init__(self, name, age):\n",
    "        self.name = name\n",
    "        self.age = age\n",
    "    def display_info(self):\n",
    "        print(f\"Name: {self.name}\")\n",
    "        print(f\"Age: {self.age}\")\n",
    "\n",
    "\n",
    "class Doctor(Person):\n",
    "    def __init__(self, name, age, speciality):\n",
    "        super().__init__(name, age)\n",
    "        self.speciality = speciality\n",
    "    \n",
    "    def using_equipment(self, equipment):\n",
    "        print(f\"{self.name} ({self.speciality}) right now is \")\n",
    "        equipment.use()\n",
    "    \n",
    "    def display_info(self):\n",
    "        super().display_info()\n",
    "        print(f\"Speciality: {self.speciality}\")\n",
    "\n",
    "\n",
    "class Patients(Person):\n",
    "    def __init__(self, name, age, *symptoms):\n",
    "        super().__init__(name,age)\n",
    "        self.symptoms = list(symptoms)\n",
    "\n",
    "    def display_info(self):\n",
    "        super().display_info()\n",
    "        print(\"The symptoms are:\")\n",
    "        for symptom in self.symptoms:\n",
    "            print(symptom)\n",
    "\n",
    "    def __str__(self):\n",
    "        return f\"{self.name} (Age: {self.age})\"\n",
    "\n",
    "    def __repr__(self):\n",
    "        return self.__str__()"
   ]
  },
  {
   "cell_type": "code",
   "execution_count": 122,
   "id": "97980c1d",
   "metadata": {},
   "outputs": [
    {
     "name": "stdout",
     "output_type": "stream",
     "text": [
      "Name: Dr.Brian Lee\n",
      "Age: 38\n",
      "Speciality: Neurology\n"
     ]
    }
   ],
   "source": [
    "brian = Doctor(\"Dr.Brian Lee\",38, \"Neurology\")\n",
    "brian.display_info()"
   ]
  },
  {
   "cell_type": "code",
   "execution_count": 123,
   "id": "b84c6600",
   "metadata": {},
   "outputs": [
    {
     "name": "stdout",
     "output_type": "stream",
     "text": [
      "Name: Anna White\n",
      "Age: 28\n",
      "The symptoms are:\n",
      "Headaches\n",
      "Nausea\n"
     ]
    }
   ],
   "source": [
    "\n",
    "anna = Patients(\"Anna White\", 28, \"Headaches\", \"Nausea\")\n",
    "anna.display_info()"
   ]
  },
  {
   "cell_type": "markdown",
   "id": "dc533400",
   "metadata": {},
   "source": [
    "**5. Practical Application: Medical Records**\n",
    "\n",
    "- Introduce a new feature: Medical Records.\n",
    "\n",
    "- Decide whether this feature should be implemented using association, aggregation, composition, or inheritance with respect to the Patient class.\n",
    "\n",
    "Justify your decision.\n"
   ]
  },
  {
   "cell_type": "code",
   "execution_count": 147,
   "id": "f0341215",
   "metadata": {},
   "outputs": [],
   "source": [
    "# This code demonstrates aggregation because it represents a \"has-a\" relationship \n",
    "# each patient has one or more medical records. \n",
    "# It's not composition because the medical records are created independently and can exist even if the patient is deleted.\n",
    "class MedicalRecord:\n",
    "    def __init__(self, date, description):\n",
    "        self.date = date\n",
    "        self.description = description\n",
    "\n",
    "class Patients(Person):\n",
    "    def __init__(self, name, age, *symptoms):\n",
    "        super().__init__(name,age)\n",
    "        self.symptoms = list(symptoms)\n",
    "        self.records = []\n",
    "\n",
    "    def display_info(self):\n",
    "        super().display_info()\n",
    "        print(\"The symptoms are:\")\n",
    "        for symptom in self.symptoms:\n",
    "            print(symptom)\n",
    "\n",
    "    def add_record(self, record):\n",
    "        self.records.append(record)\n",
    "    \n",
    "    def show_record(self):\n",
    "        print(f\"\\nMedical Records for {self.name}:\")\n",
    "        \n",
    "        if len(self.records) == 0:\n",
    "            print(f\"There is no medical record of {self.name}\")\n",
    "        else:\n",
    "            for record in self.records:\n",
    "                print(f\"- [{record.date}] {record.description}\")\n",
    "\n",
    "\n",
    "    def __str__(self):\n",
    "        return f\"{self.name} (Age: {self.age})\"\n",
    "\n",
    "    def __repr__(self):\n",
    "        return self.__str__()"
   ]
  },
  {
   "cell_type": "code",
   "execution_count": 148,
   "id": "877c6d83",
   "metadata": {},
   "outputs": [
    {
     "name": "stdout",
     "output_type": "stream",
     "text": [
      "\n",
      "Medical Records for Anna White:\n",
      "- [2025-09-08] Diagnosed with flu\n",
      "- [2025-09-15] MRI brain scan\n"
     ]
    }
   ],
   "source": [
    "anna = Patients(\"Anna White\", 28, \"Headaches\", \"Nausea\")\n",
    "record1 = MedicalRecord(\"2025-09-08\", \"Diagnosed with flu\")\n",
    "record2 = MedicalRecord(\"2025-09-15\", \"MRI brain scan\")\n",
    "\n",
    "\n",
    "anna.add_record(record1)\n",
    "anna.add_record(record2)\n",
    "anna.show_record()\n"
   ]
  }
 ],
 "metadata": {
  "kernelspec": {
   "display_name": "python2023",
   "language": "python",
   "name": "python3"
  },
  "language_info": {
   "codemirror_mode": {
    "name": "ipython",
    "version": 3
   },
   "file_extension": ".py",
   "mimetype": "text/x-python",
   "name": "python",
   "nbconvert_exporter": "python",
   "pygments_lexer": "ipython3",
   "version": "3.13.5"
  }
 },
 "nbformat": 4,
 "nbformat_minor": 5
}
