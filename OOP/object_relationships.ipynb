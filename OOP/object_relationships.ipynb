{
 "cells": [
  {
   "cell_type": "markdown",
   "id": "a7617939",
   "metadata": {},
   "source": [
    "**Scenario:**\n",
    "You are tasked with developing a small system for a zoo that simulates the relationships between different entities in the zoo. Here are the elements you'll need to work with:\n",
    "\n",
    "- **Zookeepers** who care for the animals.\n",
    "- **Animals** of different species.\n",
    "- **Habitats** where animals live.\n",
    "- **Tools** that zookeepers use to care for animals.\n",
    "\n",
    "**Tasks:**\n",
    "\n",
    "1. **Association: Zookeeper and Tools**\n",
    "   - Model the relationship between a Zookeeper and their Tools (e.g., broom, food bucket). \n",
    "   - Demonstrate how a zookeeper can use different tools, but tools can be used by different zookeepers as well.\n",
    "\n",
    "2. **Aggregation: Habitat and Animals**\n",
    "   - Implement the \"Whole-Part\" relationship between a Habitat and the Animals that live in it.\n",
    "   - Show how animals can be moved between habitats without being tightly coupled to a specific habitat.\n",
    "\n",
    "3. **Composition: Zoo and Habitats**\n",
    "   - Design the strong \"Whole-Part\" relationship between the Zoo and its Habitats.\n",
    "   - Ensure that when a Zoo is shut down, all associated Habitat objects are also removed.\n",
    "\n",
    "4. **Inheritance: Species and Animals**\n",
    "   - Use inheritance to model the relationship between different species (e.g., Lion, Penguin) and the base class Animal.\n",
    "   - Implement common behaviors in the Animal class and specific behaviors in the derived species classes.\n",
    "\n",
    "5. **Practical Application: Decision Making**\n",
    "   - Given a new feature \"Veterinary Care Records,\" decide whether it should be implemented using association, aggregation, composition, or inheritance with respect to the Animals or Zookeeper class.\n",
    "   - Justify your decision.\n",
    "\n",
    "6. **Designing with Object Relationships**\n",
    "   - Discuss the best practices for implementing the relationships between the various entities in your zoo simulation.\n",
    "   - Highlight potential pitfalls to avoid in the design of your simulation."
   ]
  }
 ],
 "metadata": {
  "language_info": {
   "name": "python"
  }
 },
 "nbformat": 4,
 "nbformat_minor": 5
}
