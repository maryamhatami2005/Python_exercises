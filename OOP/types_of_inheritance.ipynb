{
 "cells": [
  {
   "cell_type": "markdown",
   "id": "a73e9220",
   "metadata": {},
   "source": [
    "**Tasks**\n",
    "\n",
    "1. **Implement Single Inheritance**:\n",
    "   - Create a base class named `Person` with attributes `name` and `age` and a method `introduce_self()` that prints out a greeting containing the person's name and age.\n",
    "   - Create a subclass named `UniversityMember` that inherits from `Person`. Add an attribute `university_name` and override the `introduce_self()` method to include the university name in the greeting.\n",
    "\n",
    "2. **Implement Multilevel Inheritance**:\n",
    "   - Create two subclasses of `UniversityMember`: `Student` and `Instructor`. For `Student`, add an attribute `student_id`, and for `Instructor`, add an attribute `employee_id`.\n",
    "   - Override the `introduce_self()` method in each subclass to include their respective ID along with the inherited attributes.\n",
    "\n",
    "3. **Implement Hierarchical Inheritance**:\n",
    "   - Demonstrate hierarchical inheritance by showing how `Student` and `Instructor` classes inherit from the same parent (`UniversityMember`) but represent different entities.\n",
    "   - Instantiate objects of `Student` and `Instructor`, set their attributes, and call their `introduce_self()` methods to see the different outputs.\n"
   ]
  }
 ],
 "metadata": {
  "language_info": {
   "name": "python"
  }
 },
 "nbformat": 4,
 "nbformat_minor": 5
}
