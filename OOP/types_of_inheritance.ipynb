{
 "cells": [
  {
   "cell_type": "markdown",
   "id": "a73e9220",
   "metadata": {},
   "source": [
    "**Tasks**\n",
    "\n",
    "1. **Implement Single Inheritance**:\n",
    "   - Create a base class named `Person` with attributes `name` and `age` and a method `introduce_self()` that prints out a greeting containing the person's name and age.\n",
    "   - Create a subclass named `UniversityMember` that inherits from `Person`. Add an attribute `university_name` and override the `introduce_self()` method to include the university name in the greeting.\n"
   ]
  },
  {
   "cell_type": "code",
   "execution_count": 25,
   "id": "12102ba2",
   "metadata": {},
   "outputs": [],
   "source": [
    "class Person:\n",
    "    def __init__(self, name, age):\n",
    "        self.name = name\n",
    "        self.age = age\n",
    "    \n",
    "    def introduce_self(self):\n",
    "        print(f\"Hello! My name is {self.name} and I am {self.age} years old.\")\n",
    "    \n",
    "class UniversityMember(Person):\n",
    "    def __init__(self, name, age, university_name):\n",
    "        super().__init__(name, age)\n",
    "        self.university_name = university_name\n",
    "    \n",
    "    def introduce_self(self):\n",
    "        super().introduce_self()\n",
    "        print(f\"I am a member of {self.university_name} University.\")"
   ]
  },
  {
   "cell_type": "markdown",
   "id": "bdfe247b",
   "metadata": {},
   "source": [
    "2. **Implement Multilevel Inheritance**:\n",
    "   - Create two subclasses of `UniversityMember`: `Student` and `Instructor`. For `Student`, add an attribute `student_id`, and for `Instructor`, add an attribute `employee_id`.\n",
    "   - Override the `introduce_self()` method in each subclass to include their respective ID along with the inherited attributes."
   ]
  },
  {
   "cell_type": "code",
   "execution_count": 28,
   "id": "d9e53a0d",
   "metadata": {},
   "outputs": [],
   "source": [
    "class Student(UniversityMember):\n",
    "    def __init__(self, name, age, university_name, student_id):\n",
    "        super().__init__(name, age, university_name)\n",
    "        self.student_id = student_id\n",
    "    \n",
    "    def introduce_self(self):\n",
    "        super().introduce_self()\n",
    "        print(f\"I am a student with ID: {self.student_id}\")\n",
    "\n",
    "\n",
    "class Instructor(UniversityMember):\n",
    "    def __init__(self, name, age, university_name, employee_id):\n",
    "        super().__init__(name, age, university_name)\n",
    "        self.employee_id = employee_id\n",
    "    \n",
    "    def introduce_self(self):\n",
    "        super().introduce_self()\n",
    "        print(f\"I am an instructor with ID: {self.employee_id}\")"
   ]
  },
  {
   "cell_type": "markdown",
   "id": "b8032589",
   "metadata": {},
   "source": [
    "3. **Implement Hierarchical Inheritance**:\n",
    "   - Demonstrate hierarchical inheritance by showing how `Student` and `Instructor` classes inherit from the same parent (`UniversityMember`) but represent different entities.\n",
    "   - Instantiate objects of `Student` and `Instructor`, set their attributes, and call their `introduce_self()` methods to see the different outputs."
   ]
  },
  {
   "cell_type": "code",
   "execution_count": 29,
   "id": "1a2db00b",
   "metadata": {},
   "outputs": [
    {
     "name": "stdout",
     "output_type": "stream",
     "text": [
      "Hello! My name is Bob and I am 20 years old.\n",
      "I am a member of XYZ University.\n",
      "I am a student with ID: S531\n"
     ]
    }
   ],
   "source": [
    "student = Student(\"Bob\", 20, \"XYZ\", \"S531\")\n",
    "student.introduce_self()"
   ]
  },
  {
   "cell_type": "code",
   "execution_count": 31,
   "id": "341655ca",
   "metadata": {},
   "outputs": [
    {
     "name": "stdout",
     "output_type": "stream",
     "text": [
      "Hello! My name is Alice and I am 34 years old.\n",
      "I am a member of ABC University.\n",
      "I am an instructor with ID: E345\n"
     ]
    }
   ],
   "source": [
    "instructor = Instructor(\"Alice\", 34, \"ABC\", \"E345\")\n",
    "instructor.introduce_self()"
   ]
  }
 ],
 "metadata": {
  "kernelspec": {
   "display_name": "python2023",
   "language": "python",
   "name": "python3"
  },
  "language_info": {
   "codemirror_mode": {
    "name": "ipython",
    "version": 3
   },
   "file_extension": ".py",
   "mimetype": "text/x-python",
   "name": "python",
   "nbconvert_exporter": "python",
   "pygments_lexer": "ipython3",
   "version": "3.13.5"
  }
 },
 "nbformat": 4,
 "nbformat_minor": 5
}
