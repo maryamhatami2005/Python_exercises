{
 "cells": [
  {
   "cell_type": "markdown",
   "id": "7e2c35cb",
   "metadata": {},
   "source": [
    "Given the following sets:"
   ]
  },
  {
   "cell_type": "code",
   "execution_count": 2,
   "id": "e9d9501d",
   "metadata": {},
   "outputs": [],
   "source": [
    "set_x = {10, 20, 30, 40, 50}\n",
    "set_y = {30, 40, 50, 60, 70}\n",
    "set_z = {5, 15, 25, 35}"
   ]
  },
  {
   "cell_type": "markdown",
   "id": "4cb2a80a",
   "metadata": {},
   "source": [
    "Perform the following operations:\n"
   ]
  },
  {
   "cell_type": "markdown",
   "id": "2805fc5c",
   "metadata": {},
   "source": [
    "1. Find the union of `set_x` and `set_y` using both the `.union()` method and the `|` operator. Verify that the result is the same."
   ]
  },
  {
   "cell_type": "code",
   "execution_count": 3,
   "id": "edd9d532",
   "metadata": {},
   "outputs": [
    {
     "data": {
      "text/plain": [
       "{10, 20, 30, 40, 50, 60, 70}"
      ]
     },
     "execution_count": 3,
     "metadata": {},
     "output_type": "execute_result"
    }
   ],
   "source": [
    "set_x.union(set_y)"
   ]
  },
  {
   "cell_type": "code",
   "execution_count": 4,
   "id": "8cd4fb82",
   "metadata": {},
   "outputs": [
    {
     "data": {
      "text/plain": [
       "{10, 20, 30, 40, 50, 60, 70}"
      ]
     },
     "execution_count": 4,
     "metadata": {},
     "output_type": "execute_result"
    }
   ],
   "source": [
    "set_x | set_y"
   ]
  },
  {
   "cell_type": "code",
   "execution_count": 6,
   "id": "13ac9a4d",
   "metadata": {},
   "outputs": [
    {
     "data": {
      "text/plain": [
       "True"
      ]
     },
     "execution_count": 6,
     "metadata": {},
     "output_type": "execute_result"
    }
   ],
   "source": [
    "(set_x | set_y) == (set_x.union(set_y))"
   ]
  },
  {
   "cell_type": "markdown",
   "id": "d0964159",
   "metadata": {},
   "source": [
    "2. Compute the intersection of `set_x`, `set_y`, and `set_z` using the `.intersection()` method. "
   ]
  },
  {
   "cell_type": "code",
   "execution_count": 7,
   "id": "9beb0e33",
   "metadata": {},
   "outputs": [
    {
     "data": {
      "text/plain": [
       "set()"
      ]
     },
     "execution_count": 7,
     "metadata": {},
     "output_type": "execute_result"
    }
   ],
   "source": [
    "set_x.intersection(set_y,set_z)"
   ]
  },
  {
   "cell_type": "markdown",
   "id": "3ca5910e",
   "metadata": {},
   "source": [
    "3. Determine the symmetric difference between `set_y` and `set_z` using both the `.symmetric_difference()` method and the `^` operator. Check if the outcomes match."
   ]
  },
  {
   "cell_type": "code",
   "execution_count": 8,
   "id": "92f9425e",
   "metadata": {},
   "outputs": [
    {
     "data": {
      "text/plain": [
       "{5, 15, 25, 30, 35, 40, 50, 60, 70}"
      ]
     },
     "execution_count": 8,
     "metadata": {},
     "output_type": "execute_result"
    }
   ],
   "source": [
    "set_y ^ set_z"
   ]
  },
  {
   "cell_type": "code",
   "execution_count": 9,
   "id": "fba5bf7e",
   "metadata": {},
   "outputs": [
    {
     "data": {
      "text/plain": [
       "{5, 15, 25, 30, 35, 40, 50, 60, 70}"
      ]
     },
     "execution_count": 9,
     "metadata": {},
     "output_type": "execute_result"
    }
   ],
   "source": [
    "set_y.symmetric_difference(set_z)"
   ]
  },
  {
   "cell_type": "code",
   "execution_count": 10,
   "id": "ba995e59",
   "metadata": {},
   "outputs": [
    {
     "data": {
      "text/plain": [
       "True"
      ]
     },
     "execution_count": 10,
     "metadata": {},
     "output_type": "execute_result"
    }
   ],
   "source": [
    "(set_y ^ set_z) == (set_y.symmetric_difference(set_z))"
   ]
  },
  {
   "cell_type": "markdown",
   "id": "51736ddf",
   "metadata": {},
   "source": [
    "4. Use the difference operator `-` to find elements in `set_x` that are not in `set_y`."
   ]
  },
  {
   "cell_type": "code",
   "execution_count": 11,
   "id": "d41cb92c",
   "metadata": {},
   "outputs": [
    {
     "data": {
      "text/plain": [
       "{10, 20}"
      ]
     },
     "execution_count": 11,
     "metadata": {},
     "output_type": "execute_result"
    }
   ],
   "source": [
    "set_x - set_y"
   ]
  },
  {
   "cell_type": "markdown",
   "id": "40ce6824",
   "metadata": {},
   "source": [
    "5. Attempt to perform an operation that combines all three sets, `set_x`, `set_y`, and `set_z`, into a new set containing elements shared by at least two of the sets. Hint: You may need to use method chaining or additional parentheses with operators to achieve this."
   ]
  },
  {
   "attachments": {
    "photo_2025-07-24_20-14-36.jpg": {
     "image/jpeg": "[encoded data removed]"
    }
   },
   "cell_type": "markdown",
   "id": "583aefad",
   "metadata": {},
   "source": [
    "![photo_2025-07-24_20-14-36.jpg](attachment:photo_2025-07-24_20-14-36.jpg)"
   ]
  },
  {
   "cell_type": "code",
   "execution_count": 12,
   "id": "1a4e76a6",
   "metadata": {},
   "outputs": [
    {
     "data": {
      "text/plain": [
       "{30, 40, 50}"
      ]
     },
     "execution_count": 12,
     "metadata": {},
     "output_type": "execute_result"
    }
   ],
   "source": [
    "(set_x & set_y) | (set_x & set_z) | (set_y & set_z)"
   ]
  },
  {
   "cell_type": "code",
   "execution_count": null,
   "id": "278d7a04",
   "metadata": {},
   "outputs": [],
   "source": []
  }
 ],
 "metadata": {
  "kernelspec": {
   "display_name": "python2023",
   "language": "python",
   "name": "python3"
  },
  "language_info": {
   "codemirror_mode": {
    "name": "ipython",
    "version": 3
   },
   "file_extension": ".py",
   "mimetype": "text/x-python",
   "name": "python",
   "nbconvert_exporter": "python",
   "pygments_lexer": "ipython3",
   "version": "3.13.5"
  }
 },
 "nbformat": 4,
 "nbformat_minor": 5
}
