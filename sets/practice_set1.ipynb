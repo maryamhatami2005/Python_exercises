{
 "cells": [
  {
   "cell_type": "markdown",
   "id": "90ffcba5",
   "metadata": {},
   "source": [
    "- **Exercise 1:** Set Creation and Membership\n",
    "Create a set named `colors` that contains the colors 'red', 'green', 'blue', and 'yellow'. Verify if 'purple' is in the `colors` set. Add 'purple' to the set and check again."
   ]
  },
  {
   "cell_type": "markdown",
   "id": "afa70ab1",
   "metadata": {},
   "source": [
    "- **Exercise 2:** Unique Elements\n",
    "Given the list `numbers_list = [1, 2, 3, 4, 3, 2, 1, 5, 6, 5, 4]`, create a set named `unique_numbers` from this list. Determine how many unique numbers are in `numbers_list` by checking the size of `unique_numbers`.\n"
   ]
  },
  {
   "cell_type": "markdown",
   "id": "e27cf22c",
   "metadata": {},
   "source": [
    "- **Exercise 3:** Adding Multiple Elements\n",
    "You have a set `flavors` containing 'chocolate', 'vanilla', and 'strawberry'. Update `flavors` to include 'mint' and 'bubble gum' using a single command."
   ]
  },
  {
   "cell_type": "markdown",
   "id": "d7062fda",
   "metadata": {},
   "source": [
    "- **Exercise 4:** Removing Elements\n",
    "There is a set `tools` with elements 'hammer', 'wrench', 'screwdriver', and 'pliers'. Remove 'wrench' from `tools` using `.remove()`. Then, using `.discard()`, attempt to remove 'saw' from `tools`."
   ]
  },
  {
   "cell_type": "markdown",
   "id": "3419a84a",
   "metadata": {},
   "source": [
    "- **Exercise 5:** Safe Element Removal\n",
    "Create a set `planets` including 'earth', 'jupiter', and 'mars'. Safely remove 'venus' from the set `planets` using a method that will not raise an error even if the item does not exist."
   ]
  },
  {
   "cell_type": "markdown",
   "id": "07801707",
   "metadata": {},
   "source": [
    "- **Exercise 6:** Clearing a Set\n",
    "Take the `planets` set and clear all of its elements, ensuring that it is emptied completely."
   ]
  }
 ],
 "metadata": {
  "language_info": {
   "name": "python"
  }
 },
 "nbformat": 4,
 "nbformat_minor": 5
}
