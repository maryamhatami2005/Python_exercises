{
 "cells": [
  {
   "cell_type": "markdown",
   "id": "787b1685",
   "metadata": {},
   "source": [
    "**Tasks:**\n",
    "\n",
    "1. **Calculate the Number of Months to Reach the Savings Goal**:\n",
    "   Using a `while` loop, calculate how many months it will take for the account balance to reach or exceed the savings goal. Assume that the interest is applied annually (i.e., the balance increases by the annual interest rate once every 12 months). Print the number of months needed.\n",
    "\n",
    "2. **Print the Account Balance at the End of Each Year**:\n",
    "   Modify the `while` loop from Task 1 to print the account balance at the end of each year until the savings goal is reached.\n",
    "\n",
    "3. **Bonus: Adjust for Different Interest Application Frequencies**:\n",
    "   Adjust the `while` loop to apply interest on a different frequency (e.g., monthly, quarterly). The frequency can be a variable that you define. Print the number of months needed to reach the savings goal with this new interest application frequency."
   ]
  },
  {
   "cell_type": "code",
   "execution_count": 1,
   "id": "a70ebe57",
   "metadata": {},
   "outputs": [],
   "source": [
    "initial_balance = 1000  # The starting balance in the account.\n",
    "monthly_deposit = 100   # The fixed amount deposited into the account each month.\n",
    "annual_interest_rate = 0.05  # The annual interest rate as a decimal (5% here).\n",
    "savings_goal = 2000     # The target balance you want to reach."
   ]
  },
  {
   "cell_type": "code",
   "execution_count": null,
   "id": "c2b2e4ad",
   "metadata": {},
   "outputs": [],
   "source": []
  }
 ],
 "metadata": {
  "kernelspec": {
   "display_name": "python2023",
   "language": "python",
   "name": "python3"
  },
  "language_info": {
   "codemirror_mode": {
    "name": "ipython",
    "version": 3
   },
   "file_extension": ".py",
   "mimetype": "text/x-python",
   "name": "python",
   "nbconvert_exporter": "python",
   "pygments_lexer": "ipython3",
   "version": "3.13.5"
  }
 },
 "nbformat": 4,
 "nbformat_minor": 5
}
