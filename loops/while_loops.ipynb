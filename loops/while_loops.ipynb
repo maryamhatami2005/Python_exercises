{
 "cells": [
  {
   "cell_type": "markdown",
   "id": "787b1685",
   "metadata": {},
   "source": [
    "**Tasks:**\n",
    "\n",
    "1. **Calculate the Number of Months to Reach the Savings Goal**:\n",
    "   Using a `while` loop, calculate how many months it will take for the account balance to reach or exceed the savings goal. Assume that the interest is applied annually (i.e., the balance increases by the annual interest rate once every 12 months). Print the number of months needed.\n",
    "\n",
    "2. **Print the Account Balance at the End of Each Year**:\n",
    "   Modify the `while` loop from Task 1 to print the account balance at the end of each year until the savings goal is reached.\n",
    "\n",
    "3. **Bonus: Adjust for Different Interest Application Frequencies**:\n",
    "   Adjust the `while` loop to apply interest on a different frequency (e.g., monthly, quarterly). The frequency can be a variable that you define. Print the number of months needed to reach the savings goal with this new interest application frequency."
   ]
  },
  {
   "cell_type": "code",
   "execution_count": null,
   "id": "0688b14c",
   "metadata": {},
   "outputs": [
    {
     "name": "stdout",
     "output_type": "stream",
     "text": [
      "It takes 11 months to reach the savings goals\n"
     ]
    }
   ],
   "source": [
    "# Task 1\n",
    "\n",
    "initial_balance = 1000  \n",
    "monthly_deposit = 100   \n",
    "annual_interest_rate = 0.05 \n",
    "savings_goal = 2000    \n",
    "\n",
    "balance = initial_balance\n",
    "month_counter = 0\n",
    "\n",
    "while balance <= savings_goal:\n",
    "    balance += monthly_deposit\n",
    "    month_counter += 1\n",
    "    if month_counter % 12 == 0 and month_counter > 0 :\n",
    "        balance += balance * annual_interest_rate\n",
    "    \n",
    "\n",
    "print(f\"It takes {month_counter} months to reach the savings goals\")"
   ]
  },
  {
   "cell_type": "code",
   "execution_count": 36,
   "id": "3f6858db",
   "metadata": {},
   "outputs": [
    {
     "name": "stdout",
     "output_type": "stream",
     "text": [
      "Account balance at the year 1 is $ 2310.00\n",
      "Account balance at the year 2 is $ 3685.50\n",
      "It takes 28 months to reach the savings goals\n"
     ]
    }
   ],
   "source": [
    "# Task 2\n",
    "\n",
    "initial_balance = 1000  \n",
    "monthly_deposit = 100   \n",
    "annual_interest_rate = 0.05 \n",
    "savings_goal = 4000  \n",
    "\n",
    "\n",
    "balance = initial_balance\n",
    "month_counter = 0\n",
    "\n",
    "while balance <= savings_goal:\n",
    "    balance += monthly_deposit\n",
    "    month_counter += 1\n",
    "    if month_counter % 12 == 0 and month_counter > 0:\n",
    "        balance += balance * annual_interest_rate\n",
    "        print(f\"Account balance at the year {month_counter // 12} is ${balance : .2f}\")\n",
    "    1\n",
    "\n",
    "print(f\"It takes {month_counter} months to reach the savings goals\")"
   ]
  },
  {
   "cell_type": "code",
   "execution_count": 39,
   "id": "d6ef075f",
   "metadata": {},
   "outputs": [
    {
     "name": "stdout",
     "output_type": "stream",
     "text": [
      "monthly deposit is 500\n",
      "monthly deposit is 500\n",
      "monthly deposit is 567\n",
      "monthly deposit is 766\n",
      "monthly deposit is 457\n",
      "monthly deposit is 4734\n",
      "It takes 6 months to reach the savings goals\n"
     ]
    }
   ],
   "source": [
    "# Task 2\n",
    "\n",
    "initial_balance = 1000  \n",
    "monthly_deposit = int(input(\"Enter your monthly deposit: \"))  \n",
    "annual_interest_rate = 0.05 \n",
    "savings_goal = 4000  \n",
    "\n",
    "\n",
    "balance = initial_balance\n",
    "month_counter = 0\n",
    "\n",
    "while balance <= savings_goal:\n",
    "    balance += monthly_deposit\n",
    "    month_counter += 1\n",
    "    monthly_deposit = int(input(\"Enter your monthly deposit: \"))\n",
    "    print (f\"monthly deposit is {monthly_deposit}\")\n",
    "    if month_counter % 12 == 0 and month_counter > 0:\n",
    "        balance += balance * annual_interest_rate\n",
    "        print(f\"Account balance at the year {month_counter // 12} is ${balance : .2f}\")\n",
    "    1\n",
    "\n",
    "print(f\"It takes {month_counter} months to reach the savings goals\")\n"
   ]
  },
  {
   "cell_type": "code",
   "execution_count": 45,
   "id": "205b94c4",
   "metadata": {},
   "outputs": [
    {
     "name": "stdout",
     "output_type": "stream",
     "text": [
      "Interest applied every 3 months: It will take 10 months to reach the savings goal.\n"
     ]
    }
   ],
   "source": [
    "# Task 3\n",
    "\n",
    "initial_balance = 1000  \n",
    "monthly_deposit = 100   \n",
    "annual_interest_rate = 0.05 \n",
    "savings_goal = 2000    \n",
    "interest_frequency = 3 # quarterly inerest\n",
    "\n",
    "balance = initial_balance\n",
    "month_counter = 0\n",
    "\n",
    "while balance <= savings_goal:\n",
    "\n",
    "    balance += monthly_deposit\n",
    "    month_counter += 1\n",
    "\n",
    "    if month_counter % interest_frequency == 0 and month_counter > 0 :\n",
    "        balance += balance * (annual_interest_rate / (12 / interest_frequency))\n",
    "    \n",
    "\n",
    "print(f\"Interest applied every {interest_frequency} months: It will take {month_counter} months to reach the savings goal.\")"
   ]
  }
 ],
 "metadata": {
  "kernelspec": {
   "display_name": "python2023",
   "language": "python",
   "name": "python3"
  },
  "language_info": {
   "codemirror_mode": {
    "name": "ipython",
    "version": 3
   },
   "file_extension": ".py",
   "mimetype": "text/x-python",
   "name": "python",
   "nbconvert_exporter": "python",
   "pygments_lexer": "ipython3",
   "version": "3.13.5"
  }
 },
 "nbformat": 4,
 "nbformat_minor": 5
}
