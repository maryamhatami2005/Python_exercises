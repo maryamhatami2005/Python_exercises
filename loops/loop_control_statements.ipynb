{
 "cells": [
  {
   "cell_type": "markdown",
   "id": "02f96c9e",
   "metadata": {},
   "source": [
    "**Tasks:**\n",
    "\n",
    "1. **Find and Print the First Zero**:\n",
    "   Use a `for` loop to iterate through the list and print the first zero you encounter. Use the `break` statement to exit the loop once the zero is found.\n",
    "\n",
    "2. **Print Non-Zero Numbers**:\n",
    "   Write another `for` loop that prints all the numbers in the list except for the zeros. Use the `continue` statement to skip printing zeros.\n",
    "\n",
    "3. **Use `pass` as a Placeholder**:\n",
    "   Suppose you want to iterate over the list and process non-zero numbers in the future, but the processing code isn't ready yet. Use a `for` loop with the `pass` statement as a placeholder for non-zero numbers and print \"Zero found\" for zeros.\n",
    "\n",
    "4. **Bonus: Implement a Retry Mechanism**: (Optional, this may be challenging)\n",
    "   Simulate a simple retry mechanism using a `while` loop. You are trying to connect to a server, and the connection attempts are represented by the list of numbers. A zero means the connection failed, and any non-zero number represents a successful connection. Use a `for` loop inside a `while` loop to iterate through the connection attempts. If a connection is successful (`non-zero`), print \"Connected\" and use the `break` statement to exit both loops. If all connection attempts fail after iterating through the whole list, print \"All connection attempts failed. Retrying...\" and start the connection attempts again. Limit the number of retries to 3 to avoid an infinite loop.\n"
   ]
  },
  {
   "cell_type": "code",
   "execution_count": 1,
   "id": "1a6415e4",
   "metadata": {},
   "outputs": [],
   "source": [
    "numbers = [7, 8, 0, 4, 3, 0, 5, 6, 0, 1]"
   ]
  },
  {
   "cell_type": "code",
   "execution_count": 4,
   "id": "a7770867",
   "metadata": {},
   "outputs": [
    {
     "name": "stdout",
     "output_type": "stream",
     "text": [
      "7\n",
      "8\n",
      "0\n"
     ]
    }
   ],
   "source": [
    "for num in numbers :\n",
    "    print(num)\n",
    "    if (num == 0) :\n",
    "        break"
   ]
  },
  {
   "cell_type": "code",
   "execution_count": 5,
   "id": "91951d32",
   "metadata": {},
   "outputs": [
    {
     "name": "stdout",
     "output_type": "stream",
     "text": [
      "7\n",
      "8\n",
      "4\n",
      "3\n",
      "5\n",
      "6\n",
      "1\n"
     ]
    }
   ],
   "source": [
    "for num in numbers :\n",
    "    if (num == 0):\n",
    "        continue\n",
    "    print(num)"
   ]
  },
  {
   "cell_type": "code",
   "execution_count": 3,
   "id": "a08462d1",
   "metadata": {},
   "outputs": [],
   "source": [
    "for num in numbers :\n",
    "    if (num != 0) :\n",
    "        pass"
   ]
  },
  {
   "cell_type": "code",
   "execution_count": null,
   "id": "10f19f26",
   "metadata": {},
   "outputs": [],
   "source": []
  }
 ],
 "metadata": {
  "kernelspec": {
   "display_name": "python2023",
   "language": "python",
   "name": "python3"
  },
  "language_info": {
   "codemirror_mode": {
    "name": "ipython",
    "version": 3
   },
   "file_extension": ".py",
   "mimetype": "text/x-python",
   "name": "python",
   "nbconvert_exporter": "python",
   "pygments_lexer": "ipython3",
   "version": "3.13.5"
  }
 },
 "nbformat": 4,
 "nbformat_minor": 5
}
