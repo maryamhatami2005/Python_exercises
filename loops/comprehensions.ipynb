{
 "cells": [
  {
   "cell_type": "markdown",
   "id": "452458e9",
   "metadata": {},
   "source": [
    "**List comprehensions**\n",
    "- Create a list of the first 10 cube numbers.\n",
    "- Use a list comprehension to extract all the vowels from a given string.\n",
    "- Use a list comprehension to convert a list of temperatures in Celsius to Fahrenheit.\n"
   ]
  },
  {
   "cell_type": "code",
   "execution_count": 4,
   "id": "13f81546",
   "metadata": {},
   "outputs": [
    {
     "data": {
      "text/plain": [
       "[0, 1, 8, 27, 64, 125, 216, 343, 512, 729]"
      ]
     },
     "execution_count": 4,
     "metadata": {},
     "output_type": "execute_result"
    }
   ],
   "source": [
    "[x ** 3 for x in range(10)]"
   ]
  },
  {
   "cell_type": "code",
   "execution_count": 8,
   "id": "7d3bf399",
   "metadata": {},
   "outputs": [
    {
     "data": {
      "text/plain": [
       "['o', 'u', 'e', 'i', 'e', 'e']"
      ]
     },
     "execution_count": 8,
     "metadata": {},
     "output_type": "execute_result"
    }
   ],
   "source": [
    "text = 'Computer Science'\n",
    "[vowels for vowels in text if vowels in 'aieuo']"
   ]
  },
  {
   "cell_type": "code",
   "execution_count": 10,
   "id": "7006c0e9",
   "metadata": {},
   "outputs": [
    {
     "data": {
      "text/plain": [
       "[32.0, 62.6, 93.2, 78.8]"
      ]
     },
     "execution_count": 10,
     "metadata": {},
     "output_type": "execute_result"
    }
   ],
   "source": [
    "celsius_temp = [0, 17, 34,26]\n",
    "[(temp * 9/5) + 32 for temp in celsius_temp]"
   ]
  },
  {
   "cell_type": "markdown",
   "id": "e33cfcd3",
   "metadata": {},
   "source": [
    "**Set comprehension**\n",
    "- Create a set of all the first letters from a list of words.\n",
    "- Use a set comprehension to find all the unique characters in a string.\n",
    "- Use a set comprehension to generate all possible pairs `(a, b)` where `a` and `b` are numbers from 1 to 5 and `a` is less than `b`."
   ]
  },
  {
   "cell_type": "code",
   "execution_count": 15,
   "id": "fcddb4cb",
   "metadata": {},
   "outputs": [
    {
     "data": {
      "text/plain": [
       "{'c', 'l', 'n', 'p'}"
      ]
     },
     "execution_count": 15,
     "metadata": {},
     "output_type": "execute_result"
    }
   ],
   "source": [
    "words = [\"library\", \"chapter\", \"novel\", \"poem\", \"poetic\"]\n",
    "{word[0] for word in words}"
   ]
  },
  {
   "cell_type": "code",
   "execution_count": 18,
   "id": "49790fb4",
   "metadata": {},
   "outputs": [
    {
     "data": {
      "text/plain": [
       "{' ', 'H', 'd', 'e', 'l', 'o', 'r', 'w'}"
      ]
     },
     "execution_count": 18,
     "metadata": {},
     "output_type": "execute_result"
    }
   ],
   "source": [
    "text = \"Hello world\"\n",
    "{text for text in text}"
   ]
  },
  {
   "cell_type": "code",
   "execution_count": 22,
   "id": "dee20a99",
   "metadata": {},
   "outputs": [
    {
     "data": {
      "text/plain": [
       "{(1, 2),\n",
       " (1, 3),\n",
       " (1, 4),\n",
       " (1, 5),\n",
       " (2, 3),\n",
       " (2, 4),\n",
       " (2, 5),\n",
       " (3, 4),\n",
       " (3, 5),\n",
       " (4, 5)}"
      ]
     },
     "execution_count": 22,
     "metadata": {},
     "output_type": "execute_result"
    }
   ],
   "source": [
    "{(i , j) for i in range(1,6) for j in range(1,6) if i < j}"
   ]
  },
  {
   "cell_type": "markdown",
   "id": "618d55ec",
   "metadata": {},
   "source": [
    "**Dictionary comprehension**\n",
    "- Create a dictionary that maps numbers to their squares for numbers from 1 to 5.\n",
    "- Use a dictionary comprehension to count the frequency of each character in a given string.\n",
    "- Use a dictionary comprehension to create a dictionary of words and their lengths from a list of words."
   ]
  },
  {
   "cell_type": "code",
   "execution_count": 23,
   "id": "bc09e9a3",
   "metadata": {},
   "outputs": [
    {
     "data": {
      "text/plain": [
       "{1: 1, 2: 4, 3: 9, 4: 16, 5: 25}"
      ]
     },
     "execution_count": 23,
     "metadata": {},
     "output_type": "execute_result"
    }
   ],
   "source": [
    "{i : i**2 for i in range(1,6)}"
   ]
  },
  {
   "cell_type": "code",
   "execution_count": 29,
   "id": "8fb989d8",
   "metadata": {},
   "outputs": [
    {
     "data": {
      "text/plain": [
       "{'d': 1, ' ': 1, 'o': 2, 'e': 1, 'l': 3, 'r': 1, 'w': 1, 'H': 1}"
      ]
     },
     "execution_count": 29,
     "metadata": {},
     "output_type": "execute_result"
    }
   ],
   "source": [
    "text = 'Hello world'\n",
    "{char : text.count(char) for char in set(text)}"
   ]
  },
  {
   "cell_type": "code",
   "execution_count": 25,
   "id": "c63b017a",
   "metadata": {},
   "outputs": [
    {
     "data": {
      "text/plain": [
       "{'dream': 5,\n",
       " 'magic': 5,\n",
       " 'hope': 4,\n",
       " 'light': 5,\n",
       " 'mystery': 7,\n",
       " 'courage': 7,\n",
       " 'destiny': 7}"
      ]
     },
     "execution_count": 25,
     "metadata": {},
     "output_type": "execute_result"
    }
   ],
   "source": [
    "words = [\"dream\", \"magic\", \"hope\", \"light\", \"mystery\", \"courage\", \"destiny\"]\n",
    "{word : len(word) for word in words}"
   ]
  }
 ],
 "metadata": {
  "kernelspec": {
   "display_name": "python2023",
   "language": "python",
   "name": "python3"
  },
  "language_info": {
   "codemirror_mode": {
    "name": "ipython",
    "version": 3
   },
   "file_extension": ".py",
   "mimetype": "text/x-python",
   "name": "python",
   "nbconvert_exporter": "python",
   "pygments_lexer": "ipython3",
   "version": "3.13.5"
  }
 },
 "nbformat": 4,
 "nbformat_minor": 5
}
