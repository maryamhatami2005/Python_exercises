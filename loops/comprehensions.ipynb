{
 "cells": [
  {
   "cell_type": "markdown",
   "id": "452458e9",
   "metadata": {},
   "source": [
    "**List comprehensions**\n",
    "- Create a list of the first 10 cube numbers.\n",
    "- Use a list comprehension to extract all the vowels from a given string.\n",
    "- Use a list comprehension to convert a list of temperatures in Celsius to Fahrenheit.\n"
   ]
  },
  {
   "cell_type": "code",
   "execution_count": 4,
   "id": "13f81546",
   "metadata": {},
   "outputs": [
    {
     "data": {
      "text/plain": [
       "[0, 1, 8, 27, 64, 125, 216, 343, 512, 729]"
      ]
     },
     "execution_count": 4,
     "metadata": {},
     "output_type": "execute_result"
    }
   ],
   "source": [
    "[x ** 3 for x in range(10)]"
   ]
  },
  {
   "cell_type": "code",
   "execution_count": 8,
   "id": "7d3bf399",
   "metadata": {},
   "outputs": [
    {
     "data": {
      "text/plain": [
       "['o', 'u', 'e', 'i', 'e', 'e']"
      ]
     },
     "execution_count": 8,
     "metadata": {},
     "output_type": "execute_result"
    }
   ],
   "source": [
    "text = 'Computer Science'\n",
    "[vowels for vowels in text if vowels in 'aieuo']"
   ]
  },
  {
   "cell_type": "code",
   "execution_count": 10,
   "id": "7006c0e9",
   "metadata": {},
   "outputs": [
    {
     "data": {
      "text/plain": [
       "[32.0, 62.6, 93.2, 78.8]"
      ]
     },
     "execution_count": 10,
     "metadata": {},
     "output_type": "execute_result"
    }
   ],
   "source": [
    "celsius_temp = [0, 17, 34,26]\n",
    "[(temp * 9/5) + 32 for temp in celsius_temp]"
   ]
  },
  {
   "cell_type": "markdown",
   "id": "e33cfcd3",
   "metadata": {},
   "source": [
    "**Set comprehension**\n",
    "- Create a set of all the first letters from a list of words.\n",
    "- Use a set comprehension to find all the unique characters in a string.\n",
    "- Use a set comprehension to generate all possible pairs `(a, b)` where `a` and `b` are numbers from 1 to 5 and `a` is less than `b`."
   ]
  },
  {
   "cell_type": "code",
   "execution_count": 15,
   "id": "fcddb4cb",
   "metadata": {},
   "outputs": [
    {
     "data": {
      "text/plain": [
       "{'c', 'l', 'n', 'p'}"
      ]
     },
     "execution_count": 15,
     "metadata": {},
     "output_type": "execute_result"
    }
   ],
   "source": [
    "words = [\"library\", \"chapter\", \"novel\", \"poem\", \"poetic\"]\n",
    "{word[0] for word in words}"
   ]
  },
  {
   "cell_type": "code",
   "execution_count": 18,
   "id": "49790fb4",
   "metadata": {},
   "outputs": [
    {
     "data": {
      "text/plain": [
       "{' ', 'H', 'd', 'e', 'l', 'o', 'r', 'w'}"
      ]
     },
     "execution_count": 18,
     "metadata": {},
     "output_type": "execute_result"
    }
   ],
   "source": [
    "text = \"Hello world\"\n",
    "{text for text in text}"
   ]
  },
  {
   "cell_type": "code",
   "execution_count": 22,
   "id": "dee20a99",
   "metadata": {},
   "outputs": [
    {
     "data": {
      "text/plain": [
       "{(1, 2),\n",
       " (1, 3),\n",
       " (1, 4),\n",
       " (1, 5),\n",
       " (2, 3),\n",
       " (2, 4),\n",
       " (2, 5),\n",
       " (3, 4),\n",
       " (3, 5),\n",
       " (4, 5)}"
      ]
     },
     "execution_count": 22,
     "metadata": {},
     "output_type": "execute_result"
    }
   ],
   "source": [
    "{(i , j) for i in range(1,6) for j in range(1,6) if i < j}"
   ]
  },
  {
   "cell_type": "markdown",
   "id": "618d55ec",
   "metadata": {},
   "source": [
    "**Dictionary comprehension**\n",
    "- Create a dictionary that maps numbers to their squares for numbers from 1 to 5.\n",
    "- Use a dictionary comprehension to count the frequency of each character in a given string.\n",
    "- Use a dictionary comprehension to create a dictionary of words and their lengths from a list of words."
   ]
  },
  {
   "cell_type": "code",
   "execution_count": 23,
   "id": "bc09e9a3",
   "metadata": {},
   "outputs": [
    {
     "data": {
      "text/plain": [
       "{1: 1, 2: 4, 3: 9, 4: 16, 5: 25}"
      ]
     },
     "execution_count": 23,
     "metadata": {},
     "output_type": "execute_result"
    }
   ],
   "source": [
    "{i : i**2 for i in range(1,6)}"
   ]
  },
  {
   "cell_type": "code",
   "execution_count": 32,
   "id": "8fb989d8",
   "metadata": {},
   "outputs": [
    {
     "data": {
      "text/plain": [
       "{'i': 1,\n",
       " ' ': 1,\n",
       " 'c': 3,\n",
       " 'm': 1,\n",
       " 't': 1,\n",
       " 's': 1,\n",
       " 'o': 1,\n",
       " 'u': 1,\n",
       " 'e': 3,\n",
       " 'p': 1,\n",
       " 'r': 1,\n",
       " 'n': 1}"
      ]
     },
     "execution_count": 32,
     "metadata": {},
     "output_type": "execute_result"
    }
   ],
   "source": [
    "text = 'computer science'\n",
    "{char : text.count(char) for char in set(text)}"
   ]
  },
  {
   "cell_type": "code",
   "execution_count": 25,
   "id": "c63b017a",
   "metadata": {},
   "outputs": [
    {
     "data": {
      "text/plain": [
       "{'dream': 5,\n",
       " 'magic': 5,\n",
       " 'hope': 4,\n",
       " 'light': 5,\n",
       " 'mystery': 7,\n",
       " 'courage': 7,\n",
       " 'destiny': 7}"
      ]
     },
     "execution_count": 25,
     "metadata": {},
     "output_type": "execute_result"
    }
   ],
   "source": [
    "words = [\"dream\", \"magic\", \"hope\", \"light\", \"mystery\", \"courage\", \"destiny\"]\n",
    "{word : len(word) for word in words}"
   ]
  },
  {
   "cell_type": "markdown",
   "id": "f275f1c6",
   "metadata": {},
   "source": [
    "**Exercise: Transforming and Filtering Data with Comprehensions**\n",
    "Imagine you have a list of dictionaries representing various products in a store. Each dictionary contains the product name, category, and price. Your task is to use comprehensions to perform the following operations:\n",
    "\n",
    "1. Generate a list of product names that are in the category \"Electronics\".\n",
    "2. Create a dictionary that maps product names to their prices, but only for products that cost more than $50.\n",
    "3. Compute the average price of all the products in the \"Books\" category."
   ]
  },
  {
   "cell_type": "code",
   "execution_count": 33,
   "id": "45544bbe",
   "metadata": {},
   "outputs": [],
   "source": [
    "products = [\n",
    "    {\"name\": \"Laptop\", \"category\": \"Electronics\", \"price\": 999.99},\n",
    "    {\"name\": \"Smartphone\", \"category\": \"Electronics\", \"price\": 699.99},\n",
    "    {\"name\": \"Book: The Alchemist\", \"category\": \"Books\", \"price\": 14.99},\n",
    "    {\"name\": \"Book: Harry Potter\", \"category\": \"Books\", \"price\": 29.99},\n",
    "    {\"name\": \"Bluetooth Headphones\", \"category\": \"Electronics\", \"price\": 199.99},\n",
    "    {\"name\": \"Monitor\", \"category\": \"Electronics\", \"price\": 149.99},\n",
    "    {\"name\": \"Book: Python Programming\", \"category\": \"Books\", \"price\": 49.99},\n",
    "    {\"name\": \"Desk Lamp\", \"category\": \"Furniture\", \"price\": 24.99},\n",
    "    {\"name\": \"Mousepad\", \"category\": \"Accessories\", \"price\": 5.99},\n",
    "    {\"name\": \"Stylus Pen\", \"category\": \"Accessories\", \"price\": 12.99},\n",
    "]"
   ]
  },
  {
   "cell_type": "code",
   "execution_count": null,
   "id": "ad7f7cbe",
   "metadata": {},
   "outputs": [
    {
     "name": "stdout",
     "output_type": "stream",
     "text": [
      "Electrorics Products:  ['Laptop', 'Smartphone', 'Bluetooth Headphones', 'Monitor']\n"
     ]
    }
   ],
   "source": [
    "# 1\n",
    "\n",
    "electronics_names = [products[\"name\"] for products in products if products['category'] == 'Electronics']\n",
    "print('Electrorics Products: ', electronics_names)"
   ]
  },
  {
   "cell_type": "code",
   "execution_count": null,
   "id": "2483d02b",
   "metadata": {},
   "outputs": [
    {
     "data": {
      "text/plain": [
       "{'Laptop': 999.99,\n",
       " 'Smartphone': 699.99,\n",
       " 'Bluetooth Headphones': 199.99,\n",
       " 'Monitor': 149.99}"
      ]
     },
     "execution_count": 48,
     "metadata": {},
     "output_type": "execute_result"
    }
   ],
   "source": [
    "# 2\n",
    "\n",
    "{products['name'] : products['price'] for products in products if products['price'] > 50}"
   ]
  },
  {
   "cell_type": "code",
   "execution_count": 69,
   "id": "76686539",
   "metadata": {},
   "outputs": [
    {
     "name": "stdout",
     "output_type": "stream",
     "text": [
      "Average Price of Books : $31.66\n"
     ]
    }
   ],
   "source": [
    "# 3\n",
    "\n",
    "book_prices = [products['price'] for products in products if products['category'] == \"Books\"]\n",
    "ave = sum(book_prices) / len(book_prices)\n",
    "print(f'Average Price of Books : ${ave:.2f}')"
   ]
  },
  {
   "cell_type": "markdown",
   "id": "c88fb4fa",
   "metadata": {},
   "source": [
    "1. **List Comprehension - Select Long Words**:\n",
    "   Use a list comprehension to create a new list that contains only the words with more than 5 characters from the `words` list. Print the new list."
   ]
  },
  {
   "cell_type": "code",
   "execution_count": 73,
   "id": "6d9462a1",
   "metadata": {},
   "outputs": [
    {
     "data": {
      "text/plain": [
       "['banana', 'cherry', 'elderberry']"
      ]
     },
     "execution_count": 73,
     "metadata": {},
     "output_type": "execute_result"
    }
   ],
   "source": [
    "words = [\"apple\", \"banana\", \"cherry\", \"date\", \"elderberry\", \"fig\", \"grape\"]\n",
    "\n",
    "[word for word in words if len(word) > 5]"
   ]
  },
  {
   "cell_type": "markdown",
   "id": "d7ba0969",
   "metadata": {},
   "source": [
    "2. **Set Comprehension - Unique Word Lengths**:\n",
    "   Use a set comprehension to create a set that contains the lengths of each word in the `words` list. This will give you a set of unique word lengths. Print the resulting set."
   ]
  },
  {
   "cell_type": "code",
   "execution_count": 74,
   "id": "0dfa0f8d",
   "metadata": {},
   "outputs": [
    {
     "data": {
      "text/plain": [
       "{3, 4, 5, 6, 10}"
      ]
     },
     "execution_count": 74,
     "metadata": {},
     "output_type": "execute_result"
    }
   ],
   "source": [
    "words = [\"apple\", \"banana\", \"cherry\", \"date\", \"elderberry\", \"fig\", \"grape\"]\n",
    "\n",
    "{len(word) for word in words}"
   ]
  },
  {
   "cell_type": "markdown",
   "id": "485416c9",
   "metadata": {},
   "source": [
    "3. **Dictionary Comprehension - Word to Length Mapping**:\n",
    "   Use a dictionary comprehension to create a dictionary where each word in the `words` list is a key, and its corresponding value is the length of the word. Print the dictionary.\n"
   ]
  },
  {
   "cell_type": "code",
   "execution_count": 75,
   "id": "85a24191",
   "metadata": {},
   "outputs": [
    {
     "data": {
      "text/plain": [
       "{'apple': 5,\n",
       " 'banana': 6,\n",
       " 'cherry': 6,\n",
       " 'date': 4,\n",
       " 'elderberry': 10,\n",
       " 'fig': 3,\n",
       " 'grape': 5}"
      ]
     },
     "execution_count": 75,
     "metadata": {},
     "output_type": "execute_result"
    }
   ],
   "source": [
    "{word : len(word) for word in words}"
   ]
  },
  {
   "cell_type": "markdown",
   "id": "8afd62b8",
   "metadata": {},
   "source": [
    "4. **List Comprehension with Conditional - Grade Categories**:\n",
    "   Use a list comprehension with a conditional to create a new list of strings that categorize each score in the `scores` list as 'Pass' if the score is 75 or higher and 'Fail' if the score is lower than 75. Print the list of grade categories."
   ]
  },
  {
   "cell_type": "code",
   "execution_count": null,
   "id": "dcbebf56",
   "metadata": {},
   "outputs": [
    {
     "data": {
      "text/plain": [
       "['Pass', 'Pass', 'Pass', 'Pass', 'Pass', 'Pass', 'Fail']"
      ]
     },
     "execution_count": 81,
     "metadata": {},
     "output_type": "execute_result"
    }
   ],
   "source": [
    "scores = [88, 92, 78, 90, 89, 76, 61]\n",
    "[\"Pass\" if score >= 75 else \"Fail\" for score in scores ]"
   ]
  },
  {
   "cell_type": "markdown",
   "id": "a8fbfbf4",
   "metadata": {},
   "source": [
    "5. **Bonus: Nested Comprehensions - Matrix Transposition**:\n",
    "   Given a matrix (a list of lists), use a nested list comprehension to transpose the matrix (swap rows and columns). Print the transposed matrix."
   ]
  },
  {
   "cell_type": "code",
   "execution_count": 89,
   "id": "73e326cb",
   "metadata": {},
   "outputs": [
    {
     "name": "stdout",
     "output_type": "stream",
     "text": [
      "Transposed matrix: [[1, 4, 7], [2, 5, 8], [3, 6, 9]]\n"
     ]
    }
   ],
   "source": [
    "matrix = [\n",
    "    [1, 2, 3],\n",
    "    [4, 5, 6],\n",
    "    [7, 8, 9]\n",
    "]\n",
    "\n",
    "transposed_matrix = [[row[i] for row in matrix] for i in range(len(matrix[0]))]\n",
    "print(f\"Transposed matrix: {transposed_matrix}\")\n",
    "\n"
   ]
  }
 ],
 "metadata": {
  "kernelspec": {
   "display_name": "python2023",
   "language": "python",
   "name": "python3"
  },
  "language_info": {
   "codemirror_mode": {
    "name": "ipython",
    "version": 3
   },
   "file_extension": ".py",
   "mimetype": "text/x-python",
   "name": "python",
   "nbconvert_exporter": "python",
   "pygments_lexer": "ipython3",
   "version": "3.13.5"
  }
 },
 "nbformat": 4,
 "nbformat_minor": 5
}
