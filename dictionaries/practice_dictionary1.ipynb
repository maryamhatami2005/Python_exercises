{
 "cells": [
  {
   "cell_type": "markdown",
   "id": "0b619905",
   "metadata": {},
   "source": [
    "1. **Create a Dictionary**:\n",
    "   - Instantiate a dictionary `book_genre` that maps book titles to their respective genres. Add at least three key-value pairs to it.\n",
    "   - Example: One pair could be \"To Kill a Mockingbird\": \"Classic Fiction\"."
   ]
  },
  {
   "cell_type": "code",
   "execution_count": 32,
   "id": "924dd0cf",
   "metadata": {},
   "outputs": [],
   "source": [
    "book_genre = {\n",
    "    \"Harry Potter\" : \"Fiction\",\n",
    "    \"The Midnight Library\" : \"Fantasy\",\n",
    "    \"To Kill a Mockingbird\" : \"Classic Fiction\",\n",
    "}"
   ]
  },
  {
   "cell_type": "markdown",
   "id": "39377b13",
   "metadata": {},
   "source": [
    "2. **Retrieve and Print**:\n",
    "   - Given the `book_genre` dictionary, print the genre of \"To Kill a Mockingbird\". What happens if you try to print the genre of a book not present in your dictionary?\n"
   ]
  },
  {
   "cell_type": "code",
   "execution_count": 33,
   "id": "173d15e6",
   "metadata": {},
   "outputs": [
    {
     "data": {
      "text/plain": [
       "'Classic Fiction'"
      ]
     },
     "execution_count": 33,
     "metadata": {},
     "output_type": "execute_result"
    }
   ],
   "source": [
    "book_genre[\"To Kill a Mockingbird\"]"
   ]
  },
  {
   "cell_type": "markdown",
   "id": "c566b238",
   "metadata": {},
   "source": [
    "3. **Updating Dictionary Values**:\n",
    "   - For the `book_genre` dictionary, update the genre of one of your books to \"Literary Fiction\".\n",
    "   - Add a new book and its genre to the dictionary."
   ]
  },
  {
   "cell_type": "code",
   "execution_count": 34,
   "id": "1a8fc540",
   "metadata": {},
   "outputs": [
    {
     "data": {
      "text/plain": [
       "{'Harry Potter': 'Literary Fiction',\n",
       " 'The Midnight Library': 'Fantasy',\n",
       " 'To Kill a Mockingbird': 'Classic Fiction',\n",
       " 'Demian': 'Philosophy',\n",
       " 'A Tale of Two Cities': 'Historical Novel'}"
      ]
     },
     "execution_count": 34,
     "metadata": {},
     "output_type": "execute_result"
    }
   ],
   "source": [
    "book_genre[\"Harry Potter\"] = \"Literary Fiction\"\n",
    "book_genre[\"Demian\"] = \"Philosophy\"\n",
    "book_genre[\"A Tale of Two Cities\"] = \"Historical Novel\"\n",
    "book_genre"
   ]
  },
  {
   "cell_type": "markdown",
   "id": "ea3c7d0e",
   "metadata": {},
   "source": [
    "4. **Remove Items**:\n",
    "   - From the `book_genre` dictionary, remove a book of your choice using the `pop()` method and display the removed genre.\n",
    "   - Use the `del` statement to remove another book. Try using the `del` statement with a non-existent key and handle the `KeyError` with a try-except block.\n"
   ]
  },
  {
   "cell_type": "code",
   "execution_count": 35,
   "id": "69128d72",
   "metadata": {},
   "outputs": [
    {
     "data": {
      "text/plain": [
       "'Philosophy'"
      ]
     },
     "execution_count": 35,
     "metadata": {},
     "output_type": "execute_result"
    }
   ],
   "source": [
    "book_genre.pop(\"Demian\")"
   ]
  },
  {
   "cell_type": "code",
   "execution_count": 36,
   "id": "9689f9d6",
   "metadata": {},
   "outputs": [
    {
     "data": {
      "text/plain": [
       "{'Harry Potter': 'Literary Fiction',\n",
       " 'The Midnight Library': 'Fantasy',\n",
       " 'To Kill a Mockingbird': 'Classic Fiction',\n",
       " 'A Tale of Two Cities': 'Historical Novel'}"
      ]
     },
     "execution_count": 36,
     "metadata": {},
     "output_type": "execute_result"
    }
   ],
   "source": [
    "book_genre"
   ]
  },
  {
   "cell_type": "code",
   "execution_count": 37,
   "id": "58573fc1",
   "metadata": {},
   "outputs": [],
   "source": [
    "del book_genre[\"Harry Potter\"]"
   ]
  },
  {
   "cell_type": "markdown",
   "id": "89bdff80",
   "metadata": {},
   "source": [
    "5. **Iterating Over a Dictionary**:\n",
    "   - Create and print a list of all book titles (keys) in the `book_genre` dictionary.\n",
    "   - Create and print a list of all genres (values) in the `book_genre` dictionary without any duplicates."
   ]
  },
  {
   "cell_type": "code",
   "execution_count": 38,
   "id": "577b8ea6",
   "metadata": {},
   "outputs": [
    {
     "data": {
      "text/plain": [
       "['The Midnight Library', 'To Kill a Mockingbird', 'A Tale of Two Cities']"
      ]
     },
     "execution_count": 38,
     "metadata": {},
     "output_type": "execute_result"
    }
   ],
   "source": [
    "list(book_genre.keys())"
   ]
  },
  {
   "cell_type": "code",
   "execution_count": 39,
   "id": "05541128",
   "metadata": {},
   "outputs": [
    {
     "data": {
      "text/plain": [
       "['Fantasy', 'Classic Fiction', 'Historical Novel']"
      ]
     },
     "execution_count": 39,
     "metadata": {},
     "output_type": "execute_result"
    }
   ],
   "source": [
    "list(book_genre.values())"
   ]
  },
  {
   "cell_type": "markdown",
   "id": "366443ca",
   "metadata": {},
   "source": [
    "6. **Dictionary Comprehension**:\n",
    "   - Create a dictionary `squared_numbers` using dictionary comprehension that maps numbers (1-10) to their squares.\n"
   ]
  },
  {
   "cell_type": "code",
   "execution_count": 40,
   "id": "5f6c3abb",
   "metadata": {},
   "outputs": [
    {
     "data": {
      "text/plain": [
       "{1: 1, 2: 4, 3: 9, 4: 16, 5: 25, 6: 36, 7: 49, 8: 64, 9: 81, 10: 100}"
      ]
     },
     "execution_count": 40,
     "metadata": {},
     "output_type": "execute_result"
    }
   ],
   "source": [
    "squared_numbers = {\n",
    "    1 : 1**2,\n",
    "    2 : 2**2,\n",
    "    3 : 3**2,\n",
    "    4 : 4**2,\n",
    "    5 : 5**2,\n",
    "    6 : 6**2,\n",
    "    7 : 7**2,\n",
    "    8 : 8**2,\n",
    "    9 : 9**2,\n",
    "    10 : 10 **2,\n",
    "}\n",
    "squared_numbers"
   ]
  },
  {
   "cell_type": "markdown",
   "id": "ebae599a",
   "metadata": {},
   "source": [
    "7. **Nested Dictionaries**:\n",
    "   - Create a nested dictionary `library` where each key is a genre and each value is a dictionary of books of that genre. Add at least two genres, each with at least two books."
   ]
  },
  {
   "cell_type": "code",
   "execution_count": 41,
   "id": "3c7447a0",
   "metadata": {},
   "outputs": [],
   "source": [
    "library = {\n",
    "    \"Classic Literature\" : {\"Pride and Prejudice\" : \"Jane Austen\" , \"To Kill a Mockingbird\" : \"Harper Lee\"},\n",
    "    \"Science Fiction\" : {\"Dune\" : \"Frank Herbert\", \"Ender’s Game\" : \"Orson Scott Card\"},\n",
    "    \"Romance\" : {\"The Notebook\" : \"Nicholas Sparks\", \"The Notebook\" : \"Nicholas Sparks\"},\n",
    "}"
   ]
  },
  {
   "cell_type": "markdown",
   "id": "52413195",
   "metadata": {},
   "source": [
    "8. **Clearing a Dictionary**:\n",
    "   - Clear all contents of the `book_genre` dictionary and print its contents to confirm it's empty."
   ]
  },
  {
   "cell_type": "code",
   "execution_count": 42,
   "id": "22047431",
   "metadata": {},
   "outputs": [
    {
     "data": {
      "text/plain": [
       "{}"
      ]
     },
     "execution_count": 42,
     "metadata": {},
     "output_type": "execute_result"
    }
   ],
   "source": [
    "book_genre.clear()\n",
    "book_genre"
   ]
  }
 ],
 "metadata": {
  "kernelspec": {
   "display_name": "python2023",
   "language": "python",
   "name": "python3"
  },
  "language_info": {
   "codemirror_mode": {
    "name": "ipython",
    "version": 3
   },
   "file_extension": ".py",
   "mimetype": "text/x-python",
   "name": "python",
   "nbconvert_exporter": "python",
   "pygments_lexer": "ipython3",
   "version": "3.13.5"
  }
 },
 "nbformat": 4,
 "nbformat_minor": 5
}
