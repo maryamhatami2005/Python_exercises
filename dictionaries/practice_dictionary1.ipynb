{
 "cells": [
  {
   "cell_type": "markdown",
   "id": "0b619905",
   "metadata": {},
   "source": [
    "1. **Create a Dictionary**:\n",
    "   - Instantiate a dictionary `book_genre` that maps book titles to their respective genres. Add at least three key-value pairs to it.\n",
    "   - Example: One pair could be \"To Kill a Mockingbird\": \"Classic Fiction\"."
   ]
  },
  {
   "cell_type": "markdown",
   "id": "39377b13",
   "metadata": {},
   "source": [
    "2. **Retrieve and Print**:\n",
    "   - Given the `book_genre` dictionary, print the genre of \"To Kill a Mockingbird\". What happens if you try to print the genre of a book not present in your dictionary?\n"
   ]
  },
  {
   "cell_type": "markdown",
   "id": "c566b238",
   "metadata": {},
   "source": [
    "3. **Updating Dictionary Values**:\n",
    "   - For the `book_genre` dictionary, update the genre of one of your books to \"Literary Fiction\".\n",
    "   - Add a new book and its genre to the dictionary."
   ]
  },
  {
   "cell_type": "markdown",
   "id": "ea3c7d0e",
   "metadata": {},
   "source": [
    "4. **Remove Items**:\n",
    "   - From the `book_genre` dictionary, remove a book of your choice using the `pop()` method and display the removed genre.\n",
    "   - Use the `del` statement to remove another book. Try using the `del` statement with a non-existent key and handle the `KeyError` with a try-except block.\n"
   ]
  },
  {
   "cell_type": "markdown",
   "id": "89bdff80",
   "metadata": {},
   "source": [
    "5. **Iterating Over a Dictionary**:\n",
    "   - Create and print a list of all book titles (keys) in the `book_genre` dictionary.\n",
    "   - Create and print a list of all genres (values) in the `book_genre` dictionary without any duplicates."
   ]
  },
  {
   "cell_type": "markdown",
   "id": "366443ca",
   "metadata": {},
   "source": [
    "6. **Dictionary Comprehension**:\n",
    "   - Create a dictionary `squared_numbers` using dictionary comprehension that maps numbers (1-10) to their squares.\n"
   ]
  },
  {
   "cell_type": "markdown",
   "id": "ebae599a",
   "metadata": {},
   "source": [
    "7. **Nested Dictionaries**:\n",
    "   - Create a nested dictionary `library` where each key is a genre and each value is a dictionary of books of that genre. Add at least two genres, each with at least two books."
   ]
  },
  {
   "cell_type": "markdown",
   "id": "52413195",
   "metadata": {},
   "source": [
    "8. **Clearing a Dictionary**:\n",
    "   - Clear all contents of the `book_genre` dictionary and print its contents to confirm it's empty."
   ]
  }
 ],
 "metadata": {
  "language_info": {
   "name": "python"
  }
 },
 "nbformat": 4,
 "nbformat_minor": 5
}
