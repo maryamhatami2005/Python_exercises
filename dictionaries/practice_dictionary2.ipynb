{
 "cells": [
  {
   "cell_type": "markdown",
   "id": "ea1377cf",
   "metadata": {},
   "source": [
    "1. **Membership Test**:\n",
    "   - Given a dictionary `city_presence = {'New York': True, 'Berlin': True, 'Tokyo': True, 'Sydney': True}`.\n",
    "   - Determine if 'London' and 'Tokyo' are keys in `city_presence` by using membership tests."
   ]
  },
  {
   "cell_type": "code",
   "execution_count": 2,
   "id": "9d032de6",
   "metadata": {},
   "outputs": [],
   "source": [
    "city_presence = {\n",
    "    'New York': True,\n",
    "    'Berlin': True,\n",
    "    'Tokyo': True,\n",
    "    'Sydney': True}"
   ]
  },
  {
   "cell_type": "code",
   "execution_count": 3,
   "id": "3476d783",
   "metadata": {},
   "outputs": [
    {
     "data": {
      "text/plain": [
       "True"
      ]
     },
     "execution_count": 3,
     "metadata": {},
     "output_type": "execute_result"
    }
   ],
   "source": [
    "\"Tokyo\" in city_presence"
   ]
  },
  {
   "cell_type": "code",
   "execution_count": 4,
   "id": "1a4c06bc",
   "metadata": {},
   "outputs": [
    {
     "data": {
      "text/plain": [
       "False"
      ]
     },
     "execution_count": 4,
     "metadata": {},
     "output_type": "execute_result"
    }
   ],
   "source": [
    "\"London\" in city_presence"
   ]
  },
  {
   "cell_type": "markdown",
   "id": "d1921194",
   "metadata": {},
   "source": [
    "2. **Default Values with `setdefault`**:\n",
    "   - Create a dictionary `student_score = {'Alice': 88, 'Bob': 95}`.\n",
    "   - Use the `setdefault` method to return 'Bob's score and insert 'Charlie' with a score of 0 if he doesn't exist in the dictionary. Display the dictionary after this operation."
   ]
  },
  {
   "cell_type": "code",
   "execution_count": 6,
   "id": "610edfe1",
   "metadata": {},
   "outputs": [
    {
     "data": {
      "text/plain": [
       "95"
      ]
     },
     "execution_count": 6,
     "metadata": {},
     "output_type": "execute_result"
    }
   ],
   "source": [
    "student_score = {\n",
    "    \"Alice\" : 88,\n",
    "    \"Bob\" : 95,\n",
    "}\n",
    "student_score.setdefault(\"Bob\")"
   ]
  },
  {
   "cell_type": "code",
   "execution_count": 8,
   "id": "ff2ff89b",
   "metadata": {},
   "outputs": [
    {
     "data": {
      "text/plain": [
       "{'Alice': 88, 'Bob': 95, 'Charlie': 0}"
      ]
     },
     "execution_count": 8,
     "metadata": {},
     "output_type": "execute_result"
    }
   ],
   "source": [
    "student_score.setdefault(\"Charlie\", 0)\n",
    "student_score"
   ]
  },
  {
   "cell_type": "markdown",
   "id": "c25fb655",
   "metadata": {},
   "source": [
    "3. **Updating a Single Item**:\n",
    "   - Starting with the dictionary `preferences = {'color': 'blue', 'food': 'pizza', 'drink': 'water'}`.\n",
    "   - Update the value associated with the key 'drink' to 'orange juice'."
   ]
  },
  {
   "cell_type": "code",
   "execution_count": 10,
   "id": "b2955f5d",
   "metadata": {},
   "outputs": [
    {
     "data": {
      "text/plain": [
       "{'color': 'blue', 'food': 'pizza', 'drink': 'orange juice'}"
      ]
     },
     "execution_count": 10,
     "metadata": {},
     "output_type": "execute_result"
    }
   ],
   "source": [
    "preferences = {\n",
    "    'color': 'blue',\n",
    "    'food': 'pizza',\n",
    "    'drink': 'water',\n",
    "    }\n",
    "preferences.update(drink = \"orange juice\")\n",
    "preferences"
   ]
  },
  {
   "cell_type": "markdown",
   "id": "9598be0f",
   "metadata": {},
   "source": [
    "4. **Dictionary Merging and Updating**:\n",
    "   - Create two dictionaries: `stock_A = {'apples': 5, 'oranges': 7}` and `stock_B = {'oranges': 12, 'bananas': 3}`.\n",
    "   - Update `stock_A` with the contents of `stock_B` and observe how the value for 'oranges' changes.\n"
   ]
  },
  {
   "cell_type": "code",
   "execution_count": 11,
   "id": "b99e33cf",
   "metadata": {},
   "outputs": [],
   "source": [
    "stock_A = {\n",
    "    \"apples\" : 5,\n",
    "    \"oranges\" : 7,\n",
    "}\n",
    "stock_B = {\n",
    "    \"oranges\" : 12,\n",
    "    \"bananas\" : 3,\n",
    "}"
   ]
  },
  {
   "cell_type": "code",
   "execution_count": 14,
   "id": "b0a67e5e",
   "metadata": {},
   "outputs": [
    {
     "data": {
      "text/plain": [
       "{'apples': 5, 'oranges': 12, 'bananas': 3}"
      ]
     },
     "execution_count": 14,
     "metadata": {},
     "output_type": "execute_result"
    }
   ],
   "source": [
    "stock_A.update(stock_B)\n",
    "stock_A"
   ]
  },
  {
   "cell_type": "markdown",
   "id": "32b41b3a",
   "metadata": {},
   "source": [
    "5. **Nested Dictionary Access**:\n",
    "   - With a nested dictionary `account_info = {'user1': {'name': 'Alice', 'password': 'alice123'}, 'user2': {'name': 'Bob', 'password': 'bobsecure'}}`, access and display the password for 'user1'."
   ]
  },
  {
   "cell_type": "code",
   "execution_count": 17,
   "id": "1d0c8fab",
   "metadata": {},
   "outputs": [
    {
     "data": {
      "text/plain": [
       "'alice123'"
      ]
     },
     "execution_count": 17,
     "metadata": {},
     "output_type": "execute_result"
    }
   ],
   "source": [
    "account_info = {\n",
    "    'user1': {'name': 'Alice', 'password': 'alice123'},\n",
    "    'user2': {'name': 'Bob', 'password': 'bobsecure'},\n",
    "    }\n",
    "account_info['user1']['password']"
   ]
  }
 ],
 "metadata": {
  "kernelspec": {
   "display_name": "python2023",
   "language": "python",
   "name": "python3"
  },
  "language_info": {
   "codemirror_mode": {
    "name": "ipython",
    "version": 3
   },
   "file_extension": ".py",
   "mimetype": "text/x-python",
   "name": "python",
   "nbconvert_exporter": "python",
   "pygments_lexer": "ipython3",
   "version": "3.13.5"
  }
 },
 "nbformat": 4,
 "nbformat_minor": 5
}
