{
 "cells": [
  {
   "cell_type": "markdown",
   "id": "c66fac6c",
   "metadata": {},
   "source": [
    "1. **Packing into Tuples**:\n",
    "   Create a tuple called `student_info` by packing the following individual variables: `name`, `age`, `grade`, and `subject`, which hold a student's name, age, grade (as a letter), and favorite subject, respectively."
   ]
  },
  {
   "cell_type": "code",
   "execution_count": 6,
   "id": "a6d4c7d7",
   "metadata": {},
   "outputs": [
    {
     "name": "stdout",
     "output_type": "stream",
     "text": [
      "('Alice', 17, 'A', 'Mathematics')\n"
     ]
    }
   ],
   "source": [
    "name = \"Alice\"\n",
    "age = 17\n",
    "grade = \"A\"\n",
    "subject = \"Mathematics\"\n",
    "student_info = (name, age, grade, subject)\n",
    "\n",
    "print(student_info)"
   ]
  },
  {
   "cell_type": "markdown",
   "id": "1f02fa7d",
   "metadata": {},
   "source": [
    "2. **Unpacking from Tuples**:\n",
    "   Given a tuple `coordinates` with three elements representing x, y, and z coordinates, unpack these values into separate variables called `x`, `y`, and `z`. Print the variables.\n"
   ]
  },
  {
   "cell_type": "code",
   "execution_count": 19,
   "id": "a0102b22",
   "metadata": {},
   "outputs": [
    {
     "name": "stdout",
     "output_type": "stream",
     "text": [
      "The x coordinate: 4, The y coordinate: 5, The z coordinate: 6\n"
     ]
    }
   ],
   "source": [
    "coordinates = (4,5,6)\n",
    "x,y,z = coordinates\n",
    "\n",
    "\n",
    "print(f\"The x coordinate: {x}, The y coordinate: {y}, The z coordinate: {z}\")"
   ]
  },
  {
   "cell_type": "markdown",
   "id": "007c948d",
   "metadata": {},
   "source": [
    "3. **Unpacking from Lists**:\n",
    "   Suppose you have a list of scores `[72, 85, 90]`. Unpack the scores into variables `math_score`, `science_score`, and `english_score`, respectively. Then, print these variables."
   ]
  },
  {
   "cell_type": "code",
   "execution_count": 18,
   "id": "243ae729",
   "metadata": {},
   "outputs": [
    {
     "name": "stdout",
     "output_type": "stream",
     "text": [
      "Math Score: 72, Science Score: 85, English Score: bob@example.com\n"
     ]
    }
   ],
   "source": [
    "scores = [72, 85, 90]\n",
    "math_score, science_score, english_score = scores\n",
    "\n",
    "print(f\"Math Score: {math_score}, Science Score: {science_score}, English Score: {student_email}\")"
   ]
  },
  {
   "cell_type": "markdown",
   "id": "6ca67366",
   "metadata": {},
   "source": [
    "4. **Unpacking Dictionaries**:\n",
    "   Given a dictionary `student`, with keys `name`, `age`, and `email`, unpack the values of this dictionary into variables `student_name`, `student_age`, and `student_email`. Print the variables."
   ]
  },
  {
   "cell_type": "code",
   "execution_count": 17,
   "id": "445bfef8",
   "metadata": {},
   "outputs": [
    {
     "name": "stdout",
     "output_type": "stream",
     "text": [
      "Student Name: Bob, Student Age: 20, Student Email: bob@example.com\n"
     ]
    }
   ],
   "source": [
    "student = {\n",
    "    \"name\": \"Bob\",\n",
    "    \"age\": 20,\n",
    "    \"email\": \"bob@example.com\"\n",
    "}\n",
    "student_name, student_age, student_email = student.values()\n",
    "\n",
    "print(f\"Student Name: {student_name}, Student Age: {student_age}, Student Email: {student_email}\")"
   ]
  },
  {
   "cell_type": "markdown",
   "id": "961ef136",
   "metadata": {},
   "source": [
    "5. **Extended Unpacking with Lists**:\n",
    "   You have a list of numbers `[1, 2, 3, 4, 5, 6, 7, 8]`. Use extended unpacking to get the first two numbers into variables `first_num` and `second_num`, and the rest of the numbers into a list called `remaining_numbers`."
   ]
  },
  {
   "cell_type": "code",
   "execution_count": 23,
   "id": "1a1bc426",
   "metadata": {},
   "outputs": [],
   "source": [
    "numbers = list(range(1,9))\n",
    "first_num, second_num, *remaining_numbers = numbers"
   ]
  },
  {
   "cell_type": "markdown",
   "id": "70ab3f7b",
   "metadata": {},
   "source": [
    "6. **Bonus: Swapping Values**:\n",
    "   Without using a temporary variable, swap the values of two variables `a` and `b` using packing and unpacking.\n"
   ]
  },
  {
   "cell_type": "code",
   "execution_count": 27,
   "id": "4a4444e0",
   "metadata": {},
   "outputs": [
    {
     "name": "stdout",
     "output_type": "stream",
     "text": [
      "The first number is 876 and the second number is 43\n"
     ]
    }
   ],
   "source": [
    "num_a = int(input(\"Enter the first number: \"))\n",
    "num_b = int(input(\"Enter the second number: \"))\n",
    "\n",
    "num_b, num_a = num_a, num_b\n",
    "\n",
    "print(f\"The first number is {num_a} and the second number is {num_b}\")"
   ]
  }
 ],
 "metadata": {
  "kernelspec": {
   "display_name": "python2023",
   "language": "python",
   "name": "python3"
  },
  "language_info": {
   "codemirror_mode": {
    "name": "ipython",
    "version": 3
   },
   "file_extension": ".py",
   "mimetype": "text/x-python",
   "name": "python",
   "nbconvert_exporter": "python",
   "pygments_lexer": "ipython3",
   "version": "3.13.5"
  }
 },
 "nbformat": 4,
 "nbformat_minor": 5
}
