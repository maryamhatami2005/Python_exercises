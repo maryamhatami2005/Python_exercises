{
 "cells": [
  {
   "cell_type": "markdown",
   "id": "21bbedd0",
   "metadata": {},
   "source": [
    "**Exercise: Basic Movie Ticket Pricing**\n",
    "\n",
    "You are creating a Python program for a movie theater to determine the ticket price based on the customer's age. The pricing rules are as follows:\n",
    "\n",
    "1. The regular ticket price is $10.\n",
    "2. Children under 14 years old get a 50% discount.\n",
    "3. Seniors aged 65 and above get a 30% discount.\n"
   ]
  },
  {
   "cell_type": "markdown",
   "id": "8a2d8f0a",
   "metadata": {},
   "source": [
    "Write a Python program that:\n",
    "\n",
    "1. Asks the user for their age.\n",
    "2. Calculates and prints the ticket price according to the above rules."
   ]
  },
  {
   "cell_type": "markdown",
   "id": "f0bccbd7",
   "metadata": {},
   "source": [
    "\n",
    "**Instructions:**\n",
    "\n",
    "1. Use the `input()` function to prompt the user for their age.\n",
    "2. Convert the input into an integer using `int()`.\n",
    "3. Determine the ticket price using an `if-elif-else` structure.\n",
    "4. Print out the final ticket price with a message."
   ]
  },
  {
   "cell_type": "code",
   "execution_count": 14,
   "id": "cdfe6017",
   "metadata": {},
   "outputs": [
    {
     "name": "stdout",
     "output_type": "stream",
     "text": [
      "Your ticket would be $5.0\n"
     ]
    }
   ],
   "source": [
    "user_age = int(input(\"Please enter your age: \"))\n",
    "\n",
    "price = 10\n",
    "\n",
    "if user_age < 14 :\n",
    "    price = price * 0.5\n",
    "\n",
    "elif user_age >= 65 :\n",
    "    price *= 0.7\n",
    "\n",
    "print(f\"Your ticket would be ${price}\")"
   ]
  }
 ],
 "metadata": {
  "kernelspec": {
   "display_name": "python2023",
   "language": "python",
   "name": "python3"
  },
  "language_info": {
   "codemirror_mode": {
    "name": "ipython",
    "version": 3
   },
   "file_extension": ".py",
   "mimetype": "text/x-python",
   "name": "python",
   "nbconvert_exporter": "python",
   "pygments_lexer": "ipython3",
   "version": "3.13.5"
  }
 },
 "nbformat": 4,
 "nbformat_minor": 5
}
