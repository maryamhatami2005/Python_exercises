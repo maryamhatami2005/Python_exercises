{
 "cells": [
  {
   "cell_type": "markdown",
   "id": "21bbedd0",
   "metadata": {},
   "source": [
    "**Exercise 1: Basic Movie Ticket Pricing**\n",
    "\n",
    "You are creating a Python program for a movie theater to determine the ticket price based on the customer's age. The pricing rules are as follows:\n",
    "\n",
    "1. The regular ticket price is $10.\n",
    "2. Children under 14 years old get a 50% discount.\n",
    "3. Seniors aged 65 and above get a 30% discount.\n"
   ]
  },
  {
   "cell_type": "markdown",
   "id": "8a2d8f0a",
   "metadata": {},
   "source": [
    "Write a Python program that:\n",
    "\n",
    "1. Asks the user for their age.\n",
    "2. Calculates and prints the ticket price according to the above rules."
   ]
  },
  {
   "cell_type": "markdown",
   "id": "f0bccbd7",
   "metadata": {},
   "source": [
    "\n",
    "**Instructions:**\n",
    "\n",
    "1. Use the `input()` function to prompt the user for their age.\n",
    "2. Convert the input into an integer using `int()`.\n",
    "3. Determine the ticket price using an `if-elif-else` structure.\n",
    "4. Print out the final ticket price with a message."
   ]
  },
  {
   "cell_type": "code",
   "execution_count": 14,
   "id": "cdfe6017",
   "metadata": {},
   "outputs": [
    {
     "name": "stdout",
     "output_type": "stream",
     "text": [
      "Your ticket would be $5.0\n"
     ]
    }
   ],
   "source": [
    "user_age = int(input(\"Please enter your age: \"))\n",
    "\n",
    "price = 10\n",
    "\n",
    "if user_age < 14 :\n",
    "    price = price * 0.5\n",
    "\n",
    "elif user_age >= 65 :\n",
    "    price *= 0.7\n",
    "\n",
    "print(f\"Your ticket would be ${price}\")"
   ]
  },
  {
   "cell_type": "markdown",
   "id": "5a088dfc",
   "metadata": {},
   "source": [
    "**Exercise 2: Amusement Park Ride Eligibility**\n",
    "You are creating a Python program for an amusement park to determine if a visitor is allowed to go on a ride. The eligibility rules are as follows:\n",
    "\n",
    "1. Visitors must be at least 12 years old to ride.\n",
    "2. Children under 18 must have a guardian.\n",
    "3. People over 60 must pass a health check.\n",
    "\n",
    "Write a Python program that:\n",
    "\n",
    "1. Asks the user for their age.\n",
    "2. If the user is under 18, asks if they have a guardian.\n",
    "3. If the user is over 60, asks if they passed a health check.\n",
    "\n",
    "Prints whether they are allowed to ride or not."
   ]
  },
  {
   "cell_type": "code",
   "execution_count": 41,
   "id": "3781a6a9",
   "metadata": {},
   "outputs": [
    {
     "name": "stdout",
     "output_type": "stream",
     "text": [
      "You are allowed.\n"
     ]
    }
   ],
   "source": [
    "visitor_age = int(input(\"Please enter your age: \"))\n",
    "allowed = False\n",
    "\n",
    "if visitor_age < 12 :\n",
    "        print(\"(must be at least 12 years old)\")\n",
    "\n",
    "elif visitor_age < 18 :\n",
    "        guardian_status = input(\"Do you have a guardian? Yes/No\")\n",
    "        guardian_status = guardian_status.lower()\n",
    "\n",
    "        if(guardian_status == \"yes\") :\n",
    "            allowed = True\n",
    "        else :\n",
    "           print('(under 18s require a guardian)')\n",
    "\n",
    "\n",
    "\n",
    "elif visitor_age > 60 :\n",
    "        health_check_status = input(\"Do you have a health check? Yes/No\")\n",
    "        health_check_status = health_check_status.lower()\n",
    "\n",
    "        if(health_check_status == \"yes\") :\n",
    "            allowed = True\n",
    "        else :\n",
    "            print(\"(over 60s require a health check)\")\n",
    "\n",
    "else :\n",
    "      allowed = True\n",
    "\n",
    "if allowed == True:\n",
    "      print (\"You are allowed.\")\n",
    "else:\n",
    "      print (\"You are not allowed.\")\n",
    "      "
   ]
  },
  {
   "cell_type": "markdown",
   "id": "fd0ef8f0",
   "metadata": {},
   "source": [
    "**Exercise 3: Grading System**\n",
    "You are creating a Python program for a school to determine a student’s letter grade based on their score. The grading rules are as follows:\n",
    "1. 90 and above: Grade A\n",
    "2. 80–89: Grade B\n",
    "3. 70–79: Grade C\n",
    "4. 60–69: Grade D\n",
    "5. Below 60: Grade F\n",
    "\n",
    "Write a Python program that:\n",
    "1. Asks the user to enter their score (0–100).\n",
    "2. Determines the grade based on the rules above.\n",
    "\n",
    "Prints the grade."
   ]
  },
  {
   "cell_type": "code",
   "execution_count": 50,
   "id": "8526248a",
   "metadata": {},
   "outputs": [
    {
     "name": "stdout",
     "output_type": "stream",
     "text": [
      "The student's grade is B\n"
     ]
    }
   ],
   "source": [
    "student_grade = float(input(\"Enter the student's grade: \"))\n",
    "\n",
    "if student_grade >= 90 :\n",
    "    grade = \"A\"\n",
    "elif student_grade >= 80 :\n",
    "    grade = \"B\"\n",
    "elif student_grade >= 70 :\n",
    "    grade = \"C\"\n",
    "elif student_grade >= 60 :\n",
    "    grade = \"D\"\n",
    "else :\n",
    "    grade = \"F\"\n",
    "\n",
    "print(f\"The student's grade is {grade}\")"
   ]
  }
 ],
 "metadata": {
  "kernelspec": {
   "display_name": "python2023",
   "language": "python",
   "name": "python3"
  },
  "language_info": {
   "codemirror_mode": {
    "name": "ipython",
    "version": 3
   },
   "file_extension": ".py",
   "mimetype": "text/x-python",
   "name": "python",
   "nbconvert_exporter": "python",
   "pygments_lexer": "ipython3",
   "version": "3.13.5"
  }
 },
 "nbformat": 4,
 "nbformat_minor": 5
}
