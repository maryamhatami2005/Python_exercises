{
 "cells": [
  {
   "cell_type": "markdown",
   "id": "00614139",
   "metadata": {},
   "source": [
    "**Tasks:**\n",
    "\n",
    "Given Data:"
   ]
  },
  {
   "cell_type": "code",
   "execution_count": null,
   "id": "a851f0c3",
   "metadata": {},
   "outputs": [],
   "source": [
    "text = \"The quick brown fox jumps over the lazy dog\"\n",
    "numbers_list = [8, 23, 45, 12, 78]\n",
    "mixed_list = [\"hello\", 10, \"world\", 42]"
   ]
  },
  {
   "cell_type": "markdown",
   "id": "83e4ea0d",
   "metadata": {},
   "source": [
    "1. **String Analysis**:\n",
    "   - Find and print the number of characters in the `text` string using a built-in function.\n",
    "   - Convert the `text` string to uppercase and print the result."
   ]
  },
  {
   "cell_type": "code",
   "execution_count": 17,
   "id": "48cd68b6",
   "metadata": {},
   "outputs": [
    {
     "name": "stdout",
     "output_type": "stream",
     "text": [
      "Number of characters: 43\n"
     ]
    }
   ],
   "source": [
    "text = \"The quick brown fox jumps over the lazy dog\"\n",
    "print(f'Number of characters: {len(text)}')"
   ]
  },
  {
   "cell_type": "code",
   "execution_count": 18,
   "id": "72776319",
   "metadata": {},
   "outputs": [
    {
     "name": "stdout",
     "output_type": "stream",
     "text": [
      "Uppercase text: THE QUICK BROWN FOX JUMPS OVER THE LAZY DOG\n"
     ]
    }
   ],
   "source": [
    "print(f'Uppercase text: {text.upper()}')"
   ]
  },
  {
   "cell_type": "markdown",
   "id": "6151f1eb",
   "metadata": {},
   "source": [
    "2. **Numeric Calculations**:\n",
    "   - Calculate and print the sum of all the numbers in `numbers_list`.\n",
    "   - Find and print the maximum and minimum numbers in `numbers_list`."
   ]
  },
  {
   "cell_type": "code",
   "execution_count": 19,
   "id": "547c244e",
   "metadata": {},
   "outputs": [
    {
     "name": "stdout",
     "output_type": "stream",
     "text": [
      "Sum of numbers: 166\n"
     ]
    }
   ],
   "source": [
    "numbers_list = [8, 23, 45, 12, 78]\n",
    "total = sum(numbers_list)\n",
    "print(f\"Sum of numbers: {sum(numbers_list)}\")"
   ]
  },
  {
   "cell_type": "code",
   "execution_count": 20,
   "id": "5cda3737",
   "metadata": {},
   "outputs": [
    {
     "name": "stdout",
     "output_type": "stream",
     "text": [
      "Maximum number: 78\n",
      "Minimum number: 8\n"
     ]
    }
   ],
   "source": [
    "print(f\"Maximum number: {max(numbers_list)}\")\n",
    "print(f\"Minimum number: {min(numbers_list)}\")"
   ]
  },
  {
   "cell_type": "markdown",
   "id": "902ec5bb",
   "metadata": {},
   "source": [
    "3. **List Manipulation**:\n",
    "   - Use a built-in function to count the number of times the number `10` appears in `mixed_list`.\n",
    "   - Print a sorted version of `numbers_list` in descending order without modifying the original list."
   ]
  },
  {
   "cell_type": "code",
   "execution_count": 21,
   "id": "da2b8378",
   "metadata": {},
   "outputs": [
    {
     "name": "stdout",
     "output_type": "stream",
     "text": [
      "Occurrences of 10: 1\n"
     ]
    }
   ],
   "source": [
    "mixed_list = [\"hello\", 10, \"world\", 42]\n",
    "print(f\"Occurrences of 10: {mixed_list.count(10)}\")"
   ]
  },
  {
   "cell_type": "code",
   "execution_count": 22,
   "id": "d5756cf7",
   "metadata": {},
   "outputs": [
    {
     "data": {
      "text/plain": [
       "[78, 45, 23, 12, 8]"
      ]
     },
     "execution_count": 22,
     "metadata": {},
     "output_type": "execute_result"
    }
   ],
   "source": [
    "sorted(numbers_list, reverse= True)"
   ]
  },
  {
   "cell_type": "markdown",
   "id": "a7e309da",
   "metadata": {},
   "source": [
    "4. **Iterating with Built-in Functions**:\n",
    "   - Use a built-in function to iterate over `text` and print each word, but only if the word is not \"the\".\n",
    "   - Apply a built-in function to `numbers_list` to create a new list where each number is squared (i.e., number^2). Print the new list."
   ]
  },
  {
   "cell_type": "code",
   "execution_count": 37,
   "id": "085e3d83",
   "metadata": {},
   "outputs": [
    {
     "name": "stdout",
     "output_type": "stream",
     "text": [
      "Iterated words(excluding \"the\"): \n",
      "quick\n",
      "brown\n",
      "fox\n",
      "jumps\n",
      "over\n",
      "lazy\n",
      "dog\n"
     ]
    }
   ],
   "source": [
    "text = \"The quick brown fox jumps over the lazy dog\"\n",
    "\n",
    "print(f'Iterated words(excluding \"the\"): ')\n",
    "for word in filter(lambda w: w.lower() != \"the\" , text.split()):\n",
    "    print(word)"
   ]
  },
  {
   "cell_type": "code",
   "execution_count": 43,
   "id": "15794dbc",
   "metadata": {},
   "outputs": [
    {
     "name": "stdout",
     "output_type": "stream",
     "text": [
      "Squared_numbers: [64, 529, 2025, 144, 6084]\n"
     ]
    }
   ],
   "source": [
    "squared_numbers = list(map(lambda x: x**2, numbers_list))\n",
    "print(f\"Squared_numbers: {squared_numbers}\")"
   ]
  }
 ],
 "metadata": {
  "kernelspec": {
   "display_name": "python2023",
   "language": "python",
   "name": "python3"
  },
  "language_info": {
   "codemirror_mode": {
    "name": "ipython",
    "version": 3
   },
   "file_extension": ".py",
   "mimetype": "text/x-python",
   "name": "python",
   "nbconvert_exporter": "python",
   "pygments_lexer": "ipython3",
   "version": "3.13.5"
  }
 },
 "nbformat": 4,
 "nbformat_minor": 5
}
