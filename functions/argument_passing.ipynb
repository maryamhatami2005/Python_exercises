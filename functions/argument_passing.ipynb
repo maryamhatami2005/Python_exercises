{
 "cells": [
  {
   "cell_type": "markdown",
   "id": "7fbd774b",
   "metadata": {},
   "source": [
    "## <a id='toc5_'></a>Practice Exercise: A Day at the Zoo\n",
    "\n",
    "You are planning a visit to the local zoo with a group of students. The zoo has several sections for different kinds of animals, and each section has feeding times, special shows, and educational talks. To maximize the visit, you decide to write a Python program that helps organize the day's activities based on the group's preferences."
   ]
  },
  {
   "cell_type": "markdown",
   "id": "6491df64",
   "metadata": {},
   "source": [
    "**Tasks:**\n",
    "\n",
    "1. Write a function named `schedule_visit` that takes three parameters: `section` (the section of the zoo to visit, e.g., \"Reptiles\", \"Birds\"), `time` (the time you plan to visit that section), and `activity` with a default value of \"Feeding\". The function should print a message summarizing the visit plan for that section.\n",
    "\n",
    "2. Call the `schedule_visit` function for the \"Reptiles\" section at \"10:00 AM\" without specifying an activity to use the default value.\n",
    "\n",
    "3. Call the `schedule_visit` function for the \"Birds\" section at \"1:00 PM\" with the activity \"Educational Talk\".\n",
    "\n",
    "4. Write a function named `add_special_request` that takes two parameters: `section` and `request` with a default value of \"None\". This function should print a message indicating any special requests for the visit to that section. If no special request is made, the function should print that no special requests have been made for this section.\n",
    "\n",
    "5. Call the `add_special_request` function for the \"Reptiles\" section without specifying a request.\n",
    "\n",
    "6. Call the `add_special_request` function for the \"Mammals\" section with a special request of \"Wheelchair Access\".\n"
   ]
  }
 ],
 "metadata": {
  "language_info": {
   "name": "python"
  }
 },
 "nbformat": 4,
 "nbformat_minor": 5
}
