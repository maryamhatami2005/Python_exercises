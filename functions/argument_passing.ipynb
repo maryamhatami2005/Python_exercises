{
 "cells": [
  {
   "cell_type": "markdown",
   "id": "7fbd774b",
   "metadata": {},
   "source": [
    "## <a id='toc5_'></a>Practice Exercise: A Day at the Zoo\n",
    "\n",
    "You are planning a visit to the local zoo with a group of students. The zoo has several sections for different kinds of animals, and each section has feeding times, special shows, and educational talks. To maximize the visit, you decide to write a Python program that helps organize the day's activities based on the group's preferences."
   ]
  },
  {
   "cell_type": "markdown",
   "id": "6491df64",
   "metadata": {},
   "source": [
    "**Tasks:**\n",
    "\n",
    "1. Write a function named `schedule_visit` that takes three parameters: `section` (the section of the zoo to visit, e.g., \"Reptiles\", \"Birds\"), `time` (the time you plan to visit that section), and `activity` with a default value of \"Feeding\". The function should print a message summarizing the visit plan for that section.\n",
    "\n",
    "2. Call the `schedule_visit` function for the \"Reptiles\" section at \"10:00 AM\" without specifying an activity to use the default value.\n",
    "\n",
    "3. Call the `schedule_visit` function for the \"Birds\" section at \"1:00 PM\" with the activity \"Educational Talk\".\n",
    "\n",
    "4. Write a function named `add_special_request` that takes two parameters: `section` and `request` with a default value of \"None\". This function should print a message indicating any special requests for the visit to that section. If no special request is made, the function should print that no special requests have been made for this section.\n",
    "\n",
    "5. Call the `add_special_request` function for the \"Reptiles\" section without specifying a request.\n",
    "\n",
    "6. Call the `add_special_request` function for the \"Mammals\" section with a special request of \"Wheelchair Access\".\n"
   ]
  },
  {
   "cell_type": "code",
   "execution_count": null,
   "id": "3dd0a789",
   "metadata": {},
   "outputs": [],
   "source": [
    "# Task 1\n",
    "\n",
    "def schedule_visit(section, time, activity = \"Feeding\"):\n",
    "    print(f\"Planning to visit {section} section at {time} for a {activity} activity.\")"
   ]
  },
  {
   "cell_type": "code",
   "execution_count": 22,
   "id": "5fb603ad",
   "metadata": {},
   "outputs": [
    {
     "name": "stdout",
     "output_type": "stream",
     "text": [
      "Planning to visit Reptiles section at 10:00 AM for a Feeding activity.\n"
     ]
    }
   ],
   "source": [
    "# Task 2\n",
    "\n",
    "schedule_visit(section= \"Reptiles\", time = \"10:00 AM\")"
   ]
  },
  {
   "cell_type": "code",
   "execution_count": 23,
   "id": "1fd5b6bb",
   "metadata": {},
   "outputs": [
    {
     "name": "stdout",
     "output_type": "stream",
     "text": [
      "Planning to visit Birds section at 1:00 PM for a Educational Talk activity.\n"
     ]
    }
   ],
   "source": [
    "# Task 3\n",
    "\n",
    "schedule_visit(section= \"Birds\", time = \"1:00 PM\", activity= \"Educational Talk\")"
   ]
  },
  {
   "cell_type": "code",
   "execution_count": null,
   "id": "b1f181fa",
   "metadata": {},
   "outputs": [],
   "source": [
    "# Task 4\n",
    "\n",
    "def add_special_request(section, request= None):\n",
    "    if(request == None):\n",
    "        print(f\"No special requests have been made for the {section} section.\")\n",
    "    else:\n",
    "        print(f\"Special request for the {section} section: {request}.\")"
   ]
  },
  {
   "cell_type": "code",
   "execution_count": 24,
   "id": "fed76831",
   "metadata": {},
   "outputs": [
    {
     "name": "stdout",
     "output_type": "stream",
     "text": [
      "No special requests have been made for the Reptiles section.\n"
     ]
    }
   ],
   "source": [
    "# Task 5\n",
    "\n",
    "add_special_request(\"Reptiles\")"
   ]
  },
  {
   "cell_type": "code",
   "execution_count": 25,
   "id": "43e76d8d",
   "metadata": {},
   "outputs": [
    {
     "name": "stdout",
     "output_type": "stream",
     "text": [
      "Special request for the Mammals section: Wheelchair Access.\n"
     ]
    }
   ],
   "source": [
    "# Task 6\n",
    "\n",
    "add_special_request(\"Mammals\", \"Wheelchair Access\")"
   ]
  }
 ],
 "metadata": {
  "kernelspec": {
   "display_name": "python2023",
   "language": "python",
   "name": "python3"
  },
  "language_info": {
   "codemirror_mode": {
    "name": "ipython",
    "version": 3
   },
   "file_extension": ".py",
   "mimetype": "text/x-python",
   "name": "python",
   "nbconvert_exporter": "python",
   "pygments_lexer": "ipython3",
   "version": "3.13.5"
  }
 },
 "nbformat": 4,
 "nbformat_minor": 5
}
