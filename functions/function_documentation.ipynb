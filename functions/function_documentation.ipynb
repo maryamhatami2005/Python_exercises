{
 "cells": [
  {
   "cell_type": "markdown",
   "id": "482dee85",
   "metadata": {},
   "source": [
    "**Scenario:**\n",
    "Imagine you have written a function that calculates the area of a rectangle. Your task is to document this function properly using a docstring that includes a description of the function, its parameters, return value, and any additional information you think is relevant. You will also use type hints to indicate the expected data types for the function's parameters and return value.\n"
   ]
  },
  {
   "cell_type": "markdown",
   "id": "ca49b78b",
   "metadata": {},
   "source": [
    "**Tasks:**\n",
    "\n",
    "1. **Write the Function**:\n",
    "   Define a function named `calculate_rectangle_area` that takes two parameters, `width` and `height`, which represent the dimensions of a rectangle.\n",
    "\n",
    "2. **Add a Docstring**:\n",
    "   Write a docstring for the `calculate_rectangle_area` function. Make sure to include:\n",
    "   - A brief description of what the function does.\n",
    "   - Descriptions of the parameters `width` and `height`.\n",
    "   - The expected return value description.\n",
    "\n",
    "3. **Include Type Hints**:\n",
    "   Add type hints to the function's parameters and return value. Assume the dimensions will be passed as floating-point numbers and the function will return the area as a floating-point number.\n",
    "\n",
    "4. **Access the Docstring**:\n",
    "   Write code that prints the docstring of the `calculate_rectangle_area` function using both the `help()` function and the `.__doc__` attribute.\n",
    "\n",
    "5. **Bonus: Explore Docstring Styles**:\n",
    "   Choose one of the docstring styles mentioned in the lecture (Google, NumPy/SciPy, reStructuredText, Epytext) and rewrite the docstring of your function to match that style."
   ]
  }
 ],
 "metadata": {
  "language_info": {
   "name": "python"
  }
 },
 "nbformat": 4,
 "nbformat_minor": 5
}
