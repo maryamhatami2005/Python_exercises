{
 "cells": [
  {
   "cell_type": "markdown",
   "id": "3d1e20c5",
   "metadata": {},
   "source": [
    "## <a id='toc6_'></a>[Practice Exercise: Organizing a Coding Workshop](#toc0_)"
   ]
  },
  {
   "cell_type": "markdown",
   "id": "a7cb86f8",
   "metadata": {},
   "source": [
    "You are organizing a coding workshop that covers various programming languages and tools. The workshop will have multiple sessions, and each session can cover different topics and have various numbers of speakers. You want to create a Python program to help organize the sessions more effectively, leveraging functions that can handle variable numbers of arguments.\n"
   ]
  },
  {
   "cell_type": "markdown",
   "id": "09d95ff3",
   "metadata": {},
   "source": [
    "**Tasks:**\n",
    "\n",
    "1. Write a function named `plan_session` that uses tuple packing to accept a variable number of topics for a single session. The function should print out a list of topics planned for that session.\n",
    "\n",
    "2. Write a function named `session_details` that uses dictionary packing to accept various details about the session like the session's name, number of attendees, and room number. The function should print out all the details provided.\n",
    "\n",
    "3. Use argument tuple unpacking to call `plan_session` with a list of topics stored in a tuple for the session \"Web Development Basics\".\n",
    "\n",
    "4. Use argument dictionary unpacking to call `session_details` with details stored in a dictionary for the session \"Web Development Basics\".\n",
    "\n",
    "5. Combine both packing and unpacking techniques to organize a session named \"Advanced Python\", which includes unpacking a list of topics and unpacking session details from a dictionary.\n"
   ]
  }
 ],
 "metadata": {
  "language_info": {
   "name": "python"
  }
 },
 "nbformat": 4,
 "nbformat_minor": 5
}
