{
 "cells": [
  {
   "cell_type": "markdown",
   "id": "3d1e20c5",
   "metadata": {},
   "source": [
    "## <a id='toc6_'></a>[Practice Exercise: Organizing a Coding Workshop](#toc0_)"
   ]
  },
  {
   "cell_type": "markdown",
   "id": "a7cb86f8",
   "metadata": {},
   "source": [
    "You are organizing a coding workshop that covers various programming languages and tools. The workshop will have multiple sessions, and each session can cover different topics and have various numbers of speakers. You want to create a Python program to help organize the sessions more effectively, leveraging functions that can handle variable numbers of arguments.\n"
   ]
  },
  {
   "cell_type": "markdown",
   "id": "09d95ff3",
   "metadata": {},
   "source": [
    "**Tasks:**"
   ]
  },
  {
   "cell_type": "markdown",
   "id": "34537668",
   "metadata": {},
   "source": [
    "1. Write a function named `plan_session` that uses tuple packing to accept a variable number of topics for a single session. The function should print out a list of topics "
   ]
  },
  {
   "cell_type": "code",
   "execution_count": 33,
   "id": "8da5abdf",
   "metadata": {},
   "outputs": [],
   "source": [
    "def plan_session(*args):\n",
    "    print(\"Topics planned for this session: \", list(args))"
   ]
  },
  {
   "cell_type": "markdown",
   "id": "26cbc956",
   "metadata": {},
   "source": [
    "2. Write a function named `session_details` that uses dictionary packing to accept various details about the session like the session's name, number of attendees, and room number. The function should print out all the details provided."
   ]
  },
  {
   "cell_type": "code",
   "execution_count": 34,
   "id": "2210717c",
   "metadata": {},
   "outputs": [],
   "source": [
    "def session_details(**kwargs):\n",
    "    for detail, value in kwargs.items():\n",
    "        print(f\"{detail} : {value}\")"
   ]
  },
  {
   "cell_type": "markdown",
   "id": "8f672892",
   "metadata": {},
   "source": [
    "3. Use argument tuple unpacking to call `plan_session` with a list of topics stored in a tuple for the session \"Web Development Basics\"."
   ]
  },
  {
   "cell_type": "code",
   "execution_count": 35,
   "id": "8ccb1181",
   "metadata": {},
   "outputs": [
    {
     "name": "stdout",
     "output_type": "stream",
     "text": [
      "Topics planned for this session:  ['Python Basics', 'Data Types Functional', 'Functions']\n"
     ]
    }
   ],
   "source": [
    "web_dev_details = (\"Python Basics\", \"Data Types Functional\", \"Functions\")\n",
    "plan_session(*web_dev_details)"
   ]
  },
  {
   "cell_type": "markdown",
   "id": "04f34d97",
   "metadata": {},
   "source": [
    "4. Use argument dictionary unpacking to call `session_details` with details stored in a dictionary for the session \"Web Development Basics\"."
   ]
  },
  {
   "cell_type": "code",
   "execution_count": 38,
   "id": "9a83785c",
   "metadata": {},
   "outputs": [],
   "source": [
    "web_dev_details = {\n",
    "    'Name' : 'Advanced Python',\n",
    "    'Attendees': 40,\n",
    "    'Room' : 105\n",
    "}"
   ]
  },
  {
   "cell_type": "code",
   "execution_count": 39,
   "id": "53185b2c",
   "metadata": {},
   "outputs": [
    {
     "name": "stdout",
     "output_type": "stream",
     "text": [
      "Name : Advanced Python\n",
      "Attendees : 40\n",
      "Room : 105\n"
     ]
    }
   ],
   "source": [
    "session_details(**web_dev_details)"
   ]
  },
  {
   "cell_type": "markdown",
   "id": "7b933ca2",
   "metadata": {},
   "source": [
    "5. Combine both packing and unpacking techniques to organize a session named \"Advanced Python\", which includes unpacking a list of topics and unpacking session details from a dictionary"
   ]
  },
  {
   "cell_type": "code",
   "execution_count": 44,
   "id": "cfa103ed",
   "metadata": {},
   "outputs": [],
   "source": [
    "advanced_python = [\"Object Oriented\", \"Modules\"]\n",
    "adv_python_session = {\n",
    "    \"Name\" :\"Advanced Python\",\n",
    "    \"Attendees\" : 25,\n",
    "    \"Room\" : 203\n",
    "}"
   ]
  },
  {
   "cell_type": "code",
   "execution_count": 45,
   "id": "206a7b89",
   "metadata": {},
   "outputs": [
    {
     "name": "stdout",
     "output_type": "stream",
     "text": [
      "Topics planned for this session:  ['Object Oriented', 'Modules']\n"
     ]
    }
   ],
   "source": [
    "plan_session(*advanced_python)"
   ]
  },
  {
   "cell_type": "code",
   "execution_count": 46,
   "id": "ad459d85",
   "metadata": {},
   "outputs": [
    {
     "name": "stdout",
     "output_type": "stream",
     "text": [
      "Name : Advanced Python\n",
      "Attendees : 25\n",
      "Room : 203\n"
     ]
    }
   ],
   "source": [
    "session_details(**adv_python_session)"
   ]
  }
 ],
 "metadata": {
  "kernelspec": {
   "display_name": "python2023",
   "language": "python",
   "name": "python3"
  },
  "language_info": {
   "codemirror_mode": {
    "name": "ipython",
    "version": 3
   },
   "file_extension": ".py",
   "mimetype": "text/x-python",
   "name": "python",
   "nbconvert_exporter": "python",
   "pygments_lexer": "ipython3",
   "version": "3.13.5"
  }
 },
 "nbformat": 4,
 "nbformat_minor": 5
}
