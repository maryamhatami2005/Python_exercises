{
 "cells": [
  {
   "cell_type": "markdown",
   "id": "851c85dd",
   "metadata": {},
   "source": [
    "## <a id='toc4_'></a>[Practice Exercise: Temperature Conversion Tool with Data Validation](#toc0_)\n",
    "\n",
    "You're tasked with improving your temperature conversion tool. Your objective is to add input validation to each function, ensuring that they handle incorrect or unexpected input gracefully by printing an error message and returning `None`. This added robustness will make your tool more user-friendly and reliable."
   ]
  },
  {
   "cell_type": "markdown",
   "id": "0c2dab1b",
   "metadata": {},
   "source": [
    "**Tasks:**"
   ]
  },
  {
   "cell_type": "markdown",
   "id": "431e0357",
   "metadata": {},
   "source": [
    "1. Update the function `celsius_to_fahrenheit` to check if the input is either an integer or a float. If the input is not a number, print an error message and return `None`. Otherwise, calculate and return the equivalent temperature in Fahrenheit using the formula: Fahrenheit = (Celsius * 9/5) + 32."
   ]
  },
  {
   "cell_type": "code",
   "execution_count": 41,
   "id": "9b09540c",
   "metadata": {},
   "outputs": [],
   "source": [
    "def celsius_to_fahrenheit(celsius):\n",
    "    if not (type(celsius) == int or type(celsius) == float) :\n",
    "        print(\"Invalid input. Please enter a numeric value.\")\n",
    "        return None\n",
    "\n",
    "    fahrenheit = (celsius * 9/5) + 32\n",
    "    return f\"{celsius} °C : {fahrenheit} °F\"\n"
   ]
  },
  {
   "cell_type": "markdown",
   "id": "15e3c6ac",
   "metadata": {},
   "source": [
    "2. Revise the function `fahrenheit_to_celsius` in the same manner to validate the input. If the input is valid, use the formula: Celsius = (Fahrenheit - 32) * 5/9 to calculate and return the equivalent temperature in Celsius."
   ]
  },
  {
   "cell_type": "code",
   "execution_count": 72,
   "id": "4b9318d4",
   "metadata": {},
   "outputs": [],
   "source": [
    "def fahrenheit_to_celsius(fahrenheit):\n",
    "    if not (type(fahrenheit) == int or type(fahrenheit) == float) :\n",
    "        print(\"Invalid input. Please enter a numeric value.\")\n",
    "        return None\n",
    "\n",
    "    celsius = (fahrenheit-32) * 5/9\n",
    "    return f\"{fahrenheit} °F : {celsius : .2f} °C\"\n",
    "    "
   ]
  },
  {
   "cell_type": "markdown",
   "id": "baaa5f77",
   "metadata": {},
   "source": [
    "3. Modify the function `water_state` to ensure the input is a number (either an integer or a float). The function should return \"Solid\" if the temperature is below 0, \"Liquid\" if the temperature is between 0 and 100 inclusive, and \"Gas\" if the temperature is above 100. For non-numeric inputs, print an error message and return `None`."
   ]
  },
  {
   "cell_type": "code",
   "execution_count": 64,
   "id": "11a8db75",
   "metadata": {},
   "outputs": [],
   "source": [
    "def water_state(temp):\n",
    "    if not (type(temp) == int or type(temp) == float) :\n",
    "        print(\"Invalid input. Please enter a numeric value.\")\n",
    "        return None\n",
    "    if temp < 0 :\n",
    "            return f\" At {temp} celsius, water is in a Solid state.\"\n",
    "    if( temp > 0 or temp < 100) :\n",
    "            return f\" At {temp} celsius, water is in a Liquide state.\"\n",
    "    if temp > 100 :\n",
    "            return f\" At {temp} celsius, water is in a Gas state.\""
   ]
  },
  {
   "cell_type": "markdown",
   "id": "cc2471f9",
   "metadata": {},
   "source": [
    "4. Call `celsius_to_fahrenheit` with a valid value (e.g., 100) and an invalid value (e.g., \"hot\") and print the results."
   ]
  },
  {
   "cell_type": "code",
   "execution_count": 66,
   "id": "2c2c3069",
   "metadata": {},
   "outputs": [
    {
     "data": {
      "text/plain": [
       "'100 °C : 212.0 °F'"
      ]
     },
     "execution_count": 66,
     "metadata": {},
     "output_type": "execute_result"
    }
   ],
   "source": [
    "celsius_to_fahrenheit(100)"
   ]
  },
  {
   "cell_type": "code",
   "execution_count": 67,
   "id": "f0d9bf2e",
   "metadata": {},
   "outputs": [
    {
     "name": "stdout",
     "output_type": "stream",
     "text": [
      "Invalid input. Please enter a numeric value.\n"
     ]
    }
   ],
   "source": [
    "celsius_to_fahrenheit(\"hot\")"
   ]
  },
  {
   "cell_type": "markdown",
   "id": "3a819444",
   "metadata": {},
   "source": [
    "5. Call `fahrenheit_to_celsius` with a valid value (e.g., 32) and an invalid value (e.g., \"cold\") and print the results."
   ]
  },
  {
   "cell_type": "code",
   "execution_count": 73,
   "id": "0971371a",
   "metadata": {},
   "outputs": [
    {
     "data": {
      "text/plain": [
       "'24 °F : -4.44 °C'"
      ]
     },
     "execution_count": 73,
     "metadata": {},
     "output_type": "execute_result"
    }
   ],
   "source": [
    "fahrenheit_to_celsius(24)"
   ]
  },
  {
   "cell_type": "code",
   "execution_count": 74,
   "id": "8243581e",
   "metadata": {},
   "outputs": [
    {
     "name": "stdout",
     "output_type": "stream",
     "text": [
      "Invalid input. Please enter a numeric value.\n"
     ]
    }
   ],
   "source": [
    "fahrenheit_to_celsius(\"cold\")"
   ]
  },
  {
   "cell_type": "markdown",
   "id": "7714b6e7",
   "metadata": {},
   "source": [
    "6. Call `water_state` with a valid value (e.g., 25) and an invalid value (e.g., \"warm\") and print the results."
   ]
  },
  {
   "cell_type": "code",
   "execution_count": 75,
   "id": "01f8d4f6",
   "metadata": {},
   "outputs": [
    {
     "data": {
      "text/plain": [
       "' At 25 celsius, water is in a Liquide state.'"
      ]
     },
     "execution_count": 75,
     "metadata": {},
     "output_type": "execute_result"
    }
   ],
   "source": [
    "water_state(25)"
   ]
  },
  {
   "cell_type": "code",
   "execution_count": 76,
   "id": "8540d5fb",
   "metadata": {},
   "outputs": [
    {
     "name": "stdout",
     "output_type": "stream",
     "text": [
      "Invalid input. Please enter a numeric value.\n"
     ]
    }
   ],
   "source": [
    "water_state(\"warm\")"
   ]
  }
 ],
 "metadata": {
  "kernelspec": {
   "display_name": "python2023",
   "language": "python",
   "name": "python3"
  },
  "language_info": {
   "codemirror_mode": {
    "name": "ipython",
    "version": 3
   },
   "file_extension": ".py",
   "mimetype": "text/x-python",
   "name": "python",
   "nbconvert_exporter": "python",
   "pygments_lexer": "ipython3",
   "version": "3.13.5"
  }
 },
 "nbformat": 4,
 "nbformat_minor": 5
}
