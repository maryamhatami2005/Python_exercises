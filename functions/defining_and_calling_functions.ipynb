{
 "cells": [
  {
   "cell_type": "markdown",
   "id": "81f989ad",
   "metadata": {},
   "source": [
    "1. **Defining and Calling a Simple Function**:\n",
    "   Define a function named `greet` that prints \"Hello, World!\" to the console. Then, call this function to see the greeting printed out."
   ]
  },
  {
   "cell_type": "code",
   "execution_count": 1,
   "id": "bb4079f8",
   "metadata": {},
   "outputs": [
    {
     "name": "stdout",
     "output_type": "stream",
     "text": [
      "Hello, World!\n"
     ]
    }
   ],
   "source": [
    "def greet():\n",
    "    print(\"Hello, World!\")\n",
    "\n",
    "greet()"
   ]
  },
  {
   "cell_type": "markdown",
   "id": "b17660d1",
   "metadata": {},
   "source": [
    "2. **Creating a Function with Parameters**:\n",
    "   Define a function called `personalize_greeting` that takes a name as a parameter and prints a personalized greeting, \"Hello, [name]!\". Replace `[name]` with the actual name provided. Call this function with your name as an argument."
   ]
  },
  {
   "cell_type": "code",
   "execution_count": 7,
   "id": "ec781587",
   "metadata": {},
   "outputs": [
    {
     "name": "stdout",
     "output_type": "stream",
     "text": [
      "Hello, Mary\n"
     ]
    }
   ],
   "source": [
    "def personalize_greeting(name) :\n",
    "    print(f\"Hello, {name}\")\n",
    "\n",
    "personalize_greeting(input(\"What's your name?\"))"
   ]
  },
  {
   "cell_type": "markdown",
   "id": "323c891f",
   "metadata": {},
   "source": [
    "3. **Calculating the Area of a Circle**:\n",
    "   Define a function named `circle_area` that takes the radius of a circle as a parameter and returns the area of the circle. Use the formula `area = π * radius^2` for the calculation (`π` can be approximated as `3.14159`). Call this function with a radius of `5` and print the result."
   ]
  },
  {
   "cell_type": "code",
   "execution_count": 46,
   "id": "466f5f08",
   "metadata": {},
   "outputs": [
    {
     "name": "stdout",
     "output_type": "stream",
     "text": [
      "The area of the circle with the radius of 4 is 50.24\n"
     ]
    }
   ],
   "source": [
    "def circle_area(radius):\n",
    "    area = (3.14 * (radius ** 2))\n",
    "    return area\n",
    "\n",
    "radius = int(input(\"Enter the radius of the circle: \"))\n",
    "area = circle_area(4)\n",
    "print(f\"The area of the circle with the radius of {radius} is {area}\")"
   ]
  },
  {
   "cell_type": "markdown",
   "id": "30a899ae",
   "metadata": {},
   "source": [
    "4. **Using Multiple Parameters**:\n",
    "   Define a function called `add_numbers` that takes two parameters and returns their sum. Call this function with two numbers of your choice and print the result."
   ]
  },
  {
   "cell_type": "code",
   "execution_count": 48,
   "id": "facb85c7",
   "metadata": {},
   "outputs": [
    {
     "name": "stdout",
     "output_type": "stream",
     "text": [
      "The sum of 34 and 53 is 87\n"
     ]
    }
   ],
   "source": [
    "def add(a,b):\n",
    "    sum = a + b\n",
    "    return sum\n",
    "\n",
    "num1 = int(input('Enter the first value: '))\n",
    "num2 = int(input('Enter the second value: '))\n",
    "\n",
    "result = add(num1, num2)\n",
    "print(f\"The sum of {num1} and {num2} is {result}\")"
   ]
  },
  {
   "cell_type": "markdown",
   "id": "3762da24",
   "metadata": {},
   "source": [
    "5. **No Return Statement**:\n",
    "   Define a function called `print_menu` that prints a list of food items to the console but does not return anything. Call this function to display the menu.\n"
   ]
  },
  {
   "cell_type": "code",
   "execution_count": 55,
   "id": "65c15d52",
   "metadata": {},
   "outputs": [
    {
     "name": "stdout",
     "output_type": "stream",
     "text": [
      "Menu : Burger, Pizza, Pasta, Salad, Fries, Ice Cream\n"
     ]
    }
   ],
   "source": [
    "def print_menu() :\n",
    "    menu = [\n",
    "    \"Burger\",\n",
    "    \"Pizza\",\n",
    "    \"Pasta\",\n",
    "    \"Salad\",\n",
    "    \"Fries\",\n",
    "    \"Ice Cream\"\n",
    "    ]\n",
    "    print(\"Menu :\", \", \".join(menu))\n",
    "\n",
    "print_menu()"
   ]
  },
  {
   "cell_type": "markdown",
   "id": "4859585f",
   "metadata": {},
   "source": [
    "6. **Bonus: A Function that Returns Multiple Values**:\n",
    "   Define a function called `min_max` that takes a list of numbers as a parameter and returns both the minimum and maximum numbers in the list. Call this function with a list of numbers and unpack the results into two variables, then print those variables."
   ]
  },
  {
   "cell_type": "code",
   "execution_count": 54,
   "id": "46fcb4fa",
   "metadata": {},
   "outputs": [
    {
     "name": "stdout",
     "output_type": "stream",
     "text": [
      "Minimum: 2 Maximum: 87\n"
     ]
    }
   ],
   "source": [
    "def min_max(numbers):\n",
    "\n",
    "    return min(numbers) , max(numbers)\n",
    "\n",
    "num_list = [24,57,87,2,76,32,17]\n",
    "\n",
    "min_number, max_number = min_max(num_list)\n",
    "print(f\"Minimum: {min_number} Maximum: {max_number}\")\n"
   ]
  }
 ],
 "metadata": {
  "kernelspec": {
   "display_name": "python2023",
   "language": "python",
   "name": "python3"
  },
  "language_info": {
   "codemirror_mode": {
    "name": "ipython",
    "version": 3
   },
   "file_extension": ".py",
   "mimetype": "text/x-python",
   "name": "python",
   "nbconvert_exporter": "python",
   "pygments_lexer": "ipython3",
   "version": "3.13.5"
  }
 },
 "nbformat": 4,
 "nbformat_minor": 5
}
