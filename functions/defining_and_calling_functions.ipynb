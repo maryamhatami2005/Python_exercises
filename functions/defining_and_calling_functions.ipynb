{
 "cells": [
  {
   "cell_type": "markdown",
   "id": "82e4ed93",
   "metadata": {},
   "source": [
    "**Tasks:**\n",
    "\n",
    "1. **Defining and Calling a Simple Function**:\n",
    "   Define a function named `greet` that prints \"Hello, World!\" to the console. Then, call this function to see the greeting printed out.\n",
    "\n",
    "2. **Creating a Function with Parameters**:\n",
    "   Define a function called `personalize_greeting` that takes a name as a parameter and prints a personalized greeting, \"Hello, [name]!\". Replace `[name]` with the actual name provided. Call this function with your name as an argument.\n",
    "\n",
    "3. **Calculating the Area of a Circle**:\n",
    "   Define a function named `circle_area` that takes the radius of a circle as a parameter and returns the area of the circle. Use the formula `area = π * radius^2` for the calculation (`π` can be approximated as `3.14159`). Call this function with a radius of `5` and print the result.\n",
    "\n",
    "4. **Using Multiple Parameters**:\n",
    "   Define a function called `add_numbers` that takes two parameters and returns their sum. Call this function with two numbers of your choice and print the result.\n",
    "\n",
    "5. **No Return Statement**:\n",
    "   Define a function called `print_menu` that prints a list of food items to the console but does not return anything. Call this function to display the menu.\n",
    "\n",
    "6. **Bonus: A Function that Returns Multiple Values**:\n",
    "   Define a function called `min_max` that takes a list of numbers as a parameter and returns both the minimum and maximum numbers in the list. Call this function with a list of numbers and unpack the results into two variables, then print those variables."
   ]
  }
 ],
 "metadata": {
  "language_info": {
   "name": "python"
  }
 },
 "nbformat": 4,
 "nbformat_minor": 5
}
