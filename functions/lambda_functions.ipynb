{
 "cells": [
  {
   "cell_type": "markdown",
   "id": "e536533f",
   "metadata": {},
   "source": [
    "**Tasks:**"
   ]
  },
  {
   "cell_type": "markdown",
   "id": "15c030b5",
   "metadata": {},
   "source": [
    "1. **Create a Simple Lambda Function**:\n",
    "   Write a lambda function that takes a single argument `x` and returns the square of `x`. Demonstrate its use by passing a number and printing the result."
   ]
  },
  {
   "cell_type": "code",
   "execution_count": 2,
   "id": "007f251d",
   "metadata": {},
   "outputs": [
    {
     "data": {
      "text/plain": [
       "16"
      ]
     },
     "execution_count": 2,
     "metadata": {},
     "output_type": "execute_result"
    }
   ],
   "source": [
    "square = lambda x : x**2\n",
    "square(4)"
   ]
  },
  {
   "cell_type": "markdown",
   "id": "59062f55",
   "metadata": {},
   "source": [
    "2. **Lambda with Multiple Arguments**:\n",
    "   Define a lambda function that takes two arguments, `a` and `b`, and returns their product. Use the function to calculate the product of two numbers and print the result."
   ]
  },
  {
   "cell_type": "code",
   "execution_count": 4,
   "id": "daf00a20",
   "metadata": {},
   "outputs": [
    {
     "data": {
      "text/plain": [
       "21"
      ]
     },
     "execution_count": 4,
     "metadata": {},
     "output_type": "execute_result"
    }
   ],
   "source": [
    "num_product = lambda a,b : a*b\n",
    "num_product(3,7)"
   ]
  },
  {
   "cell_type": "markdown",
   "id": "dc047200",
   "metadata": {},
   "source": [
    "3. **Combining Lambda with `filter()`**:\n",
    "   Given the list of ages, use a lambda function with the `filter()` function to create a list of all ages that are 18 or above (legal adulthood). Print the filtered list.\n"
   ]
  },
  {
   "cell_type": "code",
   "execution_count": 8,
   "id": "a63c8270",
   "metadata": {},
   "outputs": [
    {
     "data": {
      "text/plain": [
       "[18, 21, 30, 45, 22, 61]"
      ]
     },
     "execution_count": 8,
     "metadata": {},
     "output_type": "execute_result"
    }
   ],
   "source": [
    "ages = [14, 18, 21, 16, 30, 45, 17, 22, 61]\n",
    "list(filter(lambda x: x >=18, ages))"
   ]
  },
  {
   "cell_type": "markdown",
   "id": "3c566df1",
   "metadata": {},
   "source": [
    "4. **Using Lambda with `map()`**:\n",
    "   You have a list of prices in dollars. Use a lambda function with `map()` to apply a 10% discount to each price. Print the list of discounted prices."
   ]
  },
  {
   "cell_type": "code",
   "execution_count": 14,
   "id": "ac15eaad",
   "metadata": {},
   "outputs": [
    {
     "data": {
      "text/plain": [
       "[17.991, 31.95, 80.991, 39.375]"
      ]
     },
     "execution_count": 14,
     "metadata": {},
     "output_type": "execute_result"
    }
   ],
   "source": [
    "prices = [19.99, 35.50, 89.99, 43.75]\n",
    "list(map(lambda x : x*0.9, prices))"
   ]
  },
  {
   "cell_type": "markdown",
   "id": "ba8c8e6d",
   "metadata": {},
   "source": [
    "5. **Lambda with Built-in Functions - Sorting**:\n",
    "   You have a list of tuples where each tuple contains the name of a product and its corresponding price. Use a lambda function as a key argument to the `sorted()` function to sort these products by price in ascending order. Print the sorted list."
   ]
  },
  {
   "cell_type": "code",
   "execution_count": 12,
   "id": "ef1ae098",
   "metadata": {},
   "outputs": [
    {
     "data": {
      "text/plain": [
       "[('banana', 0.5), ('date', 0.75), ('apple', 1.0), ('cherry', 1.5)]"
      ]
     },
     "execution_count": 12,
     "metadata": {},
     "output_type": "execute_result"
    }
   ],
   "source": [
    "products = [('apple', 1.0), ('banana', 0.5), ('cherry', 1.5), ('date', 0.75)]\n",
    "list(sorted(products, key= lambda x:x[1]))"
   ]
  },
  {
   "cell_type": "markdown",
   "id": "11cfd035",
   "metadata": {},
   "source": [
    "6. **Bonus: Lambda for Custom Sorting**:\n",
    "   Imagine you have a list of dictionaries where each dictionary contains information about a book, specifically its title and the year it was published. Write a lambda function to sort the list of books by year of publication, from the oldest to the newest. Print the sorted list."
   ]
  },
  {
   "cell_type": "code",
   "execution_count": 13,
   "id": "f1eea918",
   "metadata": {},
   "outputs": [
    {
     "data": {
      "text/plain": [
       "[{'title': 'Book D', 'year': 1985},\n",
       " {'title': 'Book B', 'year': 1999},\n",
       " {'title': 'Book A', 'year': 2001},\n",
       " {'title': 'Book C', 'year': 2010}]"
      ]
     },
     "execution_count": 13,
     "metadata": {},
     "output_type": "execute_result"
    }
   ],
   "source": [
    "books = [\n",
    "       {'title': 'Book A', 'year': 2001},\n",
    "       {'title': 'Book B', 'year': 1999},\n",
    "       {'title': 'Book C', 'year': 2010},\n",
    "       {'title': 'Book D', 'year': 1985}\n",
    "   ]\n",
    "\n",
    "list(sorted(books, key= lambda x:x['year']))"
   ]
  }
 ],
 "metadata": {
  "kernelspec": {
   "display_name": "python2023",
   "language": "python",
   "name": "python3"
  },
  "language_info": {
   "codemirror_mode": {
    "name": "ipython",
    "version": 3
   },
   "file_extension": ".py",
   "mimetype": "text/x-python",
   "name": "python",
   "nbconvert_exporter": "python",
   "pygments_lexer": "ipython3",
   "version": "3.13.5"
  }
 },
 "nbformat": 4,
 "nbformat_minor": 5
}
