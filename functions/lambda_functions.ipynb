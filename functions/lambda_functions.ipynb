{
 "cells": [
  {
   "cell_type": "markdown",
   "id": "e536533f",
   "metadata": {},
   "source": [
    "**Tasks:**\n",
    "\n",
    "1. **Create a Simple Lambda Function**:\n",
    "   Write a lambda function that takes a single argument `x` and returns the square of `x`. Demonstrate its use by passing a number and printing the result.\n",
    "\n",
    "2. **Lambda with Multiple Arguments**:\n",
    "   Define a lambda function that takes two arguments, `a` and `b`, and returns their product. Use the function to calculate the product of two numbers and print the result.\n",
    "\n",
    "3. **Combining Lambda with `filter()`**:\n",
    "   Given the list of ages, use a lambda function with the `filter()` function to create a list of all ages that are 18 or above (legal adulthood). Print the filtered list.\n",
    "\n",
    "   ```python\n",
    "   ages = [14, 18, 21, 16, 30, 45, 17, 22, 61]\n",
    "   ```\n",
    "\n",
    "4. **Using Lambda with `map()`**:\n",
    "   You have a list of prices in dollars. Use a lambda function with `map()` to apply a 10% discount to each price. Print the list of discounted prices.\n",
    "\n",
    "   ```python\n",
    "   prices = [19.99, 35.50, 89.99, 43.75]\n",
    "   ```\n",
    "\n",
    "5. **Lambda with Built-in Functions - Sorting**:\n",
    "   You have a list of tuples where each tuple contains the name of a product and its corresponding price. Use a lambda function as a key argument to the `sorted()` function to sort these products by price in ascending order. Print the sorted list.\n",
    "\n",
    "   ```python\n",
    "   products = [('apple', 1.0), ('banana', 0.5), ('cherry', 1.5), ('date', 0.75)]\n",
    "   ```\n",
    "\n",
    "6. **Bonus: Lambda for Custom Sorting**:\n",
    "   Imagine you have a list of dictionaries where each dictionary contains information about a book, specifically its title and the year it was published. Write a lambda function to sort the list of books by year of publication, from the oldest to the newest. Print the sorted list.\n",
    "\n",
    "   ```python\n",
    "   books = [\n",
    "       {'title': 'Book A', 'year': 2001},\n",
    "       {'title': 'Book B', 'year': 1999},\n",
    "       {'title': 'Book C', 'year': 2010},\n",
    "       {'title': 'Book D', 'year': 1985}\n",
    "   ]\n",
    "   ```"
   ]
  }
 ],
 "metadata": {
  "language_info": {
   "name": "python"
  }
 },
 "nbformat": 4,
 "nbformat_minor": 5
}
