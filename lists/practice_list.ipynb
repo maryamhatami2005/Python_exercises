{
 "cells": [
  {
   "cell_type": "markdown",
   "id": "ed0a88f7",
   "metadata": {},
   "source": [
    "### <a id='toc9_1_'></a>[Exercise 1: Create and Modify List](#toc0_)\n",
    "Create a list named `colors` containing 'red', 'green', 'blue', and 'yellow'. Then, change 'blue' to 'aqua' and append a new color, 'purple', to the list."
   ]
  },
  {
   "cell_type": "code",
   "execution_count": 1,
   "id": "14e12805",
   "metadata": {},
   "outputs": [],
   "source": [
    "colors = ['red', 'green', 'blue', 'yellow']"
   ]
  },
  {
   "cell_type": "code",
   "execution_count": 5,
   "id": "cabd20ee",
   "metadata": {},
   "outputs": [
    {
     "data": {
      "text/plain": [
       "['red', 'green', 'aqua', 'yellow', 'purple', 'purple']"
      ]
     },
     "execution_count": 5,
     "metadata": {},
     "output_type": "execute_result"
    }
   ],
   "source": [
    "colors[2] = 'aqua'\n",
    "colors.append('purple')\n",
    "colors\n"
   ]
  },
  {
   "cell_type": "markdown",
   "id": "f329c4e4",
   "metadata": {},
   "source": [
    "### <a id='toc9_2_'></a>[Exercise 2: Access and Slice](#toc0_)\n",
    "Given the list `nums = [0, 1, 2, 3, 4, 5, 6, 7, 8, 9]`, access and print the fifth element in `nums`, and create a slice of `nums` that contains only the even numbers.\n"
   ]
  },
  {
   "cell_type": "code",
   "execution_count": 9,
   "id": "9b9bf3f2",
   "metadata": {},
   "outputs": [
    {
     "data": {
      "text/plain": [
       "4"
      ]
     },
     "execution_count": 9,
     "metadata": {},
     "output_type": "execute_result"
    }
   ],
   "source": [
    "nums = list(range(0,10))\n",
    "nums[4]"
   ]
  },
  {
   "cell_type": "code",
   "execution_count": 10,
   "id": "f69ea096",
   "metadata": {},
   "outputs": [
    {
     "data": {
      "text/plain": [
       "[0, 2, 4, 6, 8]"
      ]
     },
     "execution_count": 10,
     "metadata": {},
     "output_type": "execute_result"
    }
   ],
   "source": [
    "nums[::2]"
   ]
  },
  {
   "cell_type": "markdown",
   "id": "90ead9a3",
   "metadata": {},
   "source": [
    "### <a id='toc9_3_'></a>[Exercise 3: List Membership Testing](#toc0_)\n",
    "Create a list containing your five favorite food items, then write a small script that checks if 'pizza' is among your favorites and prints an appropriate message whether it is found or not."
   ]
  },
  {
   "cell_type": "code",
   "execution_count": 11,
   "id": "eb8d08c8",
   "metadata": {},
   "outputs": [
    {
     "data": {
      "text/plain": [
       "True"
      ]
     },
     "execution_count": 11,
     "metadata": {},
     "output_type": "execute_result"
    }
   ],
   "source": [
    "fav_food = ['pasta', 'pizza','french frie', 'hamburger']\n",
    "'pizza' in fav_food"
   ]
  },
  {
   "cell_type": "markdown",
   "id": "04d3f1db",
   "metadata": {},
   "source": [
    "### <a id='toc9_4_'></a>[Exercise 4: Concatenation and Repetition](#toc0_)\n",
    "Concatenate the following two lists `list_a = [1, 2, 3]` and `list_b = [4, 5, 6]` and create a third list that contains three repetitions of the concatenated list.\n"
   ]
  },
  {
   "cell_type": "code",
   "execution_count": 12,
   "id": "adaf8a82",
   "metadata": {},
   "outputs": [],
   "source": [
    "list_a = [1,2,3]\n",
    "list_b = [4,5,6]"
   ]
  },
  {
   "cell_type": "code",
   "execution_count": 14,
   "id": "df5094af",
   "metadata": {},
   "outputs": [
    {
     "data": {
      "text/plain": [
       "[1, 2, 3, 4, 5, 6]"
      ]
     },
     "execution_count": 14,
     "metadata": {},
     "output_type": "execute_result"
    }
   ],
   "source": [
    "list_c = list_a + list_b\n",
    "list_c"
   ]
  },
  {
   "cell_type": "code",
   "execution_count": null,
   "id": "2ce43455",
   "metadata": {},
   "outputs": [],
   "source": []
  }
 ],
 "metadata": {
  "kernelspec": {
   "display_name": "python2023",
   "language": "python",
   "name": "python3"
  },
  "language_info": {
   "codemirror_mode": {
    "name": "ipython",
    "version": 3
   },
   "file_extension": ".py",
   "mimetype": "text/x-python",
   "name": "python",
   "nbconvert_exporter": "python",
   "pygments_lexer": "ipython3",
   "version": "3.13.5"
  }
 },
 "nbformat": 4,
 "nbformat_minor": 5
}
